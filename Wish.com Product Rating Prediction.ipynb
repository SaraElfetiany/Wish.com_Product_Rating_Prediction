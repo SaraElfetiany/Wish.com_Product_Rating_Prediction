{
  "cells": [
    {
      "cell_type": "code",
      "execution_count": 69,
      "metadata": {
        "id": "WJA8_OKJeEIA"
      },
      "outputs": [],
      "source": [
        "import pandas as pd\n",
        "import numpy as np\n",
        "import seaborn as sns\n",
        "import matplotlib.pyplot as plt  "
      ]
    },
    {
      "cell_type": "markdown",
      "metadata": {
        "id": "_Qb_l1yLY5EV"
      },
      "source": [
        "# Load Data & Analysis"
      ]
    },
    {
      "cell_type": "code",
      "execution_count": 70,
      "metadata": {
        "id": "4GBDgr9MjQBZ"
      },
      "outputs": [],
      "source": [
        "# Loading the data from csv files\n",
        "\n",
        "train = pd.read_csv('data/train_new.csv')\n",
        "test = pd.read_csv('data/test_new.csv')"
      ]
    },
    {
      "cell_type": "code",
      "execution_count": 71,
      "metadata": {
        "colab": {
          "base_uri": "https://localhost:8080/",
          "height": 0
        },
        "id": "q7ca1BjIjgPA",
        "outputId": "c857619e-9f7f-4325-ffaa-609f96f2abbf"
      },
      "outputs": [
        {
          "data": {
            "text/html": [
              "\n",
              "  <div id=\"df-e57528b2-250a-4de6-b08f-7ecc0089289b\">\n",
              "    <div class=\"colab-df-container\">\n",
              "      <div>\n",
              "<style scoped>\n",
              "    .dataframe tbody tr th:only-of-type {\n",
              "        vertical-align: middle;\n",
              "    }\n",
              "\n",
              "    .dataframe tbody tr th {\n",
              "        vertical-align: top;\n",
              "    }\n",
              "\n",
              "    .dataframe thead th {\n",
              "        text-align: right;\n",
              "    }\n",
              "</style>\n",
              "<table border=\"1\" class=\"dataframe\">\n",
              "  <thead>\n",
              "    <tr style=\"text-align: right;\">\n",
              "      <th></th>\n",
              "      <th>price</th>\n",
              "      <th>retail_price</th>\n",
              "      <th>currency_buyer</th>\n",
              "      <th>units_sold</th>\n",
              "      <th>uses_ad_boosts</th>\n",
              "      <th>rating</th>\n",
              "      <th>rating_count</th>\n",
              "      <th>badges_count</th>\n",
              "      <th>badge_local_product</th>\n",
              "      <th>badge_product_quality</th>\n",
              "      <th>badge_fast_shipping</th>\n",
              "      <th>tags</th>\n",
              "      <th>product_color</th>\n",
              "      <th>product_variation_size_id</th>\n",
              "      <th>product_variation_inventory</th>\n",
              "      <th>shipping_option_name</th>\n",
              "      <th>shipping_option_price</th>\n",
              "      <th>shipping_is_express</th>\n",
              "      <th>countries_shipped_to</th>\n",
              "      <th>inventory_total</th>\n",
              "      <th>has_urgency_banner</th>\n",
              "      <th>urgency_text</th>\n",
              "      <th>origin_country</th>\n",
              "      <th>merchant_title</th>\n",
              "      <th>merchant_name</th>\n",
              "      <th>merchant_info_subtitle</th>\n",
              "      <th>merchant_rating_count</th>\n",
              "      <th>merchant_rating</th>\n",
              "      <th>merchant_id</th>\n",
              "      <th>merchant_has_profile_picture</th>\n",
              "      <th>merchant_profile_picture</th>\n",
              "      <th>theme</th>\n",
              "      <th>crawl_month</th>\n",
              "      <th>id</th>\n",
              "    </tr>\n",
              "  </thead>\n",
              "  <tbody>\n",
              "    <tr>\n",
              "      <th>0</th>\n",
              "      <td>8.00</td>\n",
              "      <td>7</td>\n",
              "      <td>EUR</td>\n",
              "      <td>10000</td>\n",
              "      <td>1</td>\n",
              "      <td>4.0</td>\n",
              "      <td>1670</td>\n",
              "      <td>0</td>\n",
              "      <td>0</td>\n",
              "      <td>0</td>\n",
              "      <td>0</td>\n",
              "      <td>Summer,soildcolor,Plus Size,Tank,camisole,Tops...</td>\n",
              "      <td>yellow</td>\n",
              "      <td>M</td>\n",
              "      <td>50</td>\n",
              "      <td>Livraison standard</td>\n",
              "      <td>3</td>\n",
              "      <td>0</td>\n",
              "      <td>30</td>\n",
              "      <td>50</td>\n",
              "      <td>NaN</td>\n",
              "      <td>NaN</td>\n",
              "      <td>CN</td>\n",
              "      <td>keepahorse</td>\n",
              "      <td>keepahorse</td>\n",
              "      <td>88 % avis positifs (66,644 notes)</td>\n",
              "      <td>66644</td>\n",
              "      <td>4.137582</td>\n",
              "      <td>577fb2b368116418674befd9</td>\n",
              "      <td>1</td>\n",
              "      <td>https://s3-us-west-1.amazonaws.com/sweeper-pro...</td>\n",
              "      <td>summer</td>\n",
              "      <td>2020-08</td>\n",
              "      <td>272</td>\n",
              "    </tr>\n",
              "    <tr>\n",
              "      <th>1</th>\n",
              "      <td>8.00</td>\n",
              "      <td>7</td>\n",
              "      <td>EUR</td>\n",
              "      <td>1000</td>\n",
              "      <td>0</td>\n",
              "      <td>4.0</td>\n",
              "      <td>843</td>\n",
              "      <td>1</td>\n",
              "      <td>1</td>\n",
              "      <td>0</td>\n",
              "      <td>0</td>\n",
              "      <td>bathing suit,Plus Size,bikini set,sexy swimsui...</td>\n",
              "      <td>black</td>\n",
              "      <td>L</td>\n",
              "      <td>50</td>\n",
              "      <td>Livraison standard</td>\n",
              "      <td>3</td>\n",
              "      <td>0</td>\n",
              "      <td>37</td>\n",
              "      <td>50</td>\n",
              "      <td>NaN</td>\n",
              "      <td>NaN</td>\n",
              "      <td>CN</td>\n",
              "      <td>shanghaimingqidianqikejiyouxiangongsi</td>\n",
              "      <td>上海铭启电气科技有限公司</td>\n",
              "      <td>91 % avis positifs (25,752 notes)</td>\n",
              "      <td>25752</td>\n",
              "      <td>4.256873</td>\n",
              "      <td>566a3ef17233ff2686443082</td>\n",
              "      <td>0</td>\n",
              "      <td>NaN</td>\n",
              "      <td>summer</td>\n",
              "      <td>2020-08</td>\n",
              "      <td>1515</td>\n",
              "    </tr>\n",
              "    <tr>\n",
              "      <th>2</th>\n",
              "      <td>6.00</td>\n",
              "      <td>34</td>\n",
              "      <td>EUR</td>\n",
              "      <td>100</td>\n",
              "      <td>0</td>\n",
              "      <td>4.0</td>\n",
              "      <td>10</td>\n",
              "      <td>0</td>\n",
              "      <td>0</td>\n",
              "      <td>0</td>\n",
              "      <td>0</td>\n",
              "      <td>Summer,Vest,momshirt,Get,summer t-shirts,funny...</td>\n",
              "      <td>white</td>\n",
              "      <td>L</td>\n",
              "      <td>50</td>\n",
              "      <td>Livraison standard</td>\n",
              "      <td>2</td>\n",
              "      <td>0</td>\n",
              "      <td>41</td>\n",
              "      <td>50</td>\n",
              "      <td>NaN</td>\n",
              "      <td>NaN</td>\n",
              "      <td>CN</td>\n",
              "      <td>zhaodongmei</td>\n",
              "      <td>zhaodongmei</td>\n",
              "      <td>83 % avis positifs (3,897 notes)</td>\n",
              "      <td>3897</td>\n",
              "      <td>3.928920</td>\n",
              "      <td>5aacd6c1ccf0c83e5a6f3de0</td>\n",
              "      <td>0</td>\n",
              "      <td>NaN</td>\n",
              "      <td>summer</td>\n",
              "      <td>2020-08</td>\n",
              "      <td>940</td>\n",
              "    </tr>\n",
              "    <tr>\n",
              "      <th>3</th>\n",
              "      <td>4.67</td>\n",
              "      <td>4</td>\n",
              "      <td>EUR</td>\n",
              "      <td>100</td>\n",
              "      <td>1</td>\n",
              "      <td>3.0</td>\n",
              "      <td>82</td>\n",
              "      <td>0</td>\n",
              "      <td>0</td>\n",
              "      <td>0</td>\n",
              "      <td>0</td>\n",
              "      <td>Summer,Shorts,pants,Beach,Plus Size,beachpant,...</td>\n",
              "      <td>lakeblue</td>\n",
              "      <td>XS</td>\n",
              "      <td>5</td>\n",
              "      <td>Livraison standard</td>\n",
              "      <td>1</td>\n",
              "      <td>0</td>\n",
              "      <td>25</td>\n",
              "      <td>50</td>\n",
              "      <td>NaN</td>\n",
              "      <td>NaN</td>\n",
              "      <td>CN</td>\n",
              "      <td>pookie0331</td>\n",
              "      <td>pookie0331</td>\n",
              "      <td>87 % avis positifs (7,497 notes)</td>\n",
              "      <td>7497</td>\n",
              "      <td>4.079365</td>\n",
              "      <td>583141fbfef4094e51453d9b</td>\n",
              "      <td>0</td>\n",
              "      <td>NaN</td>\n",
              "      <td>summer</td>\n",
              "      <td>2020-08</td>\n",
              "      <td>309</td>\n",
              "    </tr>\n",
              "    <tr>\n",
              "      <th>4</th>\n",
              "      <td>8.00</td>\n",
              "      <td>11</td>\n",
              "      <td>EUR</td>\n",
              "      <td>1000</td>\n",
              "      <td>0</td>\n",
              "      <td>4.0</td>\n",
              "      <td>127</td>\n",
              "      <td>0</td>\n",
              "      <td>0</td>\n",
              "      <td>0</td>\n",
              "      <td>0</td>\n",
              "      <td>Summer,Floral print,women dresses,fashion dres...</td>\n",
              "      <td>apricot</td>\n",
              "      <td>S</td>\n",
              "      <td>50</td>\n",
              "      <td>Livraison standard</td>\n",
              "      <td>3</td>\n",
              "      <td>0</td>\n",
              "      <td>15</td>\n",
              "      <td>50</td>\n",
              "      <td>1.0</td>\n",
              "      <td>Quantité limitée !</td>\n",
              "      <td>CN</td>\n",
              "      <td>shitongyi12683626</td>\n",
              "      <td>shitongyi12683626</td>\n",
              "      <td>91 % avis positifs (173 notes)</td>\n",
              "      <td>173</td>\n",
              "      <td>4.306358</td>\n",
              "      <td>5d3bc9f8e13a7e654424a4cb</td>\n",
              "      <td>0</td>\n",
              "      <td>NaN</td>\n",
              "      <td>summer</td>\n",
              "      <td>2020-08</td>\n",
              "      <td>226</td>\n",
              "    </tr>\n",
              "  </tbody>\n",
              "</table>\n",
              "</div>\n",
              "      <button class=\"colab-df-convert\" onclick=\"convertToInteractive('df-e57528b2-250a-4de6-b08f-7ecc0089289b')\"\n",
              "              title=\"Convert this dataframe to an interactive table.\"\n",
              "              style=\"display:none;\">\n",
              "        \n",
              "  <svg xmlns=\"http://www.w3.org/2000/svg\" height=\"24px\"viewBox=\"0 0 24 24\"\n",
              "       width=\"24px\">\n",
              "    <path d=\"M0 0h24v24H0V0z\" fill=\"none\"/>\n",
              "    <path d=\"M18.56 5.44l.94 2.06.94-2.06 2.06-.94-2.06-.94-.94-2.06-.94 2.06-2.06.94zm-11 1L8.5 8.5l.94-2.06 2.06-.94-2.06-.94L8.5 2.5l-.94 2.06-2.06.94zm10 10l.94 2.06.94-2.06 2.06-.94-2.06-.94-.94-2.06-.94 2.06-2.06.94z\"/><path d=\"M17.41 7.96l-1.37-1.37c-.4-.4-.92-.59-1.43-.59-.52 0-1.04.2-1.43.59L10.3 9.45l-7.72 7.72c-.78.78-.78 2.05 0 2.83L4 21.41c.39.39.9.59 1.41.59.51 0 1.02-.2 1.41-.59l7.78-7.78 2.81-2.81c.8-.78.8-2.07 0-2.86zM5.41 20L4 18.59l7.72-7.72 1.47 1.35L5.41 20z\"/>\n",
              "  </svg>\n",
              "      </button>\n",
              "      \n",
              "  <style>\n",
              "    .colab-df-container {\n",
              "      display:flex;\n",
              "      flex-wrap:wrap;\n",
              "      gap: 12px;\n",
              "    }\n",
              "\n",
              "    .colab-df-convert {\n",
              "      background-color: #E8F0FE;\n",
              "      border: none;\n",
              "      border-radius: 50%;\n",
              "      cursor: pointer;\n",
              "      display: none;\n",
              "      fill: #1967D2;\n",
              "      height: 32px;\n",
              "      padding: 0 0 0 0;\n",
              "      width: 32px;\n",
              "    }\n",
              "\n",
              "    .colab-df-convert:hover {\n",
              "      background-color: #E2EBFA;\n",
              "      box-shadow: 0px 1px 2px rgba(60, 64, 67, 0.3), 0px 1px 3px 1px rgba(60, 64, 67, 0.15);\n",
              "      fill: #174EA6;\n",
              "    }\n",
              "\n",
              "    [theme=dark] .colab-df-convert {\n",
              "      background-color: #3B4455;\n",
              "      fill: #D2E3FC;\n",
              "    }\n",
              "\n",
              "    [theme=dark] .colab-df-convert:hover {\n",
              "      background-color: #434B5C;\n",
              "      box-shadow: 0px 1px 3px 1px rgba(0, 0, 0, 0.15);\n",
              "      filter: drop-shadow(0px 1px 2px rgba(0, 0, 0, 0.3));\n",
              "      fill: #FFFFFF;\n",
              "    }\n",
              "  </style>\n",
              "\n",
              "      <script>\n",
              "        const buttonEl =\n",
              "          document.querySelector('#df-e57528b2-250a-4de6-b08f-7ecc0089289b button.colab-df-convert');\n",
              "        buttonEl.style.display =\n",
              "          google.colab.kernel.accessAllowed ? 'block' : 'none';\n",
              "\n",
              "        async function convertToInteractive(key) {\n",
              "          const element = document.querySelector('#df-e57528b2-250a-4de6-b08f-7ecc0089289b');\n",
              "          const dataTable =\n",
              "            await google.colab.kernel.invokeFunction('convertToInteractive',\n",
              "                                                     [key], {});\n",
              "          if (!dataTable) return;\n",
              "\n",
              "          const docLinkHtml = 'Like what you see? Visit the ' +\n",
              "            '<a target=\"_blank\" href=https://colab.research.google.com/notebooks/data_table.ipynb>data table notebook</a>'\n",
              "            + ' to learn more about interactive tables.';\n",
              "          element.innerHTML = '';\n",
              "          dataTable['output_type'] = 'display_data';\n",
              "          await google.colab.output.renderOutput(dataTable, element);\n",
              "          const docLink = document.createElement('div');\n",
              "          docLink.innerHTML = docLinkHtml;\n",
              "          element.appendChild(docLink);\n",
              "        }\n",
              "      </script>\n",
              "    </div>\n",
              "  </div>\n",
              "  "
            ],
            "text/plain": [
              "   price  retail_price currency_buyer  ...   theme  crawl_month    id\n",
              "0   8.00             7            EUR  ...  summer      2020-08   272\n",
              "1   8.00             7            EUR  ...  summer      2020-08  1515\n",
              "2   6.00            34            EUR  ...  summer      2020-08   940\n",
              "3   4.67             4            EUR  ...  summer      2020-08   309\n",
              "4   8.00            11            EUR  ...  summer      2020-08   226\n",
              "\n",
              "[5 rows x 34 columns]"
            ]
          },
          "execution_count": 71,
          "metadata": {},
          "output_type": "execute_result"
        }
      ],
      "source": [
        "# Look at first records of the data \n",
        "train.head()"
      ]
    },
    {
      "cell_type": "code",
      "execution_count": 72,
      "metadata": {
        "colab": {
          "base_uri": "https://localhost:8080/"
        },
        "id": "luTJKNVeBFWU",
        "outputId": "d505a265-34d8-4790-b942-fe8c29196606"
      },
      "outputs": [
        {
          "name": "stdout",
          "output_type": "stream",
          "text": [
            "<class 'pandas.core.frame.DataFrame'>\n",
            "RangeIndex: 1094 entries, 0 to 1093\n",
            "Data columns (total 34 columns):\n",
            " #   Column                        Non-Null Count  Dtype  \n",
            "---  ------                        --------------  -----  \n",
            " 0   price                         1094 non-null   float64\n",
            " 1   retail_price                  1094 non-null   int64  \n",
            " 2   currency_buyer                1094 non-null   object \n",
            " 3   units_sold                    1094 non-null   int64  \n",
            " 4   uses_ad_boosts                1094 non-null   int64  \n",
            " 5   rating                        1094 non-null   float64\n",
            " 6   rating_count                  1094 non-null   int64  \n",
            " 7   badges_count                  1094 non-null   int64  \n",
            " 8   badge_local_product           1094 non-null   int64  \n",
            " 9   badge_product_quality         1094 non-null   int64  \n",
            " 10  badge_fast_shipping           1094 non-null   int64  \n",
            " 11  tags                          1094 non-null   object \n",
            " 12  product_color                 1065 non-null   object \n",
            " 13  product_variation_size_id     1082 non-null   object \n",
            " 14  product_variation_inventory   1094 non-null   int64  \n",
            " 15  shipping_option_name          1094 non-null   object \n",
            " 16  shipping_option_price         1094 non-null   int64  \n",
            " 17  shipping_is_express           1094 non-null   int64  \n",
            " 18  countries_shipped_to          1094 non-null   int64  \n",
            " 19  inventory_total               1094 non-null   int64  \n",
            " 20  has_urgency_banner            349 non-null    float64\n",
            " 21  urgency_text                  349 non-null    object \n",
            " 22  origin_country                1082 non-null   object \n",
            " 23  merchant_title                1094 non-null   object \n",
            " 24  merchant_name                 1090 non-null   object \n",
            " 25  merchant_info_subtitle        1094 non-null   object \n",
            " 26  merchant_rating_count         1094 non-null   int64  \n",
            " 27  merchant_rating               1094 non-null   float64\n",
            " 28  merchant_id                   1094 non-null   object \n",
            " 29  merchant_has_profile_picture  1094 non-null   int64  \n",
            " 30  merchant_profile_picture      170 non-null    object \n",
            " 31  theme                         1094 non-null   object \n",
            " 32  crawl_month                   1094 non-null   object \n",
            " 33  id                            1094 non-null   int64  \n",
            "dtypes: float64(4), int64(16), object(14)\n",
            "memory usage: 290.7+ KB\n"
          ]
        }
      ],
      "source": [
        "# show the information of the train dataset\n",
        "train.info()"
      ]
    },
    {
      "cell_type": "markdown",
      "metadata": {
        "id": "SCZaTk6POkXF"
      },
      "source": [
        "# Defining the problem"
      ]
    },
    {
      "cell_type": "markdown",
      "metadata": {
        "id": "EG7iwHNbO_HM"
      },
      "source": [
        "### What is the input?\n",
        "\n",
        "\n",
        "\n"
      ]
    },
    {
      "cell_type": "markdown",
      "metadata": {
        "id": "LI3RWLu5POXz"
      },
      "source": [
        "the input data representing e-commerce site (wish.com) product \n",
        "\n",
        "*   conisting of 33 features that represent each product \n",
        "*   this data contain some noise and missing data which need to clean and preprocessed\n",
        "\n",
        "\n"
      ]
    },
    {
      "cell_type": "markdown",
      "metadata": {
        "id": "Lh4P8Pf2RtC7"
      },
      "source": [
        "### What is the output?\n"
      ]
    },
    {
      "cell_type": "markdown",
      "metadata": {
        "id": "tfogqJlZSBOO"
      },
      "source": [
        "The output is the rating of the prodect \n",
        "\n",
        "\n",
        "*   Ratings are in categories from 1 to 5\n",
        "\n",
        "\n"
      ]
    },
    {
      "cell_type": "markdown",
      "metadata": {
        "id": "V88cNuLOSp7e"
      },
      "source": [
        "### What data mining function is required?"
      ]
    },
    {
      "cell_type": "markdown",
      "metadata": {
        "id": "i7P-930fTHrI"
      },
      "source": [
        "As I understand from this part of the slide\n",
        "\n",
        "\n",
        "```\n",
        "Data Mining Functions\n",
        "1. Generalization and Summarization\n",
        "2. Association and Correlation\n",
        "3. Classification & Prediction\n",
        "4. Clustering\n",
        "5. Outlier/Anomaly Analysis\n",
        "6. Time and Ordering \n",
        "7. Structure and Network Analysis\n",
        "```\n",
        "\n",
        "The data mining in this problem requires Classification & Prediction After making Outlier/Anomaly Analysis and cleaning the data\n"
      ]
    },
    {
      "cell_type": "markdown",
      "metadata": {
        "id": "3cNfm22JTIs9"
      },
      "source": [
        "### What could be the challenges?"
      ]
    },
    {
      "cell_type": "markdown",
      "metadata": {
        "id": "SgXlNDGyTPEt"
      },
      "source": [
        "The Challenges represented in:\n",
        "\n",
        "\n",
        "*   Missing data\n",
        "*   Noise data\n",
        "*   Columns (or Features) that contain incompateble data type or data scale\n",
        "*   Columns (or Features) that contain text with different language\n",
        "*   Columns (or Features) which consider useles and need to be removed to reduce the dimintionality\n",
        "*   Rating values greater than 5\n",
        "\n",
        "\n",
        "\n",
        "\n",
        "\n",
        "\n"
      ]
    },
    {
      "cell_type": "markdown",
      "metadata": {
        "id": "wUrv-fxXTPWj"
      },
      "source": [
        "### What is the impact?"
      ]
    },
    {
      "cell_type": "markdown",
      "metadata": {
        "id": "JPmpbe4wTYUz"
      },
      "source": [
        "The impact of using the raw data as it is, without cleaning and reprocessing, will result a model with low accuracy that doesn't learn well or a desired from the data in the traing stage\n",
        "\n",
        "\n",
        "---\n",
        "\n",
        "the real-life impact of building a model that solve this problem is represent in making the e-commerce site (wish) predict the rating of product before the user rate it using the built model and this will lead to present the appropraite products for each user which will result the rais of customers satisfication in addition to increase the compainy profit \n"
      ]
    },
    {
      "cell_type": "markdown",
      "metadata": {
        "id": "4yjhAPTaTYgP"
      },
      "source": [
        "### What is an ideal solution?"
      ]
    },
    {
      "cell_type": "markdown",
      "metadata": {
        "id": "smtxsp6rTe6q"
      },
      "source": [
        "the ideal solution is to clean and preprocess the data before working with it\n",
        "\n",
        "\n",
        "\n",
        "> Some of the possible solutions are:\n",
        "\n",
        "\n",
        "\n",
        "*   Filling the missing data with approprait value \n",
        "*   Replace rating values greater than 5\n",
        "*   Try to edit the values of Columns (or Features) that contain incompateble data type or data scale in order to make it have the sapme datatype or range\n",
        "*   Replace the values of Columns (or Features) that contain text with different language with translated text\n",
        "*   Drop useless Columns (or Features) in order to reduce the dimintionality\n",
        "\n",
        "\n",
        "\n",
        "\n",
        "\n",
        "\n"
      ]
    },
    {
      "cell_type": "markdown",
      "metadata": {
        "id": "yzijuPO0fkKC"
      },
      "source": [
        "### What is the experimental protocol used and how was it carried out? "
      ]
    },
    {
      "cell_type": "markdown",
      "metadata": {
        "id": "7t0TqNx_fqp3"
      },
      "source": [
        "after loding the data and cleaning and preprocessing it, then encodig it using lable encoding or one hot encoding, the experimental protocol used is spliting the training dataset into train and test to fit the model using the new train data and measure the perormance (f1_score) of the model using the new test data and then make the prediction by using the original test dataset\n"
      ]
    },
    {
      "cell_type": "markdown",
      "metadata": {
        "id": "_Qo-uOPBfrje"
      },
      "source": [
        "### What preprocessing steps are used?\n"
      ]
    },
    {
      "cell_type": "markdown",
      "metadata": {
        "id": "KZW8oroKfysp"
      },
      "source": [
        "*   view the data and understand it\n",
        "*   using df.info() to get mor insight about the data\n",
        "*   check the missing data using df.isna().sum()\n",
        "*   removing featuers that contain same value for all the data point as it won't affect the learning of the model or the prediction resuls \n",
        "*   analysis each feature independently in order to:\n",
        "  -   add approprait value for missing data\n",
        "  -   replace noise data with suitable value\n",
        "  -   translate text values that writen in different language\n",
        "  -   adjust columns value that contain different datatype or different range  \n"
      ]
    },
    {
      "cell_type": "markdown",
      "metadata": {
        "id": "zQ1Rz4hiZHSq"
      },
      "source": [
        "# Data Cleaning and Preprocessing"
      ]
    },
    {
      "cell_type": "markdown",
      "metadata": {
        "id": "z7GhXCHFZZnh"
      },
      "source": [
        "## Remove unwanted data\n"
      ]
    },
    {
      "cell_type": "code",
      "execution_count": 73,
      "metadata": {
        "id": "NwZaIzwRmEi6"
      },
      "outputs": [],
      "source": [
        "# Specify the columns that will be dropped\n",
        "\n",
        "# Remove columns that contain the same values as it wouldn't affect the prediction\n",
        "columns_with_same_values = [col for col in train.columns if len(train[col].unique()) == 1]\n",
        "\n",
        "# Remove columns that contain pictures as it wouldn't affect the prediction only the columns that reflect if picture exist or not may affect the prediction\n",
        "picture_columns = [col for col in train.columns if ('picture' in col and 'has' not in col)]\n",
        "\n",
        "skiped_cols = columns_with_same_values + picture_columns\n",
        "\n"
      ]
    },
    {
      "cell_type": "code",
      "execution_count": 74,
      "metadata": {
        "id": "ImrN_0iOwBh8"
      },
      "outputs": [],
      "source": [
        "# Drop useless features from train and test datasets\n",
        "train = train.drop(columns=skiped_cols)\n",
        "test = test.drop(columns=skiped_cols)"
      ]
    },
    {
      "cell_type": "markdown",
      "metadata": {
        "id": "YQzjBQW-ZsFa"
      },
      "source": [
        "## Rating and Has urgency banner (Data Analysis and Cleaning)"
      ]
    },
    {
      "cell_type": "code",
      "execution_count": 75,
      "metadata": {
        "id": "ucjzA4ovWUyR"
      },
      "outputs": [],
      "source": [
        "# check if tha data contain any rating greater than 5 and if there then set it to 5\n",
        "if len(train[train['rating'] > 5]) > 0 :\n",
        "  train.loc[train['rating'] > 5 , 'rating'] = 5 "
      ]
    },
    {
      "cell_type": "code",
      "execution_count": 76,
      "metadata": {
        "colab": {
          "base_uri": "https://localhost:8080/"
        },
        "id": "kD5KJNt5UFBA",
        "outputId": "d49e4c04-e59e-4f83-8669-dccbc291fa44"
      },
      "outputs": [
        {
          "data": {
            "text/plain": [
              "price                             0\n",
              "retail_price                      0\n",
              "units_sold                        0\n",
              "uses_ad_boosts                    0\n",
              "rating                            0\n",
              "rating_count                      0\n",
              "badges_count                      0\n",
              "badge_local_product               0\n",
              "badge_product_quality             0\n",
              "badge_fast_shipping               0\n",
              "tags                              0\n",
              "product_color                    29\n",
              "product_variation_size_id        12\n",
              "product_variation_inventory       0\n",
              "shipping_option_name              0\n",
              "shipping_option_price             0\n",
              "shipping_is_express               0\n",
              "countries_shipped_to              0\n",
              "inventory_total                   0\n",
              "has_urgency_banner              745\n",
              "urgency_text                    745\n",
              "origin_country                   12\n",
              "merchant_title                    0\n",
              "merchant_name                     4\n",
              "merchant_info_subtitle            0\n",
              "merchant_rating_count             0\n",
              "merchant_rating                   0\n",
              "merchant_id                       0\n",
              "merchant_has_profile_picture      0\n",
              "id                                0\n",
              "dtype: int64"
            ]
          },
          "execution_count": 76,
          "metadata": {},
          "output_type": "execute_result"
        }
      ],
      "source": [
        "# check if there any missing values and counting them for each feature\n",
        "train.isna().sum()"
      ]
    },
    {
      "cell_type": "code",
      "execution_count": 77,
      "metadata": {
        "id": "09yLE-Fc7U89"
      },
      "outputs": [],
      "source": [
        "# Replace NA Urgency Banner with 0 \n",
        "train['has_urgency_banner'] = train['has_urgency_banner'].replace(np.nan, 0)\n",
        "\n",
        "test['has_urgency_banner'] = test['has_urgency_banner'].replace(np.nan, 0)"
      ]
    },
    {
      "cell_type": "markdown",
      "metadata": {
        "id": "YiYxqodnaRAa"
      },
      "source": [
        "## Origin country (Data Analysis and Cleaning)"
      ]
    },
    {
      "cell_type": "code",
      "execution_count": 78,
      "metadata": {
        "colab": {
          "base_uri": "https://localhost:8080/"
        },
        "id": "mJA2gEL2CHzv",
        "outputId": "2671dc33-5631-498e-c27e-9c123d17d318"
      },
      "outputs": [
        {
          "data": {
            "text/plain": [
              "CN    1054\n",
              "US      22\n",
              "VE       3\n",
              "SG       2\n",
              "GB       1\n",
              "Name: origin_country, dtype: int64"
            ]
          },
          "execution_count": 78,
          "metadata": {},
          "output_type": "execute_result"
        }
      ],
      "source": [
        "# Analysis country data\n",
        "country_cnt = train['origin_country'].value_counts()\n",
        "country_cnt"
      ]
    },
    {
      "cell_type": "code",
      "execution_count": 79,
      "metadata": {
        "colab": {
          "base_uri": "https://localhost:8080/",
          "height": 498
        },
        "id": "2YL8TAK3B-Bn",
        "outputId": "9e1462d1-6bd2-49db-eb12-ed8711c6a82e"
      },
      "outputs": [
        {
          "name": "stderr",
          "output_type": "stream",
          "text": [
            "/usr/local/lib/python3.7/dist-packages/seaborn/_decorators.py:43: FutureWarning: Pass the following variable as a keyword arg: x. From version 0.12, the only valid positional argument will be `data`, and passing other arguments without an explicit keyword will result in an error or misinterpretation.\n",
            "  FutureWarning\n"
          ]
        },
        {
          "data": {
            "image/png": "[encoded data removed]",
            "text/plain": [
              "<Figure size 648x504 with 1 Axes>"
            ]
          },
          "metadata": {
            "needs_background": "light"
          },
          "output_type": "display_data"
        }
      ],
      "source": [
        "# plot a figure for country data counting\n",
        "fig, ax = plt.subplots(figsize=(9, 7))\n",
        "sns.countplot('origin_country',\n",
        "              data = train,\n",
        "              ax = ax)\n",
        "plt.show()"
      ]
    },
    {
      "cell_type": "code",
      "execution_count": 80,
      "metadata": {
        "id": "VdVsrwY1DhiG"
      },
      "outputs": [],
      "source": [
        "# Set missing and low counted countries to 'Other'\n",
        "# Replace NA values with 'Other'\n",
        "\n",
        "common_countries = ['CN', 'US']\n",
        "train.loc[[idx for idx, x in enumerate(train['origin_country']) if x not in common_countries], ['origin_country']] = 'Other'\n",
        "test.loc[[idx for idx, x in enumerate(test['origin_country']) if x not in common_countries], ['origin_country']] = 'Other'"
      ]
    },
    {
      "cell_type": "code",
      "execution_count": 81,
      "metadata": {
        "colab": {
          "base_uri": "https://localhost:8080/"
        },
        "id": "YKrQmpq5EYHl",
        "outputId": "e039526b-404d-4f64-e464-612fbc261c1d"
      },
      "outputs": [
        {
          "data": {
            "text/plain": [
              "CN       1054\n",
              "US         22\n",
              "Other      18\n",
              "Name: origin_country, dtype: int64"
            ]
          },
          "execution_count": 81,
          "metadata": {},
          "output_type": "execute_result"
        }
      ],
      "source": [
        "# recount country data after cleanig and changing that happend on it\n",
        "country_cnt = train['origin_country'].value_counts()\n",
        "country_cnt"
      ]
    },
    {
      "cell_type": "code",
      "execution_count": 82,
      "metadata": {
        "colab": {
          "base_uri": "https://localhost:8080/",
          "height": 352
        },
        "id": "bYSkxv2bGmGf",
        "outputId": "df598512-9ab2-4a8c-bfcd-bd9e75d40831"
      },
      "outputs": [
        {
          "name": "stderr",
          "output_type": "stream",
          "text": [
            "/usr/local/lib/python3.7/dist-packages/seaborn/_decorators.py:43: FutureWarning: Pass the following variable as a keyword arg: x. From version 0.12, the only valid positional argument will be `data`, and passing other arguments without an explicit keyword will result in an error or misinterpretation.\n",
            "  FutureWarning\n"
          ]
        },
        {
          "data": {
            "text/plain": [
              "<matplotlib.axes._subplots.AxesSubplot at 0x7f09b7ec7d10>"
            ]
          },
          "execution_count": 82,
          "metadata": {},
          "output_type": "execute_result"
        },
        {
          "data": {
            "image/png": "[encoded data removed]",
            "text/plain": [
              "<Figure size 432x288 with 1 Axes>"
            ]
          },
          "metadata": {
            "needs_background": "light"
          },
          "output_type": "display_data"
        }
      ],
      "source": [
        "# plot a figure for country data counting after cleaning it\n",
        "sns.countplot('origin_country',\n",
        "              data = train)\n"
      ]
    },
    {
      "cell_type": "code",
      "execution_count": 83,
      "metadata": {
        "colab": {
          "base_uri": "https://localhost:8080/"
        },
        "id": "QXy3qziTHMI8",
        "outputId": "dca6aea2-4d29-4d3f-af01-4892bcbdd00e"
      },
      "outputs": [
        {
          "data": {
            "text/plain": [
              "price                             0\n",
              "retail_price                      0\n",
              "units_sold                        0\n",
              "uses_ad_boosts                    0\n",
              "rating                            0\n",
              "rating_count                      0\n",
              "badges_count                      0\n",
              "badge_local_product               0\n",
              "badge_product_quality             0\n",
              "badge_fast_shipping               0\n",
              "tags                              0\n",
              "product_color                    29\n",
              "product_variation_size_id        12\n",
              "product_variation_inventory       0\n",
              "shipping_option_name              0\n",
              "shipping_option_price             0\n",
              "shipping_is_express               0\n",
              "countries_shipped_to              0\n",
              "inventory_total                   0\n",
              "has_urgency_banner                0\n",
              "urgency_text                    745\n",
              "origin_country                    0\n",
              "merchant_title                    0\n",
              "merchant_name                     4\n",
              "merchant_info_subtitle            0\n",
              "merchant_rating_count             0\n",
              "merchant_rating                   0\n",
              "merchant_id                       0\n",
              "merchant_has_profile_picture      0\n",
              "id                                0\n",
              "dtype: int64"
            ]
          },
          "execution_count": 83,
          "metadata": {},
          "output_type": "execute_result"
        }
      ],
      "source": [
        "# check the missing values on the training data and counting them for each feature\n",
        "train.isna().sum()"
      ]
    },
    {
      "cell_type": "code",
      "execution_count": 84,
      "metadata": {
        "colab": {
          "base_uri": "https://localhost:8080/"
        },
        "id": "JmwF_bhgfCE2",
        "outputId": "56917fe6-7e8a-49a6-834a-85130973355f"
      },
      "outputs": [
        {
          "data": {
            "text/plain": [
              "price                             0\n",
              "retail_price                      0\n",
              "units_sold                        0\n",
              "uses_ad_boosts                    0\n",
              "rating_count                      0\n",
              "badges_count                      0\n",
              "badge_local_product               0\n",
              "badge_product_quality             0\n",
              "badge_fast_shipping               0\n",
              "tags                              0\n",
              "product_color                    12\n",
              "product_variation_size_id         2\n",
              "product_variation_inventory       0\n",
              "shipping_option_name              0\n",
              "shipping_option_price             0\n",
              "shipping_is_express               0\n",
              "countries_shipped_to              0\n",
              "inventory_total                   0\n",
              "has_urgency_banner                0\n",
              "urgency_text                    355\n",
              "origin_country                    0\n",
              "merchant_title                    0\n",
              "merchant_name                     0\n",
              "merchant_info_subtitle            1\n",
              "merchant_rating_count             0\n",
              "merchant_rating                   0\n",
              "merchant_id                       0\n",
              "merchant_has_profile_picture      0\n",
              "id                                0\n",
              "dtype: int64"
            ]
          },
          "execution_count": 84,
          "metadata": {},
          "output_type": "execute_result"
        }
      ],
      "source": [
        "# check the missing values on the testing data and counting them for each feature\n",
        "test.isna().sum()"
      ]
    },
    {
      "cell_type": "markdown",
      "metadata": {
        "id": "n6bMUy1jahRK"
      },
      "source": [
        "## Product variation size id (Data Analysis and Cleaning)"
      ]
    },
    {
      "cell_type": "code",
      "execution_count": 85,
      "metadata": {
        "colab": {
          "base_uri": "https://localhost:8080/"
        },
        "id": "ss6Mxr2NCiJK",
        "outputId": "eead5cda-c6d6-49d2-f7ef-74b7b8f8349d"
      },
      "outputs": [
        {
          "data": {
            "text/plain": [
              "S            444\n",
              "XS           248\n",
              "M            135\n",
              "XXS           76\n",
              "L             29\n",
              "S.            13\n",
              "XL            12\n",
              "XXL           11\n",
              "XXXS           5\n",
              "M.             4\n",
              "Size-XS        4\n",
              "Size S         4\n",
              "4XL            4\n",
              "XS.            4\n",
              "Size-S         3\n",
              "2XL            3\n",
              "10 ml          3\n",
              "s              3\n",
              "Size M         2\n",
              "35             2\n",
              "Size4XL        2\n",
              "Size -XXS      2\n",
              "SizeL          2\n",
              "25             2\n",
              "SIZE XS        2\n",
              "29             2\n",
              "S Pink         2\n",
              "XXXXXL         2\n",
              "33             2\n",
              "2pcs           2\n",
              "Name: product_variation_size_id, dtype: int64"
            ]
          },
          "execution_count": 85,
          "metadata": {},
          "output_type": "execute_result"
        }
      ],
      "source": [
        "# Analysis the product_variation_size_id -- count the number of repetition for each category\n",
        "product_size = train['product_variation_size_id'].value_counts()\n",
        "product_size[product_size > 1]"
      ]
    },
    {
      "cell_type": "code",
      "execution_count": 86,
      "metadata": {
        "id": "FNthXajvIluy"
      },
      "outputs": [],
      "source": [
        "# Clean data of product_variation_size_id\n",
        "\n",
        "# creat function to format the strings of product_variation_size_id \n",
        "# to ease the apply of it into taining and testing datasets\n",
        "def format_product_size(df):\n",
        "  df['product_variation_size_id'] = [str(x).replace('.', '') for x in df['product_variation_size_id']]\n",
        "  df['product_variation_size_id'] = [str(x).replace('s', 'S') for x in df['product_variation_size_id']]\n",
        "\n",
        "  df['product_variation_size_id'] = [str(x).replace(' ', '') for x in df['product_variation_size_id']]\n",
        "  df['product_variation_size_id'] = [str(x).replace('-', '') for x in df['product_variation_size_id']]\n",
        "  df['product_variation_size_id'] = [str(x).replace('Size', '') for x in df['product_variation_size_id']]\n",
        "  df['product_variation_size_id'] = [str(x).replace('size', '') for x in df['product_variation_size_id']]\n",
        "  df['product_variation_size_id'] = [str(x).replace('SIZE', '') for x in df['product_variation_size_id']]\n",
        "\n",
        "\n",
        "  df['product_variation_size_id'] = [str(x).replace('2X', 'XX') for x in df['product_variation_size_id']]\n",
        "  df['product_variation_size_id'] = [str(x).replace('4X', 'XXXX') for x in df['product_variation_size_id']]\n",
        "  df['product_variation_size_id'] = [str(x).replace('5X', 'XXXXX') for x in df['product_variation_size_id']]\n",
        "\n",
        "\n",
        "# Call function of format_product_size\n",
        "format_product_size(train)\n",
        "format_product_size(test)"
      ]
    },
    {
      "cell_type": "code",
      "execution_count": 87,
      "metadata": {
        "id": "q-dk4Y7RKdVL"
      },
      "outputs": [],
      "source": [
        "# Replace NA values\n",
        "train['product_variation_size_id'] = train['product_variation_size_id'].replace(np.nan, \"Other\")\n",
        "test['product_variation_size_id'] = test['product_variation_size_id'].replace(np.nan, \"Other\")"
      ]
    },
    {
      "cell_type": "code",
      "execution_count": 88,
      "metadata": {
        "id": "EmAHxTLCOehn"
      },
      "outputs": [],
      "source": [
        "# define the main size categories\n",
        "main_product_size_categories = ['S', 'XS', 'M', 'XXS', 'L', 'XL', 'XXL', 'XXXS', 'XXXXL', 'XXXXXL']\n",
        "\n",
        "# replace any category other than the main_product_size_categories with 'Other' \n",
        "train.loc[[idx for idx, x in enumerate(train['product_variation_size_id']) if x not in main_product_size_categories], ['product_variation_size_id']] = 'Other'\n",
        "test.loc[[idx for idx, x in enumerate(test['product_variation_size_id']) if x not in main_product_size_categories], ['product_variation_size_id']] = 'Other'\n"
      ]
    },
    {
      "cell_type": "code",
      "execution_count": 89,
      "metadata": {
        "colab": {
          "base_uri": "https://localhost:8080/"
        },
        "id": "5m-Q3Td6KFD2",
        "outputId": "d3085b54-02e1-4b7c-fd75-6c426ebb4aff"
      },
      "outputs": [
        {
          "data": {
            "text/plain": [
              "S         471\n",
              "XS        258\n",
              "M         141\n",
              "XXS        82\n",
              "Other      68\n",
              "L          31\n",
              "XXL        14\n",
              "XL         13\n",
              "XXXXL       7\n",
              "XXXS        5\n",
              "XXXXXL      4\n",
              "Name: product_variation_size_id, dtype: int64"
            ]
          },
          "execution_count": 89,
          "metadata": {},
          "output_type": "execute_result"
        }
      ],
      "source": [
        "# count the number of repetition for each category after minimizing the number of categories\n",
        "product_size = train['product_variation_size_id'].value_counts()\n",
        "product_size"
      ]
    },
    {
      "cell_type": "code",
      "execution_count": 90,
      "metadata": {
        "colab": {
          "base_uri": "https://localhost:8080/",
          "height": 407
        },
        "id": "rU-XYPFqOO6r",
        "outputId": "185c82ef-1e1a-4dd2-b39d-78147bb7c4a2"
      },
      "outputs": [
        {
          "name": "stderr",
          "output_type": "stream",
          "text": [
            "/usr/local/lib/python3.7/dist-packages/seaborn/_decorators.py:43: FutureWarning: Pass the following variable as a keyword arg: x. From version 0.12, the only valid positional argument will be `data`, and passing other arguments without an explicit keyword will result in an error or misinterpretation.\n",
            "  FutureWarning\n"
          ]
        },
        {
          "data": {
            "text/plain": [
              "<matplotlib.axes._subplots.AxesSubplot at 0x7f09b208a810>"
            ]
          },
          "execution_count": 90,
          "metadata": {},
          "output_type": "execute_result"
        },
        {
          "data": {
            "image/png": "[encoded data removed]",
            "text/plain": [
              "<Figure size 648x360 with 1 Axes>"
            ]
          },
          "metadata": {
            "needs_background": "light"
          },
          "output_type": "display_data"
        }
      ],
      "source": [
        "# plot a figure for product_variation_size_id data counting after cleaning it\n",
        "fig, ax = plt.subplots(figsize=(9, 5))\n",
        "sns.countplot('product_variation_size_id',\n",
        "              data = train,\n",
        "              ax = ax)"
      ]
    },
    {
      "cell_type": "markdown",
      "metadata": {
        "id": "56IlP6wUbLsk"
      },
      "source": [
        "## Product color (Data Analysis and Cleaning)"
      ]
    },
    {
      "cell_type": "code",
      "execution_count": 91,
      "metadata": {
        "colab": {
          "base_uri": "https://localhost:8080/"
        },
        "id": "wHJA3CD-8dmA",
        "outputId": "25395acb-f0a2-45f6-f445-1b756273068b"
      },
      "outputs": [
        {
          "data": {
            "text/plain": [
              "black               219\n",
              "white               173\n",
              "blue                 77\n",
              "yellow               69\n",
              "pink                 68\n",
              "green                61\n",
              "red                  61\n",
              "grey                 48\n",
              "purple               37\n",
              "armygreen            22\n",
              "winered              19\n",
              "navyblue             18\n",
              "orange               16\n",
              "multicolor           14\n",
              "khaki                10\n",
              "white & green         8\n",
              "lightblue             8\n",
              "coffee                6\n",
              "gray                  6\n",
              "skyblue               6\n",
              "beige                 5\n",
              "brown                 5\n",
              "rosered               5\n",
              "rose                  4\n",
              "lightpink             4\n",
              "darkblue              4\n",
              "White                 3\n",
              "Black                 3\n",
              "black & green         3\n",
              "black & white         3\n",
              "navy                  3\n",
              "burgundy              2\n",
              "white & black         2\n",
              "coolblack             2\n",
              "Army green            2\n",
              "lightgreen            2\n",
              "floral                2\n",
              "dustypink             2\n",
              "applegreen            2\n",
              "orange-red            2\n",
              "fluorescentgreen      2\n",
              "lightred              2\n",
              "black & blue          2\n",
              "leopard               2\n",
              "navy blue             2\n",
              "pink & black          2\n",
              "whitefloral           2\n",
              "lakeblue              2\n",
              "mintgreen             2\n",
              "pink & white          2\n",
              "camouflage            2\n",
              "black & yellow        2\n",
              "Name: product_color, dtype: int64"
            ]
          },
          "execution_count": 91,
          "metadata": {},
          "output_type": "execute_result"
        }
      ],
      "source": [
        "# Analysis the product_color -- count the number of repetition for each category\n",
        "product_clr = train['product_color'].value_counts()\n",
        "product_clr[product_clr > 1]"
      ]
    },
    {
      "cell_type": "code",
      "execution_count": 92,
      "metadata": {
        "colab": {
          "base_uri": "https://localhost:8080/"
        },
        "id": "9fkY2Zdq8dsa",
        "outputId": "89060035-1080-4bee-802c-44cf9b373b8c"
      },
      "outputs": [
        {
          "name": "stderr",
          "output_type": "stream",
          "text": [
            "/usr/local/lib/python3.7/dist-packages/ipykernel_launcher.py:8: FutureWarning: elementwise comparison failed; returning scalar instead, but in the future will perform elementwise comparison\n",
            "  \n"
          ]
        }
      ],
      "source": [
        "# The main colors are black, white, red, yellow, blue, green, pink, grey, purple, orange, brown and 'Other'\n",
        "# Also we can add another color catergory like 'dual' for items that contain 2 different colors\n",
        "\n",
        "# Create function for converting colors to apply it on train and test data\n",
        "def color_convert(data):\n",
        "  # Collect all dual colors together\n",
        "  dual_colors = np.unique([x for x in data['product_color'] if '&' in str(x)])\n",
        "  data.loc[[idx for idx, x in enumerate(data['product_color']) if x in dual_colors], ['product_color']] = 'dual'\n",
        "\n",
        "  # Convert all colors name to lowercase\n",
        "  data['product_color'] = [str(x).lower() for x in data['product_color']]\n",
        "\n",
        "  # Collect all green colors together\n",
        "  green_colors = np.unique([x for x in data['product_color'] if 'green' in str(x)])\n",
        "  green_colors = list(green_colors) + ['khaki']\n",
        "  data.loc[[idx for idx, x in enumerate(data['product_color']) if x in green_colors], ['product_color']] = 'green'\n",
        "\n",
        "  # Collect all blue colors together\n",
        "  blue_colors = np.unique([x for x in data['product_color'] if 'blue' in str(x)])\n",
        "  blue_colors = list(blue_colors) + ['navy']\n",
        "  data.loc[[idx for idx, x in enumerate(data['product_color']) if x in blue_colors], ['product_color']] = 'blue'\n",
        "\n",
        "  # Collect all red colors together\n",
        "  red_colors = np.unique([x for x in data['product_color'] if 'red' in str(x)])\n",
        "  red_colors = list(red_colors) + ['wine']\n",
        "  data.loc[[idx for idx, x in enumerate(data['product_color']) if x in red_colors], ['product_color']] = 'red'\n",
        "\n",
        "  # Collect all pink colors together\n",
        "  pink_colors = np.unique([x for x in data['product_color'] if 'pink' in str(x)])\n",
        "  pink_colors = list(pink_colors) + ['rose', 'floral']\n",
        "  data.loc[[idx for idx, x in enumerate(data['product_color']) if x in pink_colors], ['product_color']] = 'pink' \n",
        "\n",
        "  # Change cofee to brown \n",
        "  data['product_color'] = data['product_color'].replace('coffee', 'brown')\n",
        "\n",
        "  # Collect all yellow colors together\n",
        "  yellow_colors = np.unique([x for x in data['product_color'] if 'yellow' in str(x)])\n",
        "  data.loc[[idx for idx, x in enumerate(data['product_color']) if x in yellow_colors], ['product_color']] = 'yellow' \n",
        "\n",
        "\n",
        "  # Collect all grey colors together\n",
        "  grey_colors = np.unique([x for x in data['product_color'] if 'grey' in str(x)])\n",
        "  gray_colors = np.unique([x for x in data['product_color'] if 'gray' in str(x)])\n",
        "  grey_colors = list(grey_colors) + list(gray_colors)\n",
        "  data.loc[[idx for idx, x in enumerate(data['product_color']) if x in grey_colors], ['product_color']] = 'grey' \n",
        "\n",
        "\n",
        "# Call function of color_convert\n",
        "color_convert(train)\n",
        "color_convert(test)"
      ]
    },
    {
      "cell_type": "code",
      "execution_count": 93,
      "metadata": {
        "id": "ZE8ehH--7o5y"
      },
      "outputs": [],
      "source": [
        "# define the main color categories\n",
        "main_color_categories = ['black', 'white', 'blue', 'green', 'red', 'pink', 'yellow', 'grey', 'purple', 'dual', 'orange', 'beige', 'brown', 'other', 'multicolor']\n",
        "\n",
        "# set colors that doesn't belong to main color categories to other\n",
        "train.loc[[idx for idx, x in enumerate(train['product_color']) if x not in main_color_categories], ['product_color']] = 'other'\n",
        "test.loc[[idx for idx, x in enumerate(test['product_color']) if x not in main_color_categories], ['product_color']] = 'other'\n",
        "\n"
      ]
    },
    {
      "cell_type": "code",
      "execution_count": 94,
      "metadata": {
        "colab": {
          "base_uri": "https://localhost:8080/"
        },
        "id": "kRzg0RZCwbQU",
        "outputId": "55ebe0db-bc91-4300-f607-f32f9ea60b1c"
      },
      "outputs": [
        {
          "data": {
            "text/plain": [
              "black         222\n",
              "white         176\n",
              "blue          122\n",
              "green         105\n",
              "red            94\n",
              "pink           81\n",
              "yellow         70\n",
              "grey           56\n",
              "other          55\n",
              "purple         37\n",
              "dual           30\n",
              "orange         16\n",
              "multicolor     14\n",
              "brown          11\n",
              "beige           5\n",
              "Name: product_color, dtype: int64"
            ]
          },
          "execution_count": 94,
          "metadata": {},
          "output_type": "execute_result"
        }
      ],
      "source": [
        "# count the number of repetition for each category after minimizing the number of categories\n",
        "product_clr = train['product_color'].value_counts()\n",
        "product_clr[product_clr > 1]"
      ]
    },
    {
      "cell_type": "code",
      "execution_count": 95,
      "metadata": {
        "colab": {
          "base_uri": "https://localhost:8080/",
          "height": 444
        },
        "id": "7QxhEV4e9IUJ",
        "outputId": "24110bae-5b56-4d45-d745-07f94b1eca16"
      },
      "outputs": [
        {
          "name": "stderr",
          "output_type": "stream",
          "text": [
            "/usr/local/lib/python3.7/dist-packages/seaborn/_decorators.py:43: FutureWarning: Pass the following variable as a keyword arg: x. From version 0.12, the only valid positional argument will be `data`, and passing other arguments without an explicit keyword will result in an error or misinterpretation.\n",
            "  FutureWarning\n"
          ]
        },
        {
          "data": {
            "image/png": "[encoded data removed]",
            "text/plain": [
              "<Figure size 864x432 with 1 Axes>"
            ]
          },
          "metadata": {
            "needs_background": "light"
          },
          "output_type": "display_data"
        }
      ],
      "source": [
        "# plot a figure for product_color data counting after cleaning it\n",
        "fig, ax = plt.subplots(figsize=(12, 6))\n",
        "sns.countplot('product_color',\n",
        "              data = train,\n",
        "              order = train['product_color'].value_counts().index,\n",
        "              ax = ax)\n",
        "\n",
        "plt.show()"
      ]
    },
    {
      "cell_type": "markdown",
      "metadata": {
        "id": "rYedaytdhyUW"
      },
      "source": [
        "## Price and Retail Price (Data Analysis and Cleaning)"
      ]
    },
    {
      "cell_type": "code",
      "execution_count": 96,
      "metadata": {
        "colab": {
          "base_uri": "https://localhost:8080/",
          "height": 206
        },
        "id": "p9D59uOyh45f",
        "outputId": "a67d67ea-17d4-41a6-d4ee-b18b81624a63"
      },
      "outputs": [
        {
          "data": {
            "text/html": [
              "\n",
              "  <div id=\"df-c4b995b3-88eb-42f1-aca9-78db79f78981\">\n",
              "    <div class=\"colab-df-container\">\n",
              "      <div>\n",
              "<style scoped>\n",
              "    .dataframe tbody tr th:only-of-type {\n",
              "        vertical-align: middle;\n",
              "    }\n",
              "\n",
              "    .dataframe tbody tr th {\n",
              "        vertical-align: top;\n",
              "    }\n",
              "\n",
              "    .dataframe thead th {\n",
              "        text-align: right;\n",
              "    }\n",
              "</style>\n",
              "<table border=\"1\" class=\"dataframe\">\n",
              "  <thead>\n",
              "    <tr style=\"text-align: right;\">\n",
              "      <th></th>\n",
              "      <th>retail_price</th>\n",
              "      <th>price</th>\n",
              "      <th>discount_percentage</th>\n",
              "    </tr>\n",
              "  </thead>\n",
              "  <tbody>\n",
              "    <tr>\n",
              "      <th>0</th>\n",
              "      <td>7</td>\n",
              "      <td>8.00</td>\n",
              "      <td>-14.285714</td>\n",
              "    </tr>\n",
              "    <tr>\n",
              "      <th>1</th>\n",
              "      <td>7</td>\n",
              "      <td>8.00</td>\n",
              "      <td>-14.285714</td>\n",
              "    </tr>\n",
              "    <tr>\n",
              "      <th>2</th>\n",
              "      <td>34</td>\n",
              "      <td>6.00</td>\n",
              "      <td>82.352941</td>\n",
              "    </tr>\n",
              "    <tr>\n",
              "      <th>3</th>\n",
              "      <td>4</td>\n",
              "      <td>4.67</td>\n",
              "      <td>-16.750000</td>\n",
              "    </tr>\n",
              "    <tr>\n",
              "      <th>4</th>\n",
              "      <td>11</td>\n",
              "      <td>8.00</td>\n",
              "      <td>27.272727</td>\n",
              "    </tr>\n",
              "  </tbody>\n",
              "</table>\n",
              "</div>\n",
              "      <button class=\"colab-df-convert\" onclick=\"convertToInteractive('df-c4b995b3-88eb-42f1-aca9-78db79f78981')\"\n",
              "              title=\"Convert this dataframe to an interactive table.\"\n",
              "              style=\"display:none;\">\n",
              "        \n",
              "  <svg xmlns=\"http://www.w3.org/2000/svg\" height=\"24px\"viewBox=\"0 0 24 24\"\n",
              "       width=\"24px\">\n",
              "    <path d=\"M0 0h24v24H0V0z\" fill=\"none\"/>\n",
              "    <path d=\"M18.56 5.44l.94 2.06.94-2.06 2.06-.94-2.06-.94-.94-2.06-.94 2.06-2.06.94zm-11 1L8.5 8.5l.94-2.06 2.06-.94-2.06-.94L8.5 2.5l-.94 2.06-2.06.94zm10 10l.94 2.06.94-2.06 2.06-.94-2.06-.94-.94-2.06-.94 2.06-2.06.94z\"/><path d=\"M17.41 7.96l-1.37-1.37c-.4-.4-.92-.59-1.43-.59-.52 0-1.04.2-1.43.59L10.3 9.45l-7.72 7.72c-.78.78-.78 2.05 0 2.83L4 21.41c.39.39.9.59 1.41.59.51 0 1.02-.2 1.41-.59l7.78-7.78 2.81-2.81c.8-.78.8-2.07 0-2.86zM5.41 20L4 18.59l7.72-7.72 1.47 1.35L5.41 20z\"/>\n",
              "  </svg>\n",
              "      </button>\n",
              "      \n",
              "  <style>\n",
              "    .colab-df-container {\n",
              "      display:flex;\n",
              "      flex-wrap:wrap;\n",
              "      gap: 12px;\n",
              "    }\n",
              "\n",
              "    .colab-df-convert {\n",
              "      background-color: #E8F0FE;\n",
              "      border: none;\n",
              "      border-radius: 50%;\n",
              "      cursor: pointer;\n",
              "      display: none;\n",
              "      fill: #1967D2;\n",
              "      height: 32px;\n",
              "      padding: 0 0 0 0;\n",
              "      width: 32px;\n",
              "    }\n",
              "\n",
              "    .colab-df-convert:hover {\n",
              "      background-color: #E2EBFA;\n",
              "      box-shadow: 0px 1px 2px rgba(60, 64, 67, 0.3), 0px 1px 3px 1px rgba(60, 64, 67, 0.15);\n",
              "      fill: #174EA6;\n",
              "    }\n",
              "\n",
              "    [theme=dark] .colab-df-convert {\n",
              "      background-color: #3B4455;\n",
              "      fill: #D2E3FC;\n",
              "    }\n",
              "\n",
              "    [theme=dark] .colab-df-convert:hover {\n",
              "      background-color: #434B5C;\n",
              "      box-shadow: 0px 1px 3px 1px rgba(0, 0, 0, 0.15);\n",
              "      filter: drop-shadow(0px 1px 2px rgba(0, 0, 0, 0.3));\n",
              "      fill: #FFFFFF;\n",
              "    }\n",
              "  </style>\n",
              "\n",
              "      <script>\n",
              "        const buttonEl =\n",
              "          document.querySelector('#df-c4b995b3-88eb-42f1-aca9-78db79f78981 button.colab-df-convert');\n",
              "        buttonEl.style.display =\n",
              "          google.colab.kernel.accessAllowed ? 'block' : 'none';\n",
              "\n",
              "        async function convertToInteractive(key) {\n",
              "          const element = document.querySelector('#df-c4b995b3-88eb-42f1-aca9-78db79f78981');\n",
              "          const dataTable =\n",
              "            await google.colab.kernel.invokeFunction('convertToInteractive',\n",
              "                                                     [key], {});\n",
              "          if (!dataTable) return;\n",
              "\n",
              "          const docLinkHtml = 'Like what you see? Visit the ' +\n",
              "            '<a target=\"_blank\" href=https://colab.research.google.com/notebooks/data_table.ipynb>data table notebook</a>'\n",
              "            + ' to learn more about interactive tables.';\n",
              "          element.innerHTML = '';\n",
              "          dataTable['output_type'] = 'display_data';\n",
              "          await google.colab.output.renderOutput(dataTable, element);\n",
              "          const docLink = document.createElement('div');\n",
              "          docLink.innerHTML = docLinkHtml;\n",
              "          element.appendChild(docLink);\n",
              "        }\n",
              "      </script>\n",
              "    </div>\n",
              "  </div>\n",
              "  "
            ],
            "text/plain": [
              "   retail_price  price  discount_percentage\n",
              "0             7   8.00           -14.285714\n",
              "1             7   8.00           -14.285714\n",
              "2            34   6.00            82.352941\n",
              "3             4   4.67           -16.750000\n",
              "4            11   8.00            27.272727"
            ]
          },
          "execution_count": 96,
          "metadata": {},
          "output_type": "execute_result"
        }
      ],
      "source": [
        "# Extracting new information from price and retail price that may add useful factor to our models\n",
        "# According to this fourmla: Discount%=(Original Price - Sale price)/Original price*100\n",
        "# stackoverflow useful link: https://stackoverflow.com/questions/43720502/calculating-discount-percentage-of-a-given-discounted-price#:~:text=Discount%25%3D(Original%20Price%20%2D%20Sale%20price)%2FOriginal%20price*100&text=This%20gives%20you%20the%20porcentage,not%20the%20discount%20it%20self.\n",
        "\n",
        "train['discount_percentage'] = (train['retail_price'] - train['price']) / train['retail_price'] * 100\n",
        "\n",
        "# Apply same fourmela on testing set\n",
        "test['discount_percentage'] = (test['retail_price'] - test['price']) / test['retail_price'] * 100\n",
        "\n",
        "train[['retail_price', 'price', 'discount_percentage']].head()"
      ]
    },
    {
      "cell_type": "markdown",
      "metadata": {
        "id": "yS98StZZ3CS8"
      },
      "source": [
        "## Units sold (Data Analysis and Cleaning)"
      ]
    },
    {
      "cell_type": "code",
      "execution_count": 97,
      "metadata": {
        "colab": {
          "base_uri": "https://localhost:8080/"
        },
        "id": "rxUqgrLL3IWf",
        "outputId": "59168b76-2885-49ef-ff81-e547969c067a"
      },
      "outputs": [
        {
          "data": {
            "text/plain": [
              "100       353\n",
              "1000      280\n",
              "5000      139\n",
              "10000     125\n",
              "20000      79\n",
              "50         54\n",
              "10         37\n",
              "50000      12\n",
              "100000      5\n",
              "8           4\n",
              "1           3\n",
              "2           2\n",
              "7           1\n",
              "Name: units_sold, dtype: int64"
            ]
          },
          "execution_count": 97,
          "metadata": {},
          "output_type": "execute_result"
        }
      ],
      "source": [
        "# Analysis the units_sold feature \n",
        "train['units_sold'].value_counts()"
      ]
    },
    {
      "cell_type": "code",
      "execution_count": 98,
      "metadata": {
        "colab": {
          "base_uri": "https://localhost:8080/"
        },
        "id": "uHtWo0wE3RSx",
        "outputId": "f5b162b6-15ad-4f60-e094-5a174430e767"
      },
      "outputs": [
        {
          "data": {
            "text/plain": [
              "100       353\n",
              "1000      280\n",
              "5000      139\n",
              "10000     125\n",
              "20000      79\n",
              "50         54\n",
              "10         47\n",
              "50000      12\n",
              "100000      5\n",
              "Name: units_sold, dtype: int64"
            ]
          },
          "execution_count": 98,
          "metadata": {},
          "output_type": "execute_result"
        }
      ],
      "source": [
        "# As the units sold less than 10 has a low count we can change them to 10 to minimize the number of categories\n",
        "# and as they have a very smal count they won't affect the count of the category 10 and even they won't\n",
        "# affect the order of data \n",
        "\n",
        "train.loc[train['units_sold'] < 10, 'units_sold'] = 10\n",
        "test.loc[test['units_sold'] < 10, 'units_sold'] = 10\n",
        "\n",
        "train['units_sold'].value_counts()"
      ]
    },
    {
      "cell_type": "code",
      "execution_count": 99,
      "metadata": {
        "colab": {
          "base_uri": "https://localhost:8080/",
          "height": 389
        },
        "id": "CSAciQhl3k5P",
        "outputId": "20b452e0-682e-44f7-97f3-a76b55f4caa7"
      },
      "outputs": [
        {
          "data": {
            "image/png": "[encoded data removed]",
            "text/plain": [
              "<Figure size 720x432 with 1 Axes>"
            ]
          },
          "metadata": {
            "needs_background": "light"
          },
          "output_type": "display_data"
        }
      ],
      "source": [
        "# plot a figure for units_sold data counting after cleaning it\n",
        "\n",
        "plt.figure(figsize=(10, 6))\n",
        "ax = sns.countplot(x = 'units_sold',\n",
        "                   palette= \"Set2\",\n",
        "                   order = train['units_sold'].value_counts().index,\n",
        "                   data=train)\n",
        "\n",
        "plt.show()"
      ]
    },
    {
      "cell_type": "markdown",
      "metadata": {
        "id": "JnbEV46FgzBu"
      },
      "source": [
        "## Urgency text (Data Analysis and Cleaning)"
      ]
    },
    {
      "cell_type": "code",
      "execution_count": 100,
      "metadata": {
        "colab": {
          "base_uri": "https://localhost:8080/"
        },
        "id": "MymChTlrEMmB",
        "outputId": "3754aea4-1c1b-4f94-fcb4-630af5fb32a7"
      },
      "outputs": [
        {
          "data": {
            "text/plain": [
              "None                          745\n",
              "Limited Quantity              348\n",
              "Discount on bulk purchases      1\n",
              "Name: urgency_text, dtype: int64"
            ]
          },
          "execution_count": 100,
          "metadata": {},
          "output_type": "execute_result"
        }
      ],
      "source": [
        "# replace multiple values in a column in pandas dataframe\n",
        "# get this snipt of code from Stackoverflow \n",
        "# https://stackoverflow.com/questions/60273679/replace-multiple-values-in-a-column-and-keep-other-values-unchanged-in-pandas-da\n",
        "\n",
        "train['urgency_text'] = train['urgency_text'].replace({\n",
        "    'Quantité limitée !' : 'Limited Quantity', \n",
        "    'Réduction sur les achats en gros': 'Discount on bulk purchases', \n",
        "    np.nan: 'None'\n",
        "})\n",
        "\n",
        "train['urgency_text'].value_counts()"
      ]
    },
    {
      "cell_type": "code",
      "execution_count": 101,
      "metadata": {
        "colab": {
          "base_uri": "https://localhost:8080/"
        },
        "id": "El8ZMpJbkTn4",
        "outputId": "e666fa41-c7ad-4325-cf8b-75cfe1e0f66c"
      },
      "outputs": [
        {
          "data": {
            "text/plain": [
              "None                355\n",
              "Limited Quantity    124\n",
              "Name: urgency_text, dtype: int64"
            ]
          },
          "execution_count": 101,
          "metadata": {},
          "output_type": "execute_result"
        }
      ],
      "source": [
        "# Repeat privious step in testing data\n",
        "test['urgency_text'] = test['urgency_text'].replace({\n",
        "    'Quantité limitée !' : 'Limited Quantity', \n",
        "    'Réduction sur les achats en gros': 'Discount on bulk purchases', \n",
        "    np.nan: 'None'\n",
        "})\n",
        "\n",
        "test['urgency_text'].value_counts()"
      ]
    },
    {
      "cell_type": "markdown",
      "metadata": {
        "id": "wJ2IENfODYBf"
      },
      "source": [
        "## Tags (Data Analysis)"
      ]
    },
    {
      "cell_type": "code",
      "execution_count": 102,
      "metadata": {
        "colab": {
          "base_uri": "https://localhost:8080/"
        },
        "id": "I86IvURW3EcE",
        "outputId": "e136d67a-c0bb-4a68-c9a0-63492e8a12e5"
      },
      "outputs": [
        {
          "data": {
            "text/plain": [
              "2181"
            ]
          },
          "execution_count": 102,
          "metadata": {},
          "output_type": "execute_result"
        }
      ],
      "source": [
        "# Check the unique values of product tags\n",
        "tags_categories = []\n",
        "for i, x in enumerate(train['tags']):\n",
        "  tags_categories = tags_categories + (str(x).split(\",\"))\n",
        "\n",
        "len(np.unique(tags_categories))"
      ]
    },
    {
      "cell_type": "code",
      "execution_count": 103,
      "metadata": {
        "colab": {
          "base_uri": "https://localhost:8080/"
        },
        "id": "B2F8UOwRAir0",
        "outputId": "86c2a074-ccc1-4686-ddf4-cd1c3fb4a221"
      },
      "outputs": [
        {
          "data": {
            "text/plain": [
              "0       16\n",
              "1       22\n",
              "2       23\n",
              "3       16\n",
              "4       20\n",
              "        ..\n",
              "1089    13\n",
              "1090    18\n",
              "1091    16\n",
              "1092    20\n",
              "1093    14\n",
              "Name: tags_count, Length: 1094, dtype: int64"
            ]
          },
          "execution_count": 103,
          "metadata": {},
          "output_type": "execute_result"
        }
      ],
      "source": [
        "# Check number of tags include in each product and save it into new column called tags_count\n",
        "train['tags_count'] = [len(str(x).split(\",\")) for x in train['tags']]\n",
        "train['tags_count']"
      ]
    },
    {
      "cell_type": "code",
      "execution_count": 104,
      "metadata": {
        "colab": {
          "base_uri": "https://localhost:8080/"
        },
        "id": "waR2f57tAVIo",
        "outputId": "908b9a43-5478-4b07-fc89-54c67e2f3bc8"
      },
      "outputs": [
        {
          "data": {
            "text/plain": [
              "0      19\n",
              "1      22\n",
              "2      20\n",
              "3      18\n",
              "4      13\n",
              "       ..\n",
              "474    19\n",
              "475    16\n",
              "476    17\n",
              "477    17\n",
              "478    19\n",
              "Name: tags_count, Length: 479, dtype: int64"
            ]
          },
          "execution_count": 104,
          "metadata": {},
          "output_type": "execute_result"
        }
      ],
      "source": [
        "# Apply previous step on testing \n",
        "test['tags_count'] = [len(str(x).split(\",\")) for x in test['tags']]\n",
        "test['tags_count']"
      ]
    },
    {
      "cell_type": "markdown",
      "metadata": {
        "id": "022irh7UpkVP"
      },
      "source": [
        "## Merchant name (Fill missing data)"
      ]
    },
    {
      "cell_type": "code",
      "execution_count": 105,
      "metadata": {
        "id": "gX5UZ1iBqLWF"
      },
      "outputs": [],
      "source": [
        "# replase missing values in merchant_name with 'Unknown'\n",
        "train['merchant_name'] = train['merchant_name'].replace(np.nan, 'Unknown')\n",
        "test['merchant_name'] = test['merchant_name'].replace(np.nan, 'Unknown')"
      ]
    },
    {
      "cell_type": "code",
      "execution_count": 106,
      "metadata": {
        "colab": {
          "base_uri": "https://localhost:8080/"
        },
        "id": "cS_Msnov9ai_",
        "outputId": "2e3de373-f3ec-45ce-eaf7-5bad3fab7378"
      },
      "outputs": [
        {
          "data": {
            "text/plain": [
              "price                           0\n",
              "retail_price                    0\n",
              "units_sold                      0\n",
              "uses_ad_boosts                  0\n",
              "rating                          0\n",
              "rating_count                    0\n",
              "badges_count                    0\n",
              "badge_local_product             0\n",
              "badge_product_quality           0\n",
              "badge_fast_shipping             0\n",
              "tags                            0\n",
              "product_color                   0\n",
              "product_variation_size_id       0\n",
              "product_variation_inventory     0\n",
              "shipping_option_name            0\n",
              "shipping_option_price           0\n",
              "shipping_is_express             0\n",
              "countries_shipped_to            0\n",
              "inventory_total                 0\n",
              "has_urgency_banner              0\n",
              "urgency_text                    0\n",
              "origin_country                  0\n",
              "merchant_title                  0\n",
              "merchant_name                   0\n",
              "merchant_info_subtitle          0\n",
              "merchant_rating_count           0\n",
              "merchant_rating                 0\n",
              "merchant_id                     0\n",
              "merchant_has_profile_picture    0\n",
              "id                              0\n",
              "discount_percentage             0\n",
              "tags_count                      0\n",
              "dtype: int64"
            ]
          },
          "execution_count": 106,
          "metadata": {},
          "output_type": "execute_result"
        }
      ],
      "source": [
        "train.isna().sum()"
      ]
    },
    {
      "cell_type": "markdown",
      "metadata": {
        "id": "hvD_tAMCBrZ0"
      },
      "source": [
        "## Merchant info subtitle"
      ]
    },
    {
      "cell_type": "code",
      "execution_count": 107,
      "metadata": {
        "colab": {
          "base_uri": "https://localhost:8080/"
        },
        "id": "rw6URfKfBwnK",
        "outputId": "2de16489-d37b-4977-cead-c5012fea9440"
      },
      "outputs": [
        {
          "data": {
            "text/plain": [
              "86 % avis positifs (12,309 notes)    8\n",
              "83 % avis positifs (32,168 notes)    7\n",
              "85 % avis positifs (80,093 notes)    5\n",
              "84 % avis positifs (1,047 notes)     5\n",
              "85 % avis positifs (5,264 notes)     5\n",
              "                                    ..\n",
              "90 % avis positifs (2,359 notes)     1\n",
              "90 % avis positifs (26,833 notes)    1\n",
              "86 % avis positifs (4,335 notes)     1\n",
              "79 % avis positifs (667 notes)       1\n",
              "78 % avis positifs (6,632 notes)     1\n",
              "Name: merchant_info_subtitle, Length: 808, dtype: int64"
            ]
          },
          "execution_count": 107,
          "metadata": {},
          "output_type": "execute_result"
        }
      ],
      "source": [
        "# Analysis the merchant_info_subtitle feature\n",
        "train[\"merchant_info_subtitle\"].value_counts()"
      ]
    },
    {
      "cell_type": "code",
      "execution_count": 108,
      "metadata": {
        "colab": {
          "base_uri": "https://localhost:8080/"
        },
        "id": "zSomSM21B439",
        "outputId": "07b77b53-d141-42c9-81f7-fde9677a85bc"
      },
      "outputs": [
        {
          "data": {
            "text/plain": [
              "86%avispositifs(12,309notes)    8\n",
              "83%avispositifs(32,168notes)    7\n",
              "85%avispositifs(80,093notes)    5\n",
              "84%avispositifs(1,047notes)     5\n",
              "85%avispositifs(5,264notes)     5\n",
              "                               ..\n",
              "90%avispositifs(2,359notes)     1\n",
              "90%avispositifs(26,833notes)    1\n",
              "86%avispositifs(4,335notes)     1\n",
              "79%avispositifs(667notes)       1\n",
              "78%avispositifs(6,632notes)     1\n",
              "Name: merchant_info_subtitle, Length: 808, dtype: int64"
            ]
          },
          "execution_count": 108,
          "metadata": {},
          "output_type": "execute_result"
        }
      ],
      "source": [
        "# remove any white space from the data\n",
        "train['merchant_info_subtitle'] = train['merchant_info_subtitle'].str.replace(' ', '')\n",
        "train[\"merchant_info_subtitle\"].value_counts()"
      ]
    },
    {
      "cell_type": "code",
      "execution_count": 109,
      "metadata": {
        "id": "ATLB0LSw4087"
      },
      "outputs": [],
      "source": [
        "# create function to check if the merchant has a positive feadback or not \n",
        "def has_positive_percentage(text):\n",
        "    pos_feadback = 'avispositifs'\n",
        "    if pos_feadback in str(text):\n",
        "        return 1\n",
        "    else:\n",
        "        return 0\n",
        "\n",
        "# Add new column with new informatin that chech if the merchant has a positive feadback or not \n",
        "# by calling the function has_positive_percentage     \n",
        "train['merchant_has_feadback_rating'] = [has_positive_percentage(x) for x in train['merchant_info_subtitle']]\n",
        "test['merchant_has_feadback_rating'] = [has_positive_percentage(x) for x in test['merchant_info_subtitle']]\n"
      ]
    },
    {
      "cell_type": "code",
      "execution_count": 110,
      "metadata": {
        "id": "JLCTWhefCLu1"
      },
      "outputs": [],
      "source": [
        "import re\n",
        "\n",
        "#Python Regular Expressions \n",
        "# https://developers.google.com/edu/python/regular-expressions#:~:text=The%20Python%20%22re%22%20module%20provides%20regular%20expression%20support.&text=The%20re.search()%20method,match%20object%20or%20None%20otherwise.\n",
        "\n",
        "# create function that get the percentage of the merchant positive feadback if exist\n",
        "def get_percentage(x): \n",
        "    match_reg = re.search(r'\\d+%', str(x))\n",
        "\n",
        "    if match_reg:\n",
        "      return float(match_reg.group().split('%')[0])\n",
        "\n",
        "    else:\n",
        "      return None\n"
      ]
    },
    {
      "cell_type": "code",
      "execution_count": 111,
      "metadata": {
        "id": "dCu8tjX1DPQw"
      },
      "outputs": [],
      "source": [
        "# Add new columns that reprecent the positive feadback \n",
        "# and fill Nan value with mean of the column\n",
        "train['merchant_positive_percentage'] = train['merchant_info_subtitle'].apply(get_percentage)\n",
        "train['merchant_positive_percentage'].fillna((train['merchant_positive_percentage'].mean()), inplace=True)\n",
        "\n",
        "test['merchant_positive_percentage'] = test['merchant_info_subtitle'].apply(get_percentage)\n",
        "test['merchant_positive_percentage'].fillna((test['merchant_positive_percentage'].mean()), inplace=True)"
      ]
    },
    {
      "cell_type": "markdown",
      "metadata": {
        "id": "ZbewBK86qqsm"
      },
      "source": [
        "## Correlation Matrix"
      ]
    },
    {
      "cell_type": "code",
      "execution_count": 112,
      "metadata": {
        "colab": {
          "base_uri": "https://localhost:8080/",
          "height": 1000
        },
        "id": "dB9glvDAq5r5",
        "outputId": "b71e4505-0634-4db7-a9d5-cfeb14ffa421"
      },
      "outputs": [
        {
          "data": {
            "image/png": "[encoded data removed]",
            "text/plain": [
              "<Figure size 1584x1584 with 2 Axes>"
            ]
          },
          "metadata": {
            "needs_background": "light"
          },
          "output_type": "display_data"
        }
      ],
      "source": [
        "#ploting the correlation matrix for the traing data\n",
        "fig, ax = plt.subplots(figsize=(22, 22))\n",
        "sns.heatmap(train.corr(),\n",
        "            annot=True,\n",
        "            ax=ax)\n",
        "\n",
        "plt.show()"
      ]
    },
    {
      "cell_type": "markdown",
      "metadata": {
        "id": "SPKyZgspzRki"
      },
      "source": [
        "## Remove Remaining Unwanted Columns"
      ]
    },
    {
      "cell_type": "code",
      "execution_count": 113,
      "metadata": {
        "id": "4KL4QOv-zYHs"
      },
      "outputs": [],
      "source": [
        "# remove the columns that contain string values and not adding useful information\n",
        "unwanted_cols = ['merchant_title', \n",
        "                 'merchant_name',\n",
        "                 'merchant_info_subtitle',\n",
        "                 'merchant_id',\n",
        "                 'shipping_option_name',\n",
        "                 'tags',\n",
        "                 'urgency_text']\n",
        "\n",
        "train = train.drop(columns=unwanted_cols)\n",
        "test = test.drop(columns=unwanted_cols)"
      ]
    },
    {
      "cell_type": "code",
      "execution_count": 114,
      "metadata": {
        "colab": {
          "base_uri": "https://localhost:8080/"
        },
        "id": "2Ih-3GUp0Z3Q",
        "outputId": "f63135a5-7d1e-4f8f-ca8e-43804b631e4f"
      },
      "outputs": [
        {
          "name": "stdout",
          "output_type": "stream",
          "text": [
            "<class 'pandas.core.frame.DataFrame'>\n",
            "RangeIndex: 1094 entries, 0 to 1093\n",
            "Data columns (total 27 columns):\n",
            " #   Column                        Non-Null Count  Dtype  \n",
            "---  ------                        --------------  -----  \n",
            " 0   price                         1094 non-null   float64\n",
            " 1   retail_price                  1094 non-null   int64  \n",
            " 2   units_sold                    1094 non-null   int64  \n",
            " 3   uses_ad_boosts                1094 non-null   int64  \n",
            " 4   rating                        1094 non-null   float64\n",
            " 5   rating_count                  1094 non-null   int64  \n",
            " 6   badges_count                  1094 non-null   int64  \n",
            " 7   badge_local_product           1094 non-null   int64  \n",
            " 8   badge_product_quality         1094 non-null   int64  \n",
            " 9   badge_fast_shipping           1094 non-null   int64  \n",
            " 10  product_color                 1094 non-null   object \n",
            " 11  product_variation_size_id     1094 non-null   object \n",
            " 12  product_variation_inventory   1094 non-null   int64  \n",
            " 13  shipping_option_price         1094 non-null   int64  \n",
            " 14  shipping_is_express           1094 non-null   int64  \n",
            " 15  countries_shipped_to          1094 non-null   int64  \n",
            " 16  inventory_total               1094 non-null   int64  \n",
            " 17  has_urgency_banner            1094 non-null   float64\n",
            " 18  origin_country                1094 non-null   object \n",
            " 19  merchant_rating_count         1094 non-null   int64  \n",
            " 20  merchant_rating               1094 non-null   float64\n",
            " 21  merchant_has_profile_picture  1094 non-null   int64  \n",
            " 22  id                            1094 non-null   int64  \n",
            " 23  discount_percentage           1094 non-null   float64\n",
            " 24  tags_count                    1094 non-null   int64  \n",
            " 25  merchant_has_feadback_rating  1094 non-null   int64  \n",
            " 26  merchant_positive_percentage  1094 non-null   float64\n",
            "dtypes: float64(6), int64(18), object(3)\n",
            "memory usage: 230.9+ KB\n"
          ]
        }
      ],
      "source": [
        "# show the information of the train dataset\n",
        "train.info()"
      ]
    },
    {
      "cell_type": "code",
      "execution_count": 115,
      "metadata": {
        "colab": {
          "base_uri": "https://localhost:8080/"
        },
        "id": "oAyN5Pq9lkbX",
        "outputId": "4ade1fbc-ea5c-4d79-d924-2de190153972"
      },
      "outputs": [
        {
          "name": "stdout",
          "output_type": "stream",
          "text": [
            "<class 'pandas.core.frame.DataFrame'>\n",
            "RangeIndex: 479 entries, 0 to 478\n",
            "Data columns (total 26 columns):\n",
            " #   Column                        Non-Null Count  Dtype  \n",
            "---  ------                        --------------  -----  \n",
            " 0   price                         479 non-null    float64\n",
            " 1   retail_price                  479 non-null    int64  \n",
            " 2   units_sold                    479 non-null    int64  \n",
            " 3   uses_ad_boosts                479 non-null    int64  \n",
            " 4   rating_count                  479 non-null    int64  \n",
            " 5   badges_count                  479 non-null    int64  \n",
            " 6   badge_local_product           479 non-null    int64  \n",
            " 7   badge_product_quality         479 non-null    int64  \n",
            " 8   badge_fast_shipping           479 non-null    int64  \n",
            " 9   product_color                 479 non-null    object \n",
            " 10  product_variation_size_id     479 non-null    object \n",
            " 11  product_variation_inventory   479 non-null    int64  \n",
            " 12  shipping_option_price         479 non-null    int64  \n",
            " 13  shipping_is_express           479 non-null    int64  \n",
            " 14  countries_shipped_to          479 non-null    int64  \n",
            " 15  inventory_total               479 non-null    int64  \n",
            " 16  has_urgency_banner            479 non-null    float64\n",
            " 17  origin_country                479 non-null    object \n",
            " 18  merchant_rating_count         479 non-null    int64  \n",
            " 19  merchant_rating               479 non-null    float64\n",
            " 20  merchant_has_profile_picture  479 non-null    int64  \n",
            " 21  id                            479 non-null    int64  \n",
            " 22  discount_percentage           479 non-null    float64\n",
            " 23  tags_count                    479 non-null    int64  \n",
            " 24  merchant_has_feadback_rating  479 non-null    int64  \n",
            " 25  merchant_positive_percentage  479 non-null    float64\n",
            "dtypes: float64(5), int64(18), object(3)\n",
            "memory usage: 97.4+ KB\n"
          ]
        }
      ],
      "source": [
        "# show the information of the testing dataset\n",
        "test.info()"
      ]
    },
    {
      "cell_type": "markdown",
      "metadata": {
        "id": "tk5h3pkt4xDE"
      },
      "source": [
        "# Data Encoding\n"
      ]
    },
    {
      "cell_type": "code",
      "execution_count": 116,
      "metadata": {
        "id": "Z85M7nKI6xtt"
      },
      "outputs": [],
      "source": [
        "# remove the id as it's not feature from the traing and testing da\n",
        "# and split the train feature and lable\n",
        "X_train = train.drop(columns=['rating', 'id'])\n",
        "y_train = train['rating']\n",
        "X_test = test.drop(columns=['id'])"
      ]
    },
    {
      "cell_type": "markdown",
      "metadata": {
        "id": "bttE2FqkDcug"
      },
      "source": [
        "## Label Encoder instead of One Hot Encoding"
      ]
    },
    {
      "cell_type": "code",
      "execution_count": 117,
      "metadata": {
        "id": "qlmzJtgoDnWI"
      },
      "outputs": [],
      "source": [
        "# from sklearn.preprocessing import LabelEncoder\n",
        "\n",
        "# label_encoder = LabelEncoder()\n",
        "\n",
        "# # Label Encoding for Origin Country\n",
        "# X_train['origin_country'] = label_encoder.fit_transform(X_train['origin_country'])\n",
        "# X_test['origin_country'] = label_encoder.fit_transform(X_test['origin_country'])\n",
        "\n",
        "# # Label Encoding for Product Color\n",
        "# X_train['product_color'] = label_encoder.fit_transform(X_train['product_color'])\n",
        "# X_test['product_color'] = label_encoder.fit_transform(X_test['product_color'])\n",
        "\n",
        "# # Label Encoding for Product Size\n",
        "# X_train['product_variation_size_id'] = label_encoder.fit_transform(X_train['product_variation_size_id'])\n",
        "# X_test['product_variation_size_id'] = label_encoder.fit_transform(X_test['product_variation_size_id'])\n",
        "\n",
        "# # Label Encoding for Urgency text\n",
        "# X_train['urgency_text'] = label_encoder.fit_transform(X_train['urgency_text'])\n",
        "# X_test['urgency_text'] = label_encoder.fit_transform(X_test['urgency_text'])\n"
      ]
    },
    {
      "cell_type": "markdown",
      "metadata": {
        "id": "kIlzha9w5bB-"
      },
      "source": [
        "## One Hot Encoding for Origin Country"
      ]
    },
    {
      "cell_type": "code",
      "execution_count": 118,
      "metadata": {
        "id": "N8pcByqs5XiD"
      },
      "outputs": [],
      "source": [
        "# Apply on training data\n",
        "X_train = pd.get_dummies(X_train, \n",
        "                      columns = ['origin_country'],\n",
        "                      prefix = 'country_',\n",
        "                      drop_first = True)\n"
      ]
    },
    {
      "cell_type": "code",
      "execution_count": 119,
      "metadata": {
        "id": "0Q1R3MLs6DMi"
      },
      "outputs": [],
      "source": [
        "# Apply on testing data\n",
        "X_test = pd.get_dummies(X_test, \n",
        "                      columns = ['origin_country'],\n",
        "                      prefix = 'country_',\n",
        "                      drop_first = True)\n"
      ]
    },
    {
      "cell_type": "markdown",
      "metadata": {
        "id": "PHDfIka16KBf"
      },
      "source": [
        "## One Hot Encoding for Product Color"
      ]
    },
    {
      "cell_type": "code",
      "execution_count": 120,
      "metadata": {
        "id": "wqSMbaU96IfM"
      },
      "outputs": [],
      "source": [
        "# Apply on training data\n",
        "X_train = pd.get_dummies(X_train, \n",
        "                      columns = ['product_color'],\n",
        "                      prefix = 'color_',\n",
        "                      drop_first = True)\n"
      ]
    },
    {
      "cell_type": "code",
      "execution_count": 121,
      "metadata": {
        "id": "-9JRW0sP6npE"
      },
      "outputs": [],
      "source": [
        "# Apply on testing data\n",
        "X_test = pd.get_dummies(X_test, \n",
        "                      columns = ['product_color'],\n",
        "                      prefix = 'color_',\n",
        "                      drop_first = True)\n"
      ]
    },
    {
      "cell_type": "markdown",
      "metadata": {
        "id": "AojNMoic6u_f"
      },
      "source": [
        "## One Hot Encoding for Product Size"
      ]
    },
    {
      "cell_type": "code",
      "execution_count": 122,
      "metadata": {
        "id": "Tmdf7BkW6tIe"
      },
      "outputs": [],
      "source": [
        "# Apply on training data\n",
        "X_train = pd.get_dummies(X_train, \n",
        "                      columns = ['product_variation_size_id'],\n",
        "                      prefix = 'size_',\n",
        "                      drop_first = True)\n"
      ]
    },
    {
      "cell_type": "code",
      "execution_count": 123,
      "metadata": {
        "id": "NtbzM41u7ENM"
      },
      "outputs": [],
      "source": [
        "# Apply on testing data\n",
        "X_test = pd.get_dummies(X_test, \n",
        "                      columns = ['product_variation_size_id'],\n",
        "                      prefix = 'size_',\n",
        "                      drop_first = True)\n"
      ]
    },
    {
      "cell_type": "markdown",
      "metadata": {
        "id": "XClgMFXM72B9"
      },
      "source": [
        "## One Hot Encoding for Urgency text"
      ]
    },
    {
      "cell_type": "code",
      "execution_count": 124,
      "metadata": {
        "id": "dQb0IkIt8ICd"
      },
      "outputs": [],
      "source": [
        "# Apply on training data\n",
        "# X_train = pd.get_dummies(X_train, \n",
        "#                       columns = ['urgency_text'],\n",
        "#                       prefix = 'urgency_text_',\n",
        "#                       drop_first = True)"
      ]
    },
    {
      "cell_type": "code",
      "execution_count": 125,
      "metadata": {
        "id": "DxQ_dkjm8UJd"
      },
      "outputs": [],
      "source": [
        "# Apply on testing data\n",
        "# X_test = pd.get_dummies(X_test, \n",
        "#                       columns = ['urgency_text'],\n",
        "#                       prefix = 'urgency_text_',\n",
        "#                       drop_first = True)\n"
      ]
    },
    {
      "cell_type": "markdown",
      "metadata": {
        "id": "eH7Ljrj-7W0H"
      },
      "source": [
        "view the data after using one hot encoding"
      ]
    },
    {
      "cell_type": "code",
      "execution_count": 126,
      "metadata": {
        "colab": {
          "base_uri": "https://localhost:8080/",
          "height": 0
        },
        "id": "1Ywb6OpI7KFf",
        "outputId": "28061fbe-6906-4bd2-e1d7-85fc71b4071a"
      },
      "outputs": [
        {
          "data": {
            "text/html": [
              "\n",
              "  <div id=\"df-40fc1d76-c0ad-413d-9cf7-e5ec49547908\">\n",
              "    <div class=\"colab-df-container\">\n",
              "      <div>\n",
              "<style scoped>\n",
              "    .dataframe tbody tr th:only-of-type {\n",
              "        vertical-align: middle;\n",
              "    }\n",
              "\n",
              "    .dataframe tbody tr th {\n",
              "        vertical-align: top;\n",
              "    }\n",
              "\n",
              "    .dataframe thead th {\n",
              "        text-align: right;\n",
              "    }\n",
              "</style>\n",
              "<table border=\"1\" class=\"dataframe\">\n",
              "  <thead>\n",
              "    <tr style=\"text-align: right;\">\n",
              "      <th></th>\n",
              "      <th>price</th>\n",
              "      <th>retail_price</th>\n",
              "      <th>units_sold</th>\n",
              "      <th>uses_ad_boosts</th>\n",
              "      <th>rating_count</th>\n",
              "      <th>badges_count</th>\n",
              "      <th>badge_local_product</th>\n",
              "      <th>badge_product_quality</th>\n",
              "      <th>badge_fast_shipping</th>\n",
              "      <th>product_variation_inventory</th>\n",
              "      <th>shipping_option_price</th>\n",
              "      <th>shipping_is_express</th>\n",
              "      <th>countries_shipped_to</th>\n",
              "      <th>inventory_total</th>\n",
              "      <th>has_urgency_banner</th>\n",
              "      <th>merchant_rating_count</th>\n",
              "      <th>merchant_rating</th>\n",
              "      <th>merchant_has_profile_picture</th>\n",
              "      <th>discount_percentage</th>\n",
              "      <th>tags_count</th>\n",
              "      <th>merchant_has_feadback_rating</th>\n",
              "      <th>merchant_positive_percentage</th>\n",
              "      <th>country__Other</th>\n",
              "      <th>country__US</th>\n",
              "      <th>color__black</th>\n",
              "      <th>color__blue</th>\n",
              "      <th>color__brown</th>\n",
              "      <th>color__dual</th>\n",
              "      <th>color__green</th>\n",
              "      <th>color__grey</th>\n",
              "      <th>color__multicolor</th>\n",
              "      <th>color__orange</th>\n",
              "      <th>color__other</th>\n",
              "      <th>color__pink</th>\n",
              "      <th>color__purple</th>\n",
              "      <th>color__red</th>\n",
              "      <th>color__white</th>\n",
              "      <th>color__yellow</th>\n",
              "      <th>size__M</th>\n",
              "      <th>size__Other</th>\n",
              "      <th>size__S</th>\n",
              "      <th>size__XL</th>\n",
              "      <th>size__XS</th>\n",
              "      <th>size__XXL</th>\n",
              "      <th>size__XXS</th>\n",
              "      <th>size__XXXS</th>\n",
              "      <th>size__XXXXL</th>\n",
              "      <th>size__XXXXXL</th>\n",
              "    </tr>\n",
              "  </thead>\n",
              "  <tbody>\n",
              "    <tr>\n",
              "      <th>0</th>\n",
              "      <td>8.00</td>\n",
              "      <td>7</td>\n",
              "      <td>10000</td>\n",
              "      <td>1</td>\n",
              "      <td>1670</td>\n",
              "      <td>0</td>\n",
              "      <td>0</td>\n",
              "      <td>0</td>\n",
              "      <td>0</td>\n",
              "      <td>50</td>\n",
              "      <td>3</td>\n",
              "      <td>0</td>\n",
              "      <td>30</td>\n",
              "      <td>50</td>\n",
              "      <td>0.0</td>\n",
              "      <td>66644</td>\n",
              "      <td>4.137582</td>\n",
              "      <td>1</td>\n",
              "      <td>-14.285714</td>\n",
              "      <td>16</td>\n",
              "      <td>1</td>\n",
              "      <td>88.000000</td>\n",
              "      <td>0</td>\n",
              "      <td>0</td>\n",
              "      <td>0</td>\n",
              "      <td>0</td>\n",
              "      <td>0</td>\n",
              "      <td>0</td>\n",
              "      <td>0</td>\n",
              "      <td>0</td>\n",
              "      <td>0</td>\n",
              "      <td>0</td>\n",
              "      <td>0</td>\n",
              "      <td>0</td>\n",
              "      <td>0</td>\n",
              "      <td>0</td>\n",
              "      <td>0</td>\n",
              "      <td>1</td>\n",
              "      <td>1</td>\n",
              "      <td>0</td>\n",
              "      <td>0</td>\n",
              "      <td>0</td>\n",
              "      <td>0</td>\n",
              "      <td>0</td>\n",
              "      <td>0</td>\n",
              "      <td>0</td>\n",
              "      <td>0</td>\n",
              "      <td>0</td>\n",
              "    </tr>\n",
              "    <tr>\n",
              "      <th>1</th>\n",
              "      <td>8.00</td>\n",
              "      <td>7</td>\n",
              "      <td>1000</td>\n",
              "      <td>0</td>\n",
              "      <td>843</td>\n",
              "      <td>1</td>\n",
              "      <td>1</td>\n",
              "      <td>0</td>\n",
              "      <td>0</td>\n",
              "      <td>50</td>\n",
              "      <td>3</td>\n",
              "      <td>0</td>\n",
              "      <td>37</td>\n",
              "      <td>50</td>\n",
              "      <td>0.0</td>\n",
              "      <td>25752</td>\n",
              "      <td>4.256873</td>\n",
              "      <td>0</td>\n",
              "      <td>-14.285714</td>\n",
              "      <td>22</td>\n",
              "      <td>1</td>\n",
              "      <td>91.000000</td>\n",
              "      <td>0</td>\n",
              "      <td>0</td>\n",
              "      <td>1</td>\n",
              "      <td>0</td>\n",
              "      <td>0</td>\n",
              "      <td>0</td>\n",
              "      <td>0</td>\n",
              "      <td>0</td>\n",
              "      <td>0</td>\n",
              "      <td>0</td>\n",
              "      <td>0</td>\n",
              "      <td>0</td>\n",
              "      <td>0</td>\n",
              "      <td>0</td>\n",
              "      <td>0</td>\n",
              "      <td>0</td>\n",
              "      <td>0</td>\n",
              "      <td>0</td>\n",
              "      <td>0</td>\n",
              "      <td>0</td>\n",
              "      <td>0</td>\n",
              "      <td>0</td>\n",
              "      <td>0</td>\n",
              "      <td>0</td>\n",
              "      <td>0</td>\n",
              "      <td>0</td>\n",
              "    </tr>\n",
              "    <tr>\n",
              "      <th>2</th>\n",
              "      <td>6.00</td>\n",
              "      <td>34</td>\n",
              "      <td>100</td>\n",
              "      <td>0</td>\n",
              "      <td>10</td>\n",
              "      <td>0</td>\n",
              "      <td>0</td>\n",
              "      <td>0</td>\n",
              "      <td>0</td>\n",
              "      <td>50</td>\n",
              "      <td>2</td>\n",
              "      <td>0</td>\n",
              "      <td>41</td>\n",
              "      <td>50</td>\n",
              "      <td>0.0</td>\n",
              "      <td>3897</td>\n",
              "      <td>3.928920</td>\n",
              "      <td>0</td>\n",
              "      <td>82.352941</td>\n",
              "      <td>23</td>\n",
              "      <td>1</td>\n",
              "      <td>83.000000</td>\n",
              "      <td>0</td>\n",
              "      <td>0</td>\n",
              "      <td>0</td>\n",
              "      <td>0</td>\n",
              "      <td>0</td>\n",
              "      <td>0</td>\n",
              "      <td>0</td>\n",
              "      <td>0</td>\n",
              "      <td>0</td>\n",
              "      <td>0</td>\n",
              "      <td>0</td>\n",
              "      <td>0</td>\n",
              "      <td>0</td>\n",
              "      <td>0</td>\n",
              "      <td>1</td>\n",
              "      <td>0</td>\n",
              "      <td>0</td>\n",
              "      <td>0</td>\n",
              "      <td>0</td>\n",
              "      <td>0</td>\n",
              "      <td>0</td>\n",
              "      <td>0</td>\n",
              "      <td>0</td>\n",
              "      <td>0</td>\n",
              "      <td>0</td>\n",
              "      <td>0</td>\n",
              "    </tr>\n",
              "    <tr>\n",
              "      <th>3</th>\n",
              "      <td>4.67</td>\n",
              "      <td>4</td>\n",
              "      <td>100</td>\n",
              "      <td>1</td>\n",
              "      <td>82</td>\n",
              "      <td>0</td>\n",
              "      <td>0</td>\n",
              "      <td>0</td>\n",
              "      <td>0</td>\n",
              "      <td>5</td>\n",
              "      <td>1</td>\n",
              "      <td>0</td>\n",
              "      <td>25</td>\n",
              "      <td>50</td>\n",
              "      <td>0.0</td>\n",
              "      <td>7497</td>\n",
              "      <td>4.079365</td>\n",
              "      <td>0</td>\n",
              "      <td>-16.750000</td>\n",
              "      <td>16</td>\n",
              "      <td>1</td>\n",
              "      <td>87.000000</td>\n",
              "      <td>0</td>\n",
              "      <td>0</td>\n",
              "      <td>0</td>\n",
              "      <td>1</td>\n",
              "      <td>0</td>\n",
              "      <td>0</td>\n",
              "      <td>0</td>\n",
              "      <td>0</td>\n",
              "      <td>0</td>\n",
              "      <td>0</td>\n",
              "      <td>0</td>\n",
              "      <td>0</td>\n",
              "      <td>0</td>\n",
              "      <td>0</td>\n",
              "      <td>0</td>\n",
              "      <td>0</td>\n",
              "      <td>0</td>\n",
              "      <td>0</td>\n",
              "      <td>0</td>\n",
              "      <td>0</td>\n",
              "      <td>1</td>\n",
              "      <td>0</td>\n",
              "      <td>0</td>\n",
              "      <td>0</td>\n",
              "      <td>0</td>\n",
              "      <td>0</td>\n",
              "    </tr>\n",
              "    <tr>\n",
              "      <th>4</th>\n",
              "      <td>8.00</td>\n",
              "      <td>11</td>\n",
              "      <td>1000</td>\n",
              "      <td>0</td>\n",
              "      <td>127</td>\n",
              "      <td>0</td>\n",
              "      <td>0</td>\n",
              "      <td>0</td>\n",
              "      <td>0</td>\n",
              "      <td>50</td>\n",
              "      <td>3</td>\n",
              "      <td>0</td>\n",
              "      <td>15</td>\n",
              "      <td>50</td>\n",
              "      <td>1.0</td>\n",
              "      <td>173</td>\n",
              "      <td>4.306358</td>\n",
              "      <td>0</td>\n",
              "      <td>27.272727</td>\n",
              "      <td>20</td>\n",
              "      <td>1</td>\n",
              "      <td>91.000000</td>\n",
              "      <td>0</td>\n",
              "      <td>0</td>\n",
              "      <td>0</td>\n",
              "      <td>0</td>\n",
              "      <td>0</td>\n",
              "      <td>0</td>\n",
              "      <td>0</td>\n",
              "      <td>0</td>\n",
              "      <td>0</td>\n",
              "      <td>0</td>\n",
              "      <td>1</td>\n",
              "      <td>0</td>\n",
              "      <td>0</td>\n",
              "      <td>0</td>\n",
              "      <td>0</td>\n",
              "      <td>0</td>\n",
              "      <td>0</td>\n",
              "      <td>0</td>\n",
              "      <td>1</td>\n",
              "      <td>0</td>\n",
              "      <td>0</td>\n",
              "      <td>0</td>\n",
              "      <td>0</td>\n",
              "      <td>0</td>\n",
              "      <td>0</td>\n",
              "      <td>0</td>\n",
              "    </tr>\n",
              "    <tr>\n",
              "      <th>...</th>\n",
              "      <td>...</td>\n",
              "      <td>...</td>\n",
              "      <td>...</td>\n",
              "      <td>...</td>\n",
              "      <td>...</td>\n",
              "      <td>...</td>\n",
              "      <td>...</td>\n",
              "      <td>...</td>\n",
              "      <td>...</td>\n",
              "      <td>...</td>\n",
              "      <td>...</td>\n",
              "      <td>...</td>\n",
              "      <td>...</td>\n",
              "      <td>...</td>\n",
              "      <td>...</td>\n",
              "      <td>...</td>\n",
              "      <td>...</td>\n",
              "      <td>...</td>\n",
              "      <td>...</td>\n",
              "      <td>...</td>\n",
              "      <td>...</td>\n",
              "      <td>...</td>\n",
              "      <td>...</td>\n",
              "      <td>...</td>\n",
              "      <td>...</td>\n",
              "      <td>...</td>\n",
              "      <td>...</td>\n",
              "      <td>...</td>\n",
              "      <td>...</td>\n",
              "      <td>...</td>\n",
              "      <td>...</td>\n",
              "      <td>...</td>\n",
              "      <td>...</td>\n",
              "      <td>...</td>\n",
              "      <td>...</td>\n",
              "      <td>...</td>\n",
              "      <td>...</td>\n",
              "      <td>...</td>\n",
              "      <td>...</td>\n",
              "      <td>...</td>\n",
              "      <td>...</td>\n",
              "      <td>...</td>\n",
              "      <td>...</td>\n",
              "      <td>...</td>\n",
              "      <td>...</td>\n",
              "      <td>...</td>\n",
              "      <td>...</td>\n",
              "      <td>...</td>\n",
              "    </tr>\n",
              "    <tr>\n",
              "      <th>1089</th>\n",
              "      <td>4.00</td>\n",
              "      <td>4</td>\n",
              "      <td>10000</td>\n",
              "      <td>0</td>\n",
              "      <td>2150</td>\n",
              "      <td>0</td>\n",
              "      <td>0</td>\n",
              "      <td>0</td>\n",
              "      <td>0</td>\n",
              "      <td>50</td>\n",
              "      <td>1</td>\n",
              "      <td>0</td>\n",
              "      <td>41</td>\n",
              "      <td>50</td>\n",
              "      <td>0.0</td>\n",
              "      <td>230951</td>\n",
              "      <td>4.311066</td>\n",
              "      <td>0</td>\n",
              "      <td>0.000000</td>\n",
              "      <td>13</td>\n",
              "      <td>1</td>\n",
              "      <td>92.000000</td>\n",
              "      <td>0</td>\n",
              "      <td>0</td>\n",
              "      <td>0</td>\n",
              "      <td>0</td>\n",
              "      <td>0</td>\n",
              "      <td>0</td>\n",
              "      <td>0</td>\n",
              "      <td>0</td>\n",
              "      <td>0</td>\n",
              "      <td>0</td>\n",
              "      <td>0</td>\n",
              "      <td>0</td>\n",
              "      <td>0</td>\n",
              "      <td>1</td>\n",
              "      <td>0</td>\n",
              "      <td>0</td>\n",
              "      <td>0</td>\n",
              "      <td>0</td>\n",
              "      <td>1</td>\n",
              "      <td>0</td>\n",
              "      <td>0</td>\n",
              "      <td>0</td>\n",
              "      <td>0</td>\n",
              "      <td>0</td>\n",
              "      <td>0</td>\n",
              "      <td>0</td>\n",
              "    </tr>\n",
              "    <tr>\n",
              "      <th>1090</th>\n",
              "      <td>5.00</td>\n",
              "      <td>5</td>\n",
              "      <td>1000</td>\n",
              "      <td>0</td>\n",
              "      <td>377</td>\n",
              "      <td>1</td>\n",
              "      <td>0</td>\n",
              "      <td>1</td>\n",
              "      <td>0</td>\n",
              "      <td>31</td>\n",
              "      <td>2</td>\n",
              "      <td>0</td>\n",
              "      <td>35</td>\n",
              "      <td>50</td>\n",
              "      <td>0.0</td>\n",
              "      <td>2904</td>\n",
              "      <td>4.422521</td>\n",
              "      <td>0</td>\n",
              "      <td>0.000000</td>\n",
              "      <td>18</td>\n",
              "      <td>0</td>\n",
              "      <td>85.441676</td>\n",
              "      <td>0</td>\n",
              "      <td>0</td>\n",
              "      <td>0</td>\n",
              "      <td>0</td>\n",
              "      <td>0</td>\n",
              "      <td>0</td>\n",
              "      <td>0</td>\n",
              "      <td>0</td>\n",
              "      <td>0</td>\n",
              "      <td>0</td>\n",
              "      <td>1</td>\n",
              "      <td>0</td>\n",
              "      <td>0</td>\n",
              "      <td>0</td>\n",
              "      <td>0</td>\n",
              "      <td>0</td>\n",
              "      <td>0</td>\n",
              "      <td>1</td>\n",
              "      <td>0</td>\n",
              "      <td>0</td>\n",
              "      <td>0</td>\n",
              "      <td>0</td>\n",
              "      <td>0</td>\n",
              "      <td>0</td>\n",
              "      <td>0</td>\n",
              "      <td>0</td>\n",
              "    </tr>\n",
              "    <tr>\n",
              "      <th>1091</th>\n",
              "      <td>9.00</td>\n",
              "      <td>48</td>\n",
              "      <td>1000</td>\n",
              "      <td>1</td>\n",
              "      <td>135</td>\n",
              "      <td>0</td>\n",
              "      <td>0</td>\n",
              "      <td>0</td>\n",
              "      <td>0</td>\n",
              "      <td>50</td>\n",
              "      <td>3</td>\n",
              "      <td>0</td>\n",
              "      <td>25</td>\n",
              "      <td>50</td>\n",
              "      <td>0.0</td>\n",
              "      <td>6632</td>\n",
              "      <td>3.748794</td>\n",
              "      <td>0</td>\n",
              "      <td>81.250000</td>\n",
              "      <td>16</td>\n",
              "      <td>1</td>\n",
              "      <td>78.000000</td>\n",
              "      <td>0</td>\n",
              "      <td>0</td>\n",
              "      <td>0</td>\n",
              "      <td>0</td>\n",
              "      <td>0</td>\n",
              "      <td>0</td>\n",
              "      <td>0</td>\n",
              "      <td>0</td>\n",
              "      <td>0</td>\n",
              "      <td>0</td>\n",
              "      <td>0</td>\n",
              "      <td>0</td>\n",
              "      <td>1</td>\n",
              "      <td>0</td>\n",
              "      <td>0</td>\n",
              "      <td>0</td>\n",
              "      <td>1</td>\n",
              "      <td>0</td>\n",
              "      <td>0</td>\n",
              "      <td>0</td>\n",
              "      <td>0</td>\n",
              "      <td>0</td>\n",
              "      <td>0</td>\n",
              "      <td>0</td>\n",
              "      <td>0</td>\n",
              "      <td>0</td>\n",
              "    </tr>\n",
              "    <tr>\n",
              "      <th>1092</th>\n",
              "      <td>11.00</td>\n",
              "      <td>10</td>\n",
              "      <td>10000</td>\n",
              "      <td>1</td>\n",
              "      <td>1479</td>\n",
              "      <td>0</td>\n",
              "      <td>0</td>\n",
              "      <td>0</td>\n",
              "      <td>0</td>\n",
              "      <td>50</td>\n",
              "      <td>2</td>\n",
              "      <td>0</td>\n",
              "      <td>45</td>\n",
              "      <td>50</td>\n",
              "      <td>1.0</td>\n",
              "      <td>5816</td>\n",
              "      <td>3.936382</td>\n",
              "      <td>0</td>\n",
              "      <td>-10.000000</td>\n",
              "      <td>20</td>\n",
              "      <td>1</td>\n",
              "      <td>83.000000</td>\n",
              "      <td>0</td>\n",
              "      <td>0</td>\n",
              "      <td>1</td>\n",
              "      <td>0</td>\n",
              "      <td>0</td>\n",
              "      <td>0</td>\n",
              "      <td>0</td>\n",
              "      <td>0</td>\n",
              "      <td>0</td>\n",
              "      <td>0</td>\n",
              "      <td>0</td>\n",
              "      <td>0</td>\n",
              "      <td>0</td>\n",
              "      <td>0</td>\n",
              "      <td>0</td>\n",
              "      <td>0</td>\n",
              "      <td>1</td>\n",
              "      <td>0</td>\n",
              "      <td>0</td>\n",
              "      <td>0</td>\n",
              "      <td>0</td>\n",
              "      <td>0</td>\n",
              "      <td>0</td>\n",
              "      <td>0</td>\n",
              "      <td>0</td>\n",
              "      <td>0</td>\n",
              "    </tr>\n",
              "    <tr>\n",
              "      <th>1093</th>\n",
              "      <td>7.00</td>\n",
              "      <td>6</td>\n",
              "      <td>1000</td>\n",
              "      <td>1</td>\n",
              "      <td>141</td>\n",
              "      <td>0</td>\n",
              "      <td>0</td>\n",
              "      <td>0</td>\n",
              "      <td>0</td>\n",
              "      <td>7</td>\n",
              "      <td>2</td>\n",
              "      <td>0</td>\n",
              "      <td>23</td>\n",
              "      <td>50</td>\n",
              "      <td>1.0</td>\n",
              "      <td>12309</td>\n",
              "      <td>4.045170</td>\n",
              "      <td>1</td>\n",
              "      <td>-16.666667</td>\n",
              "      <td>14</td>\n",
              "      <td>1</td>\n",
              "      <td>86.000000</td>\n",
              "      <td>0</td>\n",
              "      <td>0</td>\n",
              "      <td>0</td>\n",
              "      <td>0</td>\n",
              "      <td>0</td>\n",
              "      <td>0</td>\n",
              "      <td>0</td>\n",
              "      <td>0</td>\n",
              "      <td>0</td>\n",
              "      <td>0</td>\n",
              "      <td>0</td>\n",
              "      <td>0</td>\n",
              "      <td>0</td>\n",
              "      <td>0</td>\n",
              "      <td>0</td>\n",
              "      <td>1</td>\n",
              "      <td>0</td>\n",
              "      <td>0</td>\n",
              "      <td>0</td>\n",
              "      <td>0</td>\n",
              "      <td>1</td>\n",
              "      <td>0</td>\n",
              "      <td>0</td>\n",
              "      <td>0</td>\n",
              "      <td>0</td>\n",
              "      <td>0</td>\n",
              "    </tr>\n",
              "  </tbody>\n",
              "</table>\n",
              "<p>1094 rows × 48 columns</p>\n",
              "</div>\n",
              "      <button class=\"colab-df-convert\" onclick=\"convertToInteractive('df-40fc1d76-c0ad-413d-9cf7-e5ec49547908')\"\n",
              "              title=\"Convert this dataframe to an interactive table.\"\n",
              "              style=\"display:none;\">\n",
              "        \n",
              "  <svg xmlns=\"http://www.w3.org/2000/svg\" height=\"24px\"viewBox=\"0 0 24 24\"\n",
              "       width=\"24px\">\n",
              "    <path d=\"M0 0h24v24H0V0z\" fill=\"none\"/>\n",
              "    <path d=\"M18.56 5.44l.94 2.06.94-2.06 2.06-.94-2.06-.94-.94-2.06-.94 2.06-2.06.94zm-11 1L8.5 8.5l.94-2.06 2.06-.94-2.06-.94L8.5 2.5l-.94 2.06-2.06.94zm10 10l.94 2.06.94-2.06 2.06-.94-2.06-.94-.94-2.06-.94 2.06-2.06.94z\"/><path d=\"M17.41 7.96l-1.37-1.37c-.4-.4-.92-.59-1.43-.59-.52 0-1.04.2-1.43.59L10.3 9.45l-7.72 7.72c-.78.78-.78 2.05 0 2.83L4 21.41c.39.39.9.59 1.41.59.51 0 1.02-.2 1.41-.59l7.78-7.78 2.81-2.81c.8-.78.8-2.07 0-2.86zM5.41 20L4 18.59l7.72-7.72 1.47 1.35L5.41 20z\"/>\n",
              "  </svg>\n",
              "      </button>\n",
              "      \n",
              "  <style>\n",
              "    .colab-df-container {\n",
              "      display:flex;\n",
              "      flex-wrap:wrap;\n",
              "      gap: 12px;\n",
              "    }\n",
              "\n",
              "    .colab-df-convert {\n",
              "      background-color: #E8F0FE;\n",
              "      border: none;\n",
              "      border-radius: 50%;\n",
              "      cursor: pointer;\n",
              "      display: none;\n",
              "      fill: #1967D2;\n",
              "      height: 32px;\n",
              "      padding: 0 0 0 0;\n",
              "      width: 32px;\n",
              "    }\n",
              "\n",
              "    .colab-df-convert:hover {\n",
              "      background-color: #E2EBFA;\n",
              "      box-shadow: 0px 1px 2px rgba(60, 64, 67, 0.3), 0px 1px 3px 1px rgba(60, 64, 67, 0.15);\n",
              "      fill: #174EA6;\n",
              "    }\n",
              "\n",
              "    [theme=dark] .colab-df-convert {\n",
              "      background-color: #3B4455;\n",
              "      fill: #D2E3FC;\n",
              "    }\n",
              "\n",
              "    [theme=dark] .colab-df-convert:hover {\n",
              "      background-color: #434B5C;\n",
              "      box-shadow: 0px 1px 3px 1px rgba(0, 0, 0, 0.15);\n",
              "      filter: drop-shadow(0px 1px 2px rgba(0, 0, 0, 0.3));\n",
              "      fill: #FFFFFF;\n",
              "    }\n",
              "  </style>\n",
              "\n",
              "      <script>\n",
              "        const buttonEl =\n",
              "          document.querySelector('#df-40fc1d76-c0ad-413d-9cf7-e5ec49547908 button.colab-df-convert');\n",
              "        buttonEl.style.display =\n",
              "          google.colab.kernel.accessAllowed ? 'block' : 'none';\n",
              "\n",
              "        async function convertToInteractive(key) {\n",
              "          const element = document.querySelector('#df-40fc1d76-c0ad-413d-9cf7-e5ec49547908');\n",
              "          const dataTable =\n",
              "            await google.colab.kernel.invokeFunction('convertToInteractive',\n",
              "                                                     [key], {});\n",
              "          if (!dataTable) return;\n",
              "\n",
              "          const docLinkHtml = 'Like what you see? Visit the ' +\n",
              "            '<a target=\"_blank\" href=https://colab.research.google.com/notebooks/data_table.ipynb>data table notebook</a>'\n",
              "            + ' to learn more about interactive tables.';\n",
              "          element.innerHTML = '';\n",
              "          dataTable['output_type'] = 'display_data';\n",
              "          await google.colab.output.renderOutput(dataTable, element);\n",
              "          const docLink = document.createElement('div');\n",
              "          docLink.innerHTML = docLinkHtml;\n",
              "          element.appendChild(docLink);\n",
              "        }\n",
              "      </script>\n",
              "    </div>\n",
              "  </div>\n",
              "  "
            ],
            "text/plain": [
              "      price  retail_price  units_sold  ...  size__XXXS  size__XXXXL  size__XXXXXL\n",
              "0      8.00             7       10000  ...           0            0             0\n",
              "1      8.00             7        1000  ...           0            0             0\n",
              "2      6.00            34         100  ...           0            0             0\n",
              "3      4.67             4         100  ...           0            0             0\n",
              "4      8.00            11        1000  ...           0            0             0\n",
              "...     ...           ...         ...  ...         ...          ...           ...\n",
              "1089   4.00             4       10000  ...           0            0             0\n",
              "1090   5.00             5        1000  ...           0            0             0\n",
              "1091   9.00            48        1000  ...           0            0             0\n",
              "1092  11.00            10       10000  ...           0            0             0\n",
              "1093   7.00             6        1000  ...           0            0             0\n",
              "\n",
              "[1094 rows x 48 columns]"
            ]
          },
          "execution_count": 126,
          "metadata": {},
          "output_type": "execute_result"
        }
      ],
      "source": [
        "X_train"
      ]
    },
    {
      "cell_type": "code",
      "execution_count": 127,
      "metadata": {
        "colab": {
          "base_uri": "https://localhost:8080/",
          "height": 0
        },
        "id": "57r5tK797m79",
        "outputId": "33557e89-6649-4b31-da1d-e357756309a1"
      },
      "outputs": [
        {
          "data": {
            "text/html": [
              "\n",
              "  <div id=\"df-9a8d8541-29f2-4c88-94bb-a393c0ba71a8\">\n",
              "    <div class=\"colab-df-container\">\n",
              "      <div>\n",
              "<style scoped>\n",
              "    .dataframe tbody tr th:only-of-type {\n",
              "        vertical-align: middle;\n",
              "    }\n",
              "\n",
              "    .dataframe tbody tr th {\n",
              "        vertical-align: top;\n",
              "    }\n",
              "\n",
              "    .dataframe thead th {\n",
              "        text-align: right;\n",
              "    }\n",
              "</style>\n",
              "<table border=\"1\" class=\"dataframe\">\n",
              "  <thead>\n",
              "    <tr style=\"text-align: right;\">\n",
              "      <th></th>\n",
              "      <th>price</th>\n",
              "      <th>retail_price</th>\n",
              "      <th>units_sold</th>\n",
              "      <th>uses_ad_boosts</th>\n",
              "      <th>rating_count</th>\n",
              "      <th>badges_count</th>\n",
              "      <th>badge_local_product</th>\n",
              "      <th>badge_product_quality</th>\n",
              "      <th>badge_fast_shipping</th>\n",
              "      <th>product_variation_inventory</th>\n",
              "      <th>shipping_option_price</th>\n",
              "      <th>shipping_is_express</th>\n",
              "      <th>countries_shipped_to</th>\n",
              "      <th>inventory_total</th>\n",
              "      <th>has_urgency_banner</th>\n",
              "      <th>merchant_rating_count</th>\n",
              "      <th>merchant_rating</th>\n",
              "      <th>merchant_has_profile_picture</th>\n",
              "      <th>discount_percentage</th>\n",
              "      <th>tags_count</th>\n",
              "      <th>merchant_has_feadback_rating</th>\n",
              "      <th>merchant_positive_percentage</th>\n",
              "      <th>country__Other</th>\n",
              "      <th>country__US</th>\n",
              "      <th>color__black</th>\n",
              "      <th>color__blue</th>\n",
              "      <th>color__brown</th>\n",
              "      <th>color__dual</th>\n",
              "      <th>color__green</th>\n",
              "      <th>color__grey</th>\n",
              "      <th>color__multicolor</th>\n",
              "      <th>color__orange</th>\n",
              "      <th>color__other</th>\n",
              "      <th>color__pink</th>\n",
              "      <th>color__purple</th>\n",
              "      <th>color__red</th>\n",
              "      <th>color__white</th>\n",
              "      <th>color__yellow</th>\n",
              "      <th>size__M</th>\n",
              "      <th>size__Other</th>\n",
              "      <th>size__S</th>\n",
              "      <th>size__XL</th>\n",
              "      <th>size__XS</th>\n",
              "      <th>size__XXL</th>\n",
              "      <th>size__XXS</th>\n",
              "      <th>size__XXXS</th>\n",
              "      <th>size__XXXXL</th>\n",
              "      <th>size__XXXXXL</th>\n",
              "    </tr>\n",
              "  </thead>\n",
              "  <tbody>\n",
              "    <tr>\n",
              "      <th>0</th>\n",
              "      <td>5.75</td>\n",
              "      <td>5</td>\n",
              "      <td>10</td>\n",
              "      <td>1</td>\n",
              "      <td>0</td>\n",
              "      <td>0</td>\n",
              "      <td>0</td>\n",
              "      <td>0</td>\n",
              "      <td>0</td>\n",
              "      <td>5</td>\n",
              "      <td>2</td>\n",
              "      <td>0</td>\n",
              "      <td>139</td>\n",
              "      <td>50</td>\n",
              "      <td>0.0</td>\n",
              "      <td>3</td>\n",
              "      <td>2.333333</td>\n",
              "      <td>0</td>\n",
              "      <td>-15.000000</td>\n",
              "      <td>19</td>\n",
              "      <td>0</td>\n",
              "      <td>85.5625</td>\n",
              "      <td>0</td>\n",
              "      <td>0</td>\n",
              "      <td>0</td>\n",
              "      <td>0</td>\n",
              "      <td>0</td>\n",
              "      <td>0</td>\n",
              "      <td>0</td>\n",
              "      <td>0</td>\n",
              "      <td>0</td>\n",
              "      <td>0</td>\n",
              "      <td>0</td>\n",
              "      <td>0</td>\n",
              "      <td>0</td>\n",
              "      <td>0</td>\n",
              "      <td>1</td>\n",
              "      <td>0</td>\n",
              "      <td>0</td>\n",
              "      <td>0</td>\n",
              "      <td>0</td>\n",
              "      <td>0</td>\n",
              "      <td>1</td>\n",
              "      <td>0</td>\n",
              "      <td>0</td>\n",
              "      <td>0</td>\n",
              "      <td>0</td>\n",
              "      <td>0</td>\n",
              "    </tr>\n",
              "    <tr>\n",
              "      <th>1</th>\n",
              "      <td>7.00</td>\n",
              "      <td>7</td>\n",
              "      <td>5000</td>\n",
              "      <td>0</td>\n",
              "      <td>579</td>\n",
              "      <td>0</td>\n",
              "      <td>0</td>\n",
              "      <td>0</td>\n",
              "      <td>0</td>\n",
              "      <td>50</td>\n",
              "      <td>2</td>\n",
              "      <td>0</td>\n",
              "      <td>31</td>\n",
              "      <td>50</td>\n",
              "      <td>0.0</td>\n",
              "      <td>4213</td>\n",
              "      <td>4.058391</td>\n",
              "      <td>0</td>\n",
              "      <td>0.000000</td>\n",
              "      <td>22</td>\n",
              "      <td>0</td>\n",
              "      <td>85.5625</td>\n",
              "      <td>0</td>\n",
              "      <td>0</td>\n",
              "      <td>1</td>\n",
              "      <td>0</td>\n",
              "      <td>0</td>\n",
              "      <td>0</td>\n",
              "      <td>0</td>\n",
              "      <td>0</td>\n",
              "      <td>0</td>\n",
              "      <td>0</td>\n",
              "      <td>0</td>\n",
              "      <td>0</td>\n",
              "      <td>0</td>\n",
              "      <td>0</td>\n",
              "      <td>0</td>\n",
              "      <td>0</td>\n",
              "      <td>0</td>\n",
              "      <td>0</td>\n",
              "      <td>0</td>\n",
              "      <td>0</td>\n",
              "      <td>1</td>\n",
              "      <td>0</td>\n",
              "      <td>0</td>\n",
              "      <td>0</td>\n",
              "      <td>0</td>\n",
              "      <td>0</td>\n",
              "    </tr>\n",
              "    <tr>\n",
              "      <th>2</th>\n",
              "      <td>5.00</td>\n",
              "      <td>16</td>\n",
              "      <td>1000</td>\n",
              "      <td>1</td>\n",
              "      <td>62</td>\n",
              "      <td>0</td>\n",
              "      <td>0</td>\n",
              "      <td>0</td>\n",
              "      <td>0</td>\n",
              "      <td>20</td>\n",
              "      <td>2</td>\n",
              "      <td>0</td>\n",
              "      <td>41</td>\n",
              "      <td>50</td>\n",
              "      <td>0.0</td>\n",
              "      <td>10501</td>\n",
              "      <td>4.029235</td>\n",
              "      <td>0</td>\n",
              "      <td>68.750000</td>\n",
              "      <td>20</td>\n",
              "      <td>0</td>\n",
              "      <td>85.5625</td>\n",
              "      <td>0</td>\n",
              "      <td>0</td>\n",
              "      <td>0</td>\n",
              "      <td>1</td>\n",
              "      <td>0</td>\n",
              "      <td>0</td>\n",
              "      <td>0</td>\n",
              "      <td>0</td>\n",
              "      <td>0</td>\n",
              "      <td>0</td>\n",
              "      <td>0</td>\n",
              "      <td>0</td>\n",
              "      <td>0</td>\n",
              "      <td>0</td>\n",
              "      <td>0</td>\n",
              "      <td>0</td>\n",
              "      <td>0</td>\n",
              "      <td>0</td>\n",
              "      <td>0</td>\n",
              "      <td>0</td>\n",
              "      <td>1</td>\n",
              "      <td>0</td>\n",
              "      <td>0</td>\n",
              "      <td>0</td>\n",
              "      <td>0</td>\n",
              "      <td>0</td>\n",
              "    </tr>\n",
              "    <tr>\n",
              "      <th>3</th>\n",
              "      <td>18.00</td>\n",
              "      <td>27</td>\n",
              "      <td>5000</td>\n",
              "      <td>1</td>\n",
              "      <td>1903</td>\n",
              "      <td>0</td>\n",
              "      <td>0</td>\n",
              "      <td>0</td>\n",
              "      <td>0</td>\n",
              "      <td>50</td>\n",
              "      <td>5</td>\n",
              "      <td>0</td>\n",
              "      <td>42</td>\n",
              "      <td>50</td>\n",
              "      <td>0.0</td>\n",
              "      <td>15855</td>\n",
              "      <td>4.052917</td>\n",
              "      <td>0</td>\n",
              "      <td>33.333333</td>\n",
              "      <td>18</td>\n",
              "      <td>0</td>\n",
              "      <td>85.5625</td>\n",
              "      <td>0</td>\n",
              "      <td>0</td>\n",
              "      <td>0</td>\n",
              "      <td>1</td>\n",
              "      <td>0</td>\n",
              "      <td>0</td>\n",
              "      <td>0</td>\n",
              "      <td>0</td>\n",
              "      <td>0</td>\n",
              "      <td>0</td>\n",
              "      <td>0</td>\n",
              "      <td>0</td>\n",
              "      <td>0</td>\n",
              "      <td>0</td>\n",
              "      <td>0</td>\n",
              "      <td>0</td>\n",
              "      <td>1</td>\n",
              "      <td>0</td>\n",
              "      <td>0</td>\n",
              "      <td>0</td>\n",
              "      <td>0</td>\n",
              "      <td>0</td>\n",
              "      <td>0</td>\n",
              "      <td>0</td>\n",
              "      <td>0</td>\n",
              "      <td>0</td>\n",
              "    </tr>\n",
              "    <tr>\n",
              "      <th>4</th>\n",
              "      <td>12.00</td>\n",
              "      <td>81</td>\n",
              "      <td>20000</td>\n",
              "      <td>0</td>\n",
              "      <td>1799</td>\n",
              "      <td>0</td>\n",
              "      <td>0</td>\n",
              "      <td>0</td>\n",
              "      <td>0</td>\n",
              "      <td>50</td>\n",
              "      <td>3</td>\n",
              "      <td>0</td>\n",
              "      <td>38</td>\n",
              "      <td>50</td>\n",
              "      <td>0.0</td>\n",
              "      <td>151914</td>\n",
              "      <td>4.127921</td>\n",
              "      <td>0</td>\n",
              "      <td>85.185185</td>\n",
              "      <td>13</td>\n",
              "      <td>0</td>\n",
              "      <td>85.5625</td>\n",
              "      <td>0</td>\n",
              "      <td>0</td>\n",
              "      <td>0</td>\n",
              "      <td>0</td>\n",
              "      <td>0</td>\n",
              "      <td>0</td>\n",
              "      <td>0</td>\n",
              "      <td>0</td>\n",
              "      <td>0</td>\n",
              "      <td>0</td>\n",
              "      <td>0</td>\n",
              "      <td>0</td>\n",
              "      <td>0</td>\n",
              "      <td>0</td>\n",
              "      <td>1</td>\n",
              "      <td>0</td>\n",
              "      <td>1</td>\n",
              "      <td>0</td>\n",
              "      <td>0</td>\n",
              "      <td>0</td>\n",
              "      <td>0</td>\n",
              "      <td>0</td>\n",
              "      <td>0</td>\n",
              "      <td>0</td>\n",
              "      <td>0</td>\n",
              "      <td>0</td>\n",
              "    </tr>\n",
              "    <tr>\n",
              "      <th>...</th>\n",
              "      <td>...</td>\n",
              "      <td>...</td>\n",
              "      <td>...</td>\n",
              "      <td>...</td>\n",
              "      <td>...</td>\n",
              "      <td>...</td>\n",
              "      <td>...</td>\n",
              "      <td>...</td>\n",
              "      <td>...</td>\n",
              "      <td>...</td>\n",
              "      <td>...</td>\n",
              "      <td>...</td>\n",
              "      <td>...</td>\n",
              "      <td>...</td>\n",
              "      <td>...</td>\n",
              "      <td>...</td>\n",
              "      <td>...</td>\n",
              "      <td>...</td>\n",
              "      <td>...</td>\n",
              "      <td>...</td>\n",
              "      <td>...</td>\n",
              "      <td>...</td>\n",
              "      <td>...</td>\n",
              "      <td>...</td>\n",
              "      <td>...</td>\n",
              "      <td>...</td>\n",
              "      <td>...</td>\n",
              "      <td>...</td>\n",
              "      <td>...</td>\n",
              "      <td>...</td>\n",
              "      <td>...</td>\n",
              "      <td>...</td>\n",
              "      <td>...</td>\n",
              "      <td>...</td>\n",
              "      <td>...</td>\n",
              "      <td>...</td>\n",
              "      <td>...</td>\n",
              "      <td>...</td>\n",
              "      <td>...</td>\n",
              "      <td>...</td>\n",
              "      <td>...</td>\n",
              "      <td>...</td>\n",
              "      <td>...</td>\n",
              "      <td>...</td>\n",
              "      <td>...</td>\n",
              "      <td>...</td>\n",
              "      <td>...</td>\n",
              "      <td>...</td>\n",
              "    </tr>\n",
              "    <tr>\n",
              "      <th>474</th>\n",
              "      <td>16.00</td>\n",
              "      <td>14</td>\n",
              "      <td>100</td>\n",
              "      <td>1</td>\n",
              "      <td>27</td>\n",
              "      <td>0</td>\n",
              "      <td>0</td>\n",
              "      <td>0</td>\n",
              "      <td>0</td>\n",
              "      <td>50</td>\n",
              "      <td>4</td>\n",
              "      <td>0</td>\n",
              "      <td>35</td>\n",
              "      <td>50</td>\n",
              "      <td>0.0</td>\n",
              "      <td>572</td>\n",
              "      <td>3.367133</td>\n",
              "      <td>0</td>\n",
              "      <td>-14.285714</td>\n",
              "      <td>19</td>\n",
              "      <td>0</td>\n",
              "      <td>85.5625</td>\n",
              "      <td>1</td>\n",
              "      <td>0</td>\n",
              "      <td>1</td>\n",
              "      <td>0</td>\n",
              "      <td>0</td>\n",
              "      <td>0</td>\n",
              "      <td>0</td>\n",
              "      <td>0</td>\n",
              "      <td>0</td>\n",
              "      <td>0</td>\n",
              "      <td>0</td>\n",
              "      <td>0</td>\n",
              "      <td>0</td>\n",
              "      <td>0</td>\n",
              "      <td>0</td>\n",
              "      <td>0</td>\n",
              "      <td>1</td>\n",
              "      <td>0</td>\n",
              "      <td>0</td>\n",
              "      <td>0</td>\n",
              "      <td>0</td>\n",
              "      <td>0</td>\n",
              "      <td>0</td>\n",
              "      <td>0</td>\n",
              "      <td>0</td>\n",
              "      <td>0</td>\n",
              "    </tr>\n",
              "    <tr>\n",
              "      <th>475</th>\n",
              "      <td>6.00</td>\n",
              "      <td>17</td>\n",
              "      <td>5000</td>\n",
              "      <td>1</td>\n",
              "      <td>817</td>\n",
              "      <td>0</td>\n",
              "      <td>0</td>\n",
              "      <td>0</td>\n",
              "      <td>0</td>\n",
              "      <td>1</td>\n",
              "      <td>2</td>\n",
              "      <td>0</td>\n",
              "      <td>41</td>\n",
              "      <td>50</td>\n",
              "      <td>0.0</td>\n",
              "      <td>50864</td>\n",
              "      <td>4.079644</td>\n",
              "      <td>1</td>\n",
              "      <td>64.705882</td>\n",
              "      <td>16</td>\n",
              "      <td>0</td>\n",
              "      <td>85.5625</td>\n",
              "      <td>0</td>\n",
              "      <td>0</td>\n",
              "      <td>0</td>\n",
              "      <td>1</td>\n",
              "      <td>0</td>\n",
              "      <td>0</td>\n",
              "      <td>0</td>\n",
              "      <td>0</td>\n",
              "      <td>0</td>\n",
              "      <td>0</td>\n",
              "      <td>0</td>\n",
              "      <td>0</td>\n",
              "      <td>0</td>\n",
              "      <td>0</td>\n",
              "      <td>0</td>\n",
              "      <td>0</td>\n",
              "      <td>0</td>\n",
              "      <td>0</td>\n",
              "      <td>0</td>\n",
              "      <td>0</td>\n",
              "      <td>0</td>\n",
              "      <td>0</td>\n",
              "      <td>1</td>\n",
              "      <td>0</td>\n",
              "      <td>0</td>\n",
              "      <td>0</td>\n",
              "    </tr>\n",
              "    <tr>\n",
              "      <th>476</th>\n",
              "      <td>4.83</td>\n",
              "      <td>51</td>\n",
              "      <td>50</td>\n",
              "      <td>1</td>\n",
              "      <td>1</td>\n",
              "      <td>0</td>\n",
              "      <td>0</td>\n",
              "      <td>0</td>\n",
              "      <td>0</td>\n",
              "      <td>3</td>\n",
              "      <td>1</td>\n",
              "      <td>0</td>\n",
              "      <td>39</td>\n",
              "      <td>50</td>\n",
              "      <td>1.0</td>\n",
              "      <td>57</td>\n",
              "      <td>3.824561</td>\n",
              "      <td>0</td>\n",
              "      <td>90.529412</td>\n",
              "      <td>17</td>\n",
              "      <td>0</td>\n",
              "      <td>85.5625</td>\n",
              "      <td>1</td>\n",
              "      <td>0</td>\n",
              "      <td>0</td>\n",
              "      <td>0</td>\n",
              "      <td>0</td>\n",
              "      <td>0</td>\n",
              "      <td>0</td>\n",
              "      <td>0</td>\n",
              "      <td>0</td>\n",
              "      <td>0</td>\n",
              "      <td>0</td>\n",
              "      <td>0</td>\n",
              "      <td>0</td>\n",
              "      <td>0</td>\n",
              "      <td>1</td>\n",
              "      <td>0</td>\n",
              "      <td>0</td>\n",
              "      <td>0</td>\n",
              "      <td>0</td>\n",
              "      <td>0</td>\n",
              "      <td>1</td>\n",
              "      <td>0</td>\n",
              "      <td>0</td>\n",
              "      <td>0</td>\n",
              "      <td>0</td>\n",
              "      <td>0</td>\n",
              "    </tr>\n",
              "    <tr>\n",
              "      <th>477</th>\n",
              "      <td>3.00</td>\n",
              "      <td>3</td>\n",
              "      <td>100</td>\n",
              "      <td>1</td>\n",
              "      <td>8</td>\n",
              "      <td>0</td>\n",
              "      <td>0</td>\n",
              "      <td>0</td>\n",
              "      <td>0</td>\n",
              "      <td>3</td>\n",
              "      <td>1</td>\n",
              "      <td>0</td>\n",
              "      <td>26</td>\n",
              "      <td>50</td>\n",
              "      <td>1.0</td>\n",
              "      <td>1086</td>\n",
              "      <td>4.056169</td>\n",
              "      <td>0</td>\n",
              "      <td>0.000000</td>\n",
              "      <td>17</td>\n",
              "      <td>0</td>\n",
              "      <td>85.5625</td>\n",
              "      <td>0</td>\n",
              "      <td>0</td>\n",
              "      <td>1</td>\n",
              "      <td>0</td>\n",
              "      <td>0</td>\n",
              "      <td>0</td>\n",
              "      <td>0</td>\n",
              "      <td>0</td>\n",
              "      <td>0</td>\n",
              "      <td>0</td>\n",
              "      <td>0</td>\n",
              "      <td>0</td>\n",
              "      <td>0</td>\n",
              "      <td>0</td>\n",
              "      <td>0</td>\n",
              "      <td>0</td>\n",
              "      <td>0</td>\n",
              "      <td>1</td>\n",
              "      <td>0</td>\n",
              "      <td>0</td>\n",
              "      <td>0</td>\n",
              "      <td>0</td>\n",
              "      <td>0</td>\n",
              "      <td>0</td>\n",
              "      <td>0</td>\n",
              "      <td>0</td>\n",
              "    </tr>\n",
              "    <tr>\n",
              "      <th>478</th>\n",
              "      <td>13.00</td>\n",
              "      <td>11</td>\n",
              "      <td>100</td>\n",
              "      <td>1</td>\n",
              "      <td>4</td>\n",
              "      <td>0</td>\n",
              "      <td>0</td>\n",
              "      <td>0</td>\n",
              "      <td>0</td>\n",
              "      <td>29</td>\n",
              "      <td>3</td>\n",
              "      <td>0</td>\n",
              "      <td>42</td>\n",
              "      <td>50</td>\n",
              "      <td>1.0</td>\n",
              "      <td>45151</td>\n",
              "      <td>4.032956</td>\n",
              "      <td>0</td>\n",
              "      <td>-18.181818</td>\n",
              "      <td>19</td>\n",
              "      <td>0</td>\n",
              "      <td>86.0000</td>\n",
              "      <td>0</td>\n",
              "      <td>0</td>\n",
              "      <td>0</td>\n",
              "      <td>0</td>\n",
              "      <td>0</td>\n",
              "      <td>0</td>\n",
              "      <td>0</td>\n",
              "      <td>0</td>\n",
              "      <td>0</td>\n",
              "      <td>0</td>\n",
              "      <td>0</td>\n",
              "      <td>0</td>\n",
              "      <td>0</td>\n",
              "      <td>0</td>\n",
              "      <td>0</td>\n",
              "      <td>1</td>\n",
              "      <td>0</td>\n",
              "      <td>0</td>\n",
              "      <td>1</td>\n",
              "      <td>0</td>\n",
              "      <td>0</td>\n",
              "      <td>0</td>\n",
              "      <td>0</td>\n",
              "      <td>0</td>\n",
              "      <td>0</td>\n",
              "      <td>0</td>\n",
              "    </tr>\n",
              "  </tbody>\n",
              "</table>\n",
              "<p>479 rows × 48 columns</p>\n",
              "</div>\n",
              "      <button class=\"colab-df-convert\" onclick=\"convertToInteractive('df-9a8d8541-29f2-4c88-94bb-a393c0ba71a8')\"\n",
              "              title=\"Convert this dataframe to an interactive table.\"\n",
              "              style=\"display:none;\">\n",
              "        \n",
              "  <svg xmlns=\"http://www.w3.org/2000/svg\" height=\"24px\"viewBox=\"0 0 24 24\"\n",
              "       width=\"24px\">\n",
              "    <path d=\"M0 0h24v24H0V0z\" fill=\"none\"/>\n",
              "    <path d=\"M18.56 5.44l.94 2.06.94-2.06 2.06-.94-2.06-.94-.94-2.06-.94 2.06-2.06.94zm-11 1L8.5 8.5l.94-2.06 2.06-.94-2.06-.94L8.5 2.5l-.94 2.06-2.06.94zm10 10l.94 2.06.94-2.06 2.06-.94-2.06-.94-.94-2.06-.94 2.06-2.06.94z\"/><path d=\"M17.41 7.96l-1.37-1.37c-.4-.4-.92-.59-1.43-.59-.52 0-1.04.2-1.43.59L10.3 9.45l-7.72 7.72c-.78.78-.78 2.05 0 2.83L4 21.41c.39.39.9.59 1.41.59.51 0 1.02-.2 1.41-.59l7.78-7.78 2.81-2.81c.8-.78.8-2.07 0-2.86zM5.41 20L4 18.59l7.72-7.72 1.47 1.35L5.41 20z\"/>\n",
              "  </svg>\n",
              "      </button>\n",
              "      \n",
              "  <style>\n",
              "    .colab-df-container {\n",
              "      display:flex;\n",
              "      flex-wrap:wrap;\n",
              "      gap: 12px;\n",
              "    }\n",
              "\n",
              "    .colab-df-convert {\n",
              "      background-color: #E8F0FE;\n",
              "      border: none;\n",
              "      border-radius: 50%;\n",
              "      cursor: pointer;\n",
              "      display: none;\n",
              "      fill: #1967D2;\n",
              "      height: 32px;\n",
              "      padding: 0 0 0 0;\n",
              "      width: 32px;\n",
              "    }\n",
              "\n",
              "    .colab-df-convert:hover {\n",
              "      background-color: #E2EBFA;\n",
              "      box-shadow: 0px 1px 2px rgba(60, 64, 67, 0.3), 0px 1px 3px 1px rgba(60, 64, 67, 0.15);\n",
              "      fill: #174EA6;\n",
              "    }\n",
              "\n",
              "    [theme=dark] .colab-df-convert {\n",
              "      background-color: #3B4455;\n",
              "      fill: #D2E3FC;\n",
              "    }\n",
              "\n",
              "    [theme=dark] .colab-df-convert:hover {\n",
              "      background-color: #434B5C;\n",
              "      box-shadow: 0px 1px 3px 1px rgba(0, 0, 0, 0.15);\n",
              "      filter: drop-shadow(0px 1px 2px rgba(0, 0, 0, 0.3));\n",
              "      fill: #FFFFFF;\n",
              "    }\n",
              "  </style>\n",
              "\n",
              "      <script>\n",
              "        const buttonEl =\n",
              "          document.querySelector('#df-9a8d8541-29f2-4c88-94bb-a393c0ba71a8 button.colab-df-convert');\n",
              "        buttonEl.style.display =\n",
              "          google.colab.kernel.accessAllowed ? 'block' : 'none';\n",
              "\n",
              "        async function convertToInteractive(key) {\n",
              "          const element = document.querySelector('#df-9a8d8541-29f2-4c88-94bb-a393c0ba71a8');\n",
              "          const dataTable =\n",
              "            await google.colab.kernel.invokeFunction('convertToInteractive',\n",
              "                                                     [key], {});\n",
              "          if (!dataTable) return;\n",
              "\n",
              "          const docLinkHtml = 'Like what you see? Visit the ' +\n",
              "            '<a target=\"_blank\" href=https://colab.research.google.com/notebooks/data_table.ipynb>data table notebook</a>'\n",
              "            + ' to learn more about interactive tables.';\n",
              "          element.innerHTML = '';\n",
              "          dataTable['output_type'] = 'display_data';\n",
              "          await google.colab.output.renderOutput(dataTable, element);\n",
              "          const docLink = document.createElement('div');\n",
              "          docLink.innerHTML = docLinkHtml;\n",
              "          element.appendChild(docLink);\n",
              "        }\n",
              "      </script>\n",
              "    </div>\n",
              "  </div>\n",
              "  "
            ],
            "text/plain": [
              "     price  retail_price  units_sold  ...  size__XXXS  size__XXXXL  size__XXXXXL\n",
              "0     5.75             5          10  ...           0            0             0\n",
              "1     7.00             7        5000  ...           0            0             0\n",
              "2     5.00            16        1000  ...           0            0             0\n",
              "3    18.00            27        5000  ...           0            0             0\n",
              "4    12.00            81       20000  ...           0            0             0\n",
              "..     ...           ...         ...  ...         ...          ...           ...\n",
              "474  16.00            14         100  ...           0            0             0\n",
              "475   6.00            17        5000  ...           0            0             0\n",
              "476   4.83            51          50  ...           0            0             0\n",
              "477   3.00             3         100  ...           0            0             0\n",
              "478  13.00            11         100  ...           0            0             0\n",
              "\n",
              "[479 rows x 48 columns]"
            ]
          },
          "execution_count": 127,
          "metadata": {},
          "output_type": "execute_result"
        }
      ],
      "source": [
        "X_test"
      ]
    },
    {
      "cell_type": "code",
      "execution_count": 128,
      "metadata": {
        "colab": {
          "base_uri": "https://localhost:8080/"
        },
        "id": "G9TFlmSB8qGd",
        "outputId": "982bbedd-090b-4ba6-fbd1-7f967e027abc"
      },
      "outputs": [
        {
          "name": "stdout",
          "output_type": "stream",
          "text": [
            "<class 'pandas.core.frame.DataFrame'>\n",
            "RangeIndex: 1094 entries, 0 to 1093\n",
            "Data columns (total 48 columns):\n",
            " #   Column                        Non-Null Count  Dtype  \n",
            "---  ------                        --------------  -----  \n",
            " 0   price                         1094 non-null   float64\n",
            " 1   retail_price                  1094 non-null   int64  \n",
            " 2   units_sold                    1094 non-null   int64  \n",
            " 3   uses_ad_boosts                1094 non-null   int64  \n",
            " 4   rating_count                  1094 non-null   int64  \n",
            " 5   badges_count                  1094 non-null   int64  \n",
            " 6   badge_local_product           1094 non-null   int64  \n",
            " 7   badge_product_quality         1094 non-null   int64  \n",
            " 8   badge_fast_shipping           1094 non-null   int64  \n",
            " 9   product_variation_inventory   1094 non-null   int64  \n",
            " 10  shipping_option_price         1094 non-null   int64  \n",
            " 11  shipping_is_express           1094 non-null   int64  \n",
            " 12  countries_shipped_to          1094 non-null   int64  \n",
            " 13  inventory_total               1094 non-null   int64  \n",
            " 14  has_urgency_banner            1094 non-null   float64\n",
            " 15  merchant_rating_count         1094 non-null   int64  \n",
            " 16  merchant_rating               1094 non-null   float64\n",
            " 17  merchant_has_profile_picture  1094 non-null   int64  \n",
            " 18  discount_percentage           1094 non-null   float64\n",
            " 19  tags_count                    1094 non-null   int64  \n",
            " 20  merchant_has_feadback_rating  1094 non-null   int64  \n",
            " 21  merchant_positive_percentage  1094 non-null   float64\n",
            " 22  country__Other                1094 non-null   uint8  \n",
            " 23  country__US                   1094 non-null   uint8  \n",
            " 24  color__black                  1094 non-null   uint8  \n",
            " 25  color__blue                   1094 non-null   uint8  \n",
            " 26  color__brown                  1094 non-null   uint8  \n",
            " 27  color__dual                   1094 non-null   uint8  \n",
            " 28  color__green                  1094 non-null   uint8  \n",
            " 29  color__grey                   1094 non-null   uint8  \n",
            " 30  color__multicolor             1094 non-null   uint8  \n",
            " 31  color__orange                 1094 non-null   uint8  \n",
            " 32  color__other                  1094 non-null   uint8  \n",
            " 33  color__pink                   1094 non-null   uint8  \n",
            " 34  color__purple                 1094 non-null   uint8  \n",
            " 35  color__red                    1094 non-null   uint8  \n",
            " 36  color__white                  1094 non-null   uint8  \n",
            " 37  color__yellow                 1094 non-null   uint8  \n",
            " 38  size__M                       1094 non-null   uint8  \n",
            " 39  size__Other                   1094 non-null   uint8  \n",
            " 40  size__S                       1094 non-null   uint8  \n",
            " 41  size__XL                      1094 non-null   uint8  \n",
            " 42  size__XS                      1094 non-null   uint8  \n",
            " 43  size__XXL                     1094 non-null   uint8  \n",
            " 44  size__XXS                     1094 non-null   uint8  \n",
            " 45  size__XXXS                    1094 non-null   uint8  \n",
            " 46  size__XXXXL                   1094 non-null   uint8  \n",
            " 47  size__XXXXXL                  1094 non-null   uint8  \n",
            "dtypes: float64(5), int64(17), uint8(26)\n",
            "memory usage: 215.9 KB\n"
          ]
        }
      ],
      "source": [
        "X_train.info()"
      ]
    },
    {
      "cell_type": "code",
      "execution_count": 128,
      "metadata": {
        "id": "ncvt1jos9SPd"
      },
      "outputs": [],
      "source": []
    },
    {
      "cell_type": "markdown",
      "metadata": {
        "id": "c5dCmv4NGp6M"
      },
      "source": [
        "# Spliting data\n"
      ]
    },
    {
      "cell_type": "code",
      "execution_count": 129,
      "metadata": {
        "id": "EQLyxeq2FLdN"
      },
      "outputs": [],
      "source": [
        "from sklearn.model_selection import train_test_split\n",
        "\n",
        "# spliting the train data into new train and test to fit the models using the new train and test them using the new test\n",
        "X_tr, X_ts, y_tr, y_ts = train_test_split(X_train, y_train, random_state=25, test_size=0.1)\n"
      ]
    },
    {
      "cell_type": "code",
      "execution_count": 130,
      "metadata": {
        "colab": {
          "base_uri": "https://localhost:8080/",
          "height": 0
        },
        "id": "pPNQCnPhFMIL",
        "outputId": "e1e96077-b13d-49e0-ecda-c4f5626b53c1"
      },
      "outputs": [
        {
          "data": {
            "text/html": [
              "\n",
              "  <div id=\"df-54f23808-defe-4c36-b0cb-97bab4eb4266\">\n",
              "    <div class=\"colab-df-container\">\n",
              "      <div>\n",
              "<style scoped>\n",
              "    .dataframe tbody tr th:only-of-type {\n",
              "        vertical-align: middle;\n",
              "    }\n",
              "\n",
              "    .dataframe tbody tr th {\n",
              "        vertical-align: top;\n",
              "    }\n",
              "\n",
              "    .dataframe thead th {\n",
              "        text-align: right;\n",
              "    }\n",
              "</style>\n",
              "<table border=\"1\" class=\"dataframe\">\n",
              "  <thead>\n",
              "    <tr style=\"text-align: right;\">\n",
              "      <th></th>\n",
              "      <th>price</th>\n",
              "      <th>retail_price</th>\n",
              "      <th>units_sold</th>\n",
              "      <th>uses_ad_boosts</th>\n",
              "      <th>rating_count</th>\n",
              "      <th>badges_count</th>\n",
              "      <th>badge_local_product</th>\n",
              "      <th>badge_product_quality</th>\n",
              "      <th>badge_fast_shipping</th>\n",
              "      <th>product_variation_inventory</th>\n",
              "      <th>shipping_option_price</th>\n",
              "      <th>shipping_is_express</th>\n",
              "      <th>countries_shipped_to</th>\n",
              "      <th>inventory_total</th>\n",
              "      <th>has_urgency_banner</th>\n",
              "      <th>merchant_rating_count</th>\n",
              "      <th>merchant_rating</th>\n",
              "      <th>merchant_has_profile_picture</th>\n",
              "      <th>discount_percentage</th>\n",
              "      <th>tags_count</th>\n",
              "      <th>merchant_has_feadback_rating</th>\n",
              "      <th>merchant_positive_percentage</th>\n",
              "      <th>country__Other</th>\n",
              "      <th>country__US</th>\n",
              "      <th>color__black</th>\n",
              "      <th>color__blue</th>\n",
              "      <th>color__brown</th>\n",
              "      <th>color__dual</th>\n",
              "      <th>color__green</th>\n",
              "      <th>color__grey</th>\n",
              "      <th>color__multicolor</th>\n",
              "      <th>color__orange</th>\n",
              "      <th>color__other</th>\n",
              "      <th>color__pink</th>\n",
              "      <th>color__purple</th>\n",
              "      <th>color__red</th>\n",
              "      <th>color__white</th>\n",
              "      <th>color__yellow</th>\n",
              "      <th>size__M</th>\n",
              "      <th>size__Other</th>\n",
              "      <th>size__S</th>\n",
              "      <th>size__XL</th>\n",
              "      <th>size__XS</th>\n",
              "      <th>size__XXL</th>\n",
              "      <th>size__XXS</th>\n",
              "      <th>size__XXXS</th>\n",
              "      <th>size__XXXXL</th>\n",
              "      <th>size__XXXXXL</th>\n",
              "    </tr>\n",
              "  </thead>\n",
              "  <tbody>\n",
              "    <tr>\n",
              "      <th>153</th>\n",
              "      <td>8.00</td>\n",
              "      <td>7</td>\n",
              "      <td>1000</td>\n",
              "      <td>0</td>\n",
              "      <td>234</td>\n",
              "      <td>0</td>\n",
              "      <td>0</td>\n",
              "      <td>0</td>\n",
              "      <td>0</td>\n",
              "      <td>3</td>\n",
              "      <td>3</td>\n",
              "      <td>0</td>\n",
              "      <td>27</td>\n",
              "      <td>50</td>\n",
              "      <td>1.0</td>\n",
              "      <td>47356</td>\n",
              "      <td>4.056888</td>\n",
              "      <td>0</td>\n",
              "      <td>-14.285714</td>\n",
              "      <td>21</td>\n",
              "      <td>1</td>\n",
              "      <td>86.000000</td>\n",
              "      <td>0</td>\n",
              "      <td>0</td>\n",
              "      <td>0</td>\n",
              "      <td>0</td>\n",
              "      <td>0</td>\n",
              "      <td>0</td>\n",
              "      <td>0</td>\n",
              "      <td>0</td>\n",
              "      <td>0</td>\n",
              "      <td>0</td>\n",
              "      <td>0</td>\n",
              "      <td>0</td>\n",
              "      <td>1</td>\n",
              "      <td>0</td>\n",
              "      <td>0</td>\n",
              "      <td>0</td>\n",
              "      <td>0</td>\n",
              "      <td>0</td>\n",
              "      <td>0</td>\n",
              "      <td>0</td>\n",
              "      <td>1</td>\n",
              "      <td>0</td>\n",
              "      <td>0</td>\n",
              "      <td>0</td>\n",
              "      <td>0</td>\n",
              "      <td>0</td>\n",
              "    </tr>\n",
              "    <tr>\n",
              "      <th>952</th>\n",
              "      <td>3.65</td>\n",
              "      <td>9</td>\n",
              "      <td>100</td>\n",
              "      <td>1</td>\n",
              "      <td>8</td>\n",
              "      <td>2</td>\n",
              "      <td>1</td>\n",
              "      <td>0</td>\n",
              "      <td>1</td>\n",
              "      <td>1</td>\n",
              "      <td>1</td>\n",
              "      <td>0</td>\n",
              "      <td>81</td>\n",
              "      <td>50</td>\n",
              "      <td>0.0</td>\n",
              "      <td>8888</td>\n",
              "      <td>4.243249</td>\n",
              "      <td>0</td>\n",
              "      <td>59.444444</td>\n",
              "      <td>17</td>\n",
              "      <td>1</td>\n",
              "      <td>91.000000</td>\n",
              "      <td>0</td>\n",
              "      <td>0</td>\n",
              "      <td>0</td>\n",
              "      <td>0</td>\n",
              "      <td>0</td>\n",
              "      <td>0</td>\n",
              "      <td>1</td>\n",
              "      <td>0</td>\n",
              "      <td>0</td>\n",
              "      <td>0</td>\n",
              "      <td>0</td>\n",
              "      <td>0</td>\n",
              "      <td>0</td>\n",
              "      <td>0</td>\n",
              "      <td>0</td>\n",
              "      <td>0</td>\n",
              "      <td>0</td>\n",
              "      <td>0</td>\n",
              "      <td>0</td>\n",
              "      <td>0</td>\n",
              "      <td>0</td>\n",
              "      <td>0</td>\n",
              "      <td>1</td>\n",
              "      <td>0</td>\n",
              "      <td>0</td>\n",
              "      <td>0</td>\n",
              "    </tr>\n",
              "    <tr>\n",
              "      <th>186</th>\n",
              "      <td>3.00</td>\n",
              "      <td>7</td>\n",
              "      <td>100</td>\n",
              "      <td>1</td>\n",
              "      <td>6</td>\n",
              "      <td>0</td>\n",
              "      <td>0</td>\n",
              "      <td>0</td>\n",
              "      <td>0</td>\n",
              "      <td>5</td>\n",
              "      <td>1</td>\n",
              "      <td>0</td>\n",
              "      <td>19</td>\n",
              "      <td>50</td>\n",
              "      <td>0.0</td>\n",
              "      <td>1284</td>\n",
              "      <td>3.975078</td>\n",
              "      <td>0</td>\n",
              "      <td>57.142857</td>\n",
              "      <td>27</td>\n",
              "      <td>1</td>\n",
              "      <td>85.000000</td>\n",
              "      <td>0</td>\n",
              "      <td>0</td>\n",
              "      <td>0</td>\n",
              "      <td>0</td>\n",
              "      <td>0</td>\n",
              "      <td>0</td>\n",
              "      <td>0</td>\n",
              "      <td>1</td>\n",
              "      <td>0</td>\n",
              "      <td>0</td>\n",
              "      <td>0</td>\n",
              "      <td>0</td>\n",
              "      <td>0</td>\n",
              "      <td>0</td>\n",
              "      <td>0</td>\n",
              "      <td>0</td>\n",
              "      <td>0</td>\n",
              "      <td>0</td>\n",
              "      <td>0</td>\n",
              "      <td>0</td>\n",
              "      <td>1</td>\n",
              "      <td>0</td>\n",
              "      <td>0</td>\n",
              "      <td>0</td>\n",
              "      <td>0</td>\n",
              "      <td>0</td>\n",
              "    </tr>\n",
              "    <tr>\n",
              "      <th>295</th>\n",
              "      <td>11.00</td>\n",
              "      <td>10</td>\n",
              "      <td>50000</td>\n",
              "      <td>0</td>\n",
              "      <td>13488</td>\n",
              "      <td>0</td>\n",
              "      <td>0</td>\n",
              "      <td>0</td>\n",
              "      <td>0</td>\n",
              "      <td>50</td>\n",
              "      <td>3</td>\n",
              "      <td>0</td>\n",
              "      <td>31</td>\n",
              "      <td>50</td>\n",
              "      <td>0.0</td>\n",
              "      <td>17816</td>\n",
              "      <td>4.179445</td>\n",
              "      <td>1</td>\n",
              "      <td>-10.000000</td>\n",
              "      <td>13</td>\n",
              "      <td>0</td>\n",
              "      <td>85.441676</td>\n",
              "      <td>0</td>\n",
              "      <td>0</td>\n",
              "      <td>1</td>\n",
              "      <td>0</td>\n",
              "      <td>0</td>\n",
              "      <td>0</td>\n",
              "      <td>0</td>\n",
              "      <td>0</td>\n",
              "      <td>0</td>\n",
              "      <td>0</td>\n",
              "      <td>0</td>\n",
              "      <td>0</td>\n",
              "      <td>0</td>\n",
              "      <td>0</td>\n",
              "      <td>0</td>\n",
              "      <td>0</td>\n",
              "      <td>0</td>\n",
              "      <td>0</td>\n",
              "      <td>1</td>\n",
              "      <td>0</td>\n",
              "      <td>0</td>\n",
              "      <td>0</td>\n",
              "      <td>0</td>\n",
              "      <td>0</td>\n",
              "      <td>0</td>\n",
              "      <td>0</td>\n",
              "    </tr>\n",
              "    <tr>\n",
              "      <th>964</th>\n",
              "      <td>9.00</td>\n",
              "      <td>57</td>\n",
              "      <td>1000</td>\n",
              "      <td>0</td>\n",
              "      <td>146</td>\n",
              "      <td>0</td>\n",
              "      <td>0</td>\n",
              "      <td>0</td>\n",
              "      <td>0</td>\n",
              "      <td>50</td>\n",
              "      <td>3</td>\n",
              "      <td>0</td>\n",
              "      <td>71</td>\n",
              "      <td>50</td>\n",
              "      <td>0.0</td>\n",
              "      <td>14442</td>\n",
              "      <td>4.143055</td>\n",
              "      <td>0</td>\n",
              "      <td>84.210526</td>\n",
              "      <td>19</td>\n",
              "      <td>0</td>\n",
              "      <td>85.441676</td>\n",
              "      <td>0</td>\n",
              "      <td>1</td>\n",
              "      <td>1</td>\n",
              "      <td>0</td>\n",
              "      <td>0</td>\n",
              "      <td>0</td>\n",
              "      <td>0</td>\n",
              "      <td>0</td>\n",
              "      <td>0</td>\n",
              "      <td>0</td>\n",
              "      <td>0</td>\n",
              "      <td>0</td>\n",
              "      <td>0</td>\n",
              "      <td>0</td>\n",
              "      <td>0</td>\n",
              "      <td>0</td>\n",
              "      <td>0</td>\n",
              "      <td>0</td>\n",
              "      <td>1</td>\n",
              "      <td>0</td>\n",
              "      <td>0</td>\n",
              "      <td>0</td>\n",
              "      <td>0</td>\n",
              "      <td>0</td>\n",
              "      <td>0</td>\n",
              "      <td>0</td>\n",
              "    </tr>\n",
              "    <tr>\n",
              "      <th>...</th>\n",
              "      <td>...</td>\n",
              "      <td>...</td>\n",
              "      <td>...</td>\n",
              "      <td>...</td>\n",
              "      <td>...</td>\n",
              "      <td>...</td>\n",
              "      <td>...</td>\n",
              "      <td>...</td>\n",
              "      <td>...</td>\n",
              "      <td>...</td>\n",
              "      <td>...</td>\n",
              "      <td>...</td>\n",
              "      <td>...</td>\n",
              "      <td>...</td>\n",
              "      <td>...</td>\n",
              "      <td>...</td>\n",
              "      <td>...</td>\n",
              "      <td>...</td>\n",
              "      <td>...</td>\n",
              "      <td>...</td>\n",
              "      <td>...</td>\n",
              "      <td>...</td>\n",
              "      <td>...</td>\n",
              "      <td>...</td>\n",
              "      <td>...</td>\n",
              "      <td>...</td>\n",
              "      <td>...</td>\n",
              "      <td>...</td>\n",
              "      <td>...</td>\n",
              "      <td>...</td>\n",
              "      <td>...</td>\n",
              "      <td>...</td>\n",
              "      <td>...</td>\n",
              "      <td>...</td>\n",
              "      <td>...</td>\n",
              "      <td>...</td>\n",
              "      <td>...</td>\n",
              "      <td>...</td>\n",
              "      <td>...</td>\n",
              "      <td>...</td>\n",
              "      <td>...</td>\n",
              "      <td>...</td>\n",
              "      <td>...</td>\n",
              "      <td>...</td>\n",
              "      <td>...</td>\n",
              "      <td>...</td>\n",
              "      <td>...</td>\n",
              "      <td>...</td>\n",
              "    </tr>\n",
              "    <tr>\n",
              "      <th>255</th>\n",
              "      <td>5.95</td>\n",
              "      <td>6</td>\n",
              "      <td>100</td>\n",
              "      <td>1</td>\n",
              "      <td>48</td>\n",
              "      <td>0</td>\n",
              "      <td>0</td>\n",
              "      <td>0</td>\n",
              "      <td>0</td>\n",
              "      <td>2</td>\n",
              "      <td>2</td>\n",
              "      <td>0</td>\n",
              "      <td>26</td>\n",
              "      <td>50</td>\n",
              "      <td>1.0</td>\n",
              "      <td>2363</td>\n",
              "      <td>3.853576</td>\n",
              "      <td>0</td>\n",
              "      <td>0.833333</td>\n",
              "      <td>22</td>\n",
              "      <td>1</td>\n",
              "      <td>81.000000</td>\n",
              "      <td>0</td>\n",
              "      <td>1</td>\n",
              "      <td>0</td>\n",
              "      <td>0</td>\n",
              "      <td>0</td>\n",
              "      <td>0</td>\n",
              "      <td>0</td>\n",
              "      <td>0</td>\n",
              "      <td>0</td>\n",
              "      <td>0</td>\n",
              "      <td>0</td>\n",
              "      <td>0</td>\n",
              "      <td>0</td>\n",
              "      <td>0</td>\n",
              "      <td>0</td>\n",
              "      <td>1</td>\n",
              "      <td>0</td>\n",
              "      <td>0</td>\n",
              "      <td>0</td>\n",
              "      <td>0</td>\n",
              "      <td>0</td>\n",
              "      <td>0</td>\n",
              "      <td>1</td>\n",
              "      <td>0</td>\n",
              "      <td>0</td>\n",
              "      <td>0</td>\n",
              "    </tr>\n",
              "    <tr>\n",
              "      <th>886</th>\n",
              "      <td>8.00</td>\n",
              "      <td>140</td>\n",
              "      <td>10000</td>\n",
              "      <td>1</td>\n",
              "      <td>1910</td>\n",
              "      <td>0</td>\n",
              "      <td>0</td>\n",
              "      <td>0</td>\n",
              "      <td>0</td>\n",
              "      <td>50</td>\n",
              "      <td>3</td>\n",
              "      <td>0</td>\n",
              "      <td>19</td>\n",
              "      <td>50</td>\n",
              "      <td>1.0</td>\n",
              "      <td>2050</td>\n",
              "      <td>4.167805</td>\n",
              "      <td>0</td>\n",
              "      <td>94.285714</td>\n",
              "      <td>23</td>\n",
              "      <td>1</td>\n",
              "      <td>88.000000</td>\n",
              "      <td>0</td>\n",
              "      <td>0</td>\n",
              "      <td>0</td>\n",
              "      <td>1</td>\n",
              "      <td>0</td>\n",
              "      <td>0</td>\n",
              "      <td>0</td>\n",
              "      <td>0</td>\n",
              "      <td>0</td>\n",
              "      <td>0</td>\n",
              "      <td>0</td>\n",
              "      <td>0</td>\n",
              "      <td>0</td>\n",
              "      <td>0</td>\n",
              "      <td>0</td>\n",
              "      <td>0</td>\n",
              "      <td>0</td>\n",
              "      <td>0</td>\n",
              "      <td>1</td>\n",
              "      <td>0</td>\n",
              "      <td>0</td>\n",
              "      <td>0</td>\n",
              "      <td>0</td>\n",
              "      <td>0</td>\n",
              "      <td>0</td>\n",
              "      <td>0</td>\n",
              "    </tr>\n",
              "    <tr>\n",
              "      <th>143</th>\n",
              "      <td>6.00</td>\n",
              "      <td>6</td>\n",
              "      <td>5000</td>\n",
              "      <td>0</td>\n",
              "      <td>901</td>\n",
              "      <td>1</td>\n",
              "      <td>0</td>\n",
              "      <td>1</td>\n",
              "      <td>0</td>\n",
              "      <td>50</td>\n",
              "      <td>2</td>\n",
              "      <td>0</td>\n",
              "      <td>31</td>\n",
              "      <td>50</td>\n",
              "      <td>0.0</td>\n",
              "      <td>9486</td>\n",
              "      <td>4.176998</td>\n",
              "      <td>1</td>\n",
              "      <td>0.000000</td>\n",
              "      <td>25</td>\n",
              "      <td>1</td>\n",
              "      <td>89.000000</td>\n",
              "      <td>0</td>\n",
              "      <td>0</td>\n",
              "      <td>1</td>\n",
              "      <td>0</td>\n",
              "      <td>0</td>\n",
              "      <td>0</td>\n",
              "      <td>0</td>\n",
              "      <td>0</td>\n",
              "      <td>0</td>\n",
              "      <td>0</td>\n",
              "      <td>0</td>\n",
              "      <td>0</td>\n",
              "      <td>0</td>\n",
              "      <td>0</td>\n",
              "      <td>0</td>\n",
              "      <td>0</td>\n",
              "      <td>0</td>\n",
              "      <td>0</td>\n",
              "      <td>0</td>\n",
              "      <td>0</td>\n",
              "      <td>1</td>\n",
              "      <td>0</td>\n",
              "      <td>0</td>\n",
              "      <td>0</td>\n",
              "      <td>0</td>\n",
              "      <td>0</td>\n",
              "    </tr>\n",
              "    <tr>\n",
              "      <th>474</th>\n",
              "      <td>5.74</td>\n",
              "      <td>5</td>\n",
              "      <td>5000</td>\n",
              "      <td>0</td>\n",
              "      <td>1179</td>\n",
              "      <td>0</td>\n",
              "      <td>0</td>\n",
              "      <td>0</td>\n",
              "      <td>0</td>\n",
              "      <td>6</td>\n",
              "      <td>2</td>\n",
              "      <td>0</td>\n",
              "      <td>20</td>\n",
              "      <td>50</td>\n",
              "      <td>0.0</td>\n",
              "      <td>11854</td>\n",
              "      <td>4.094905</td>\n",
              "      <td>0</td>\n",
              "      <td>-14.800000</td>\n",
              "      <td>19</td>\n",
              "      <td>1</td>\n",
              "      <td>87.000000</td>\n",
              "      <td>0</td>\n",
              "      <td>0</td>\n",
              "      <td>0</td>\n",
              "      <td>0</td>\n",
              "      <td>0</td>\n",
              "      <td>0</td>\n",
              "      <td>1</td>\n",
              "      <td>0</td>\n",
              "      <td>0</td>\n",
              "      <td>0</td>\n",
              "      <td>0</td>\n",
              "      <td>0</td>\n",
              "      <td>0</td>\n",
              "      <td>0</td>\n",
              "      <td>0</td>\n",
              "      <td>0</td>\n",
              "      <td>0</td>\n",
              "      <td>0</td>\n",
              "      <td>0</td>\n",
              "      <td>0</td>\n",
              "      <td>1</td>\n",
              "      <td>0</td>\n",
              "      <td>0</td>\n",
              "      <td>0</td>\n",
              "      <td>0</td>\n",
              "      <td>0</td>\n",
              "    </tr>\n",
              "    <tr>\n",
              "      <th>318</th>\n",
              "      <td>11.00</td>\n",
              "      <td>43</td>\n",
              "      <td>10000</td>\n",
              "      <td>0</td>\n",
              "      <td>2521</td>\n",
              "      <td>0</td>\n",
              "      <td>0</td>\n",
              "      <td>0</td>\n",
              "      <td>0</td>\n",
              "      <td>50</td>\n",
              "      <td>3</td>\n",
              "      <td>0</td>\n",
              "      <td>35</td>\n",
              "      <td>50</td>\n",
              "      <td>0.0</td>\n",
              "      <td>15502</td>\n",
              "      <td>4.115275</td>\n",
              "      <td>0</td>\n",
              "      <td>74.418605</td>\n",
              "      <td>14</td>\n",
              "      <td>1</td>\n",
              "      <td>88.000000</td>\n",
              "      <td>0</td>\n",
              "      <td>0</td>\n",
              "      <td>1</td>\n",
              "      <td>0</td>\n",
              "      <td>0</td>\n",
              "      <td>0</td>\n",
              "      <td>0</td>\n",
              "      <td>0</td>\n",
              "      <td>0</td>\n",
              "      <td>0</td>\n",
              "      <td>0</td>\n",
              "      <td>0</td>\n",
              "      <td>0</td>\n",
              "      <td>0</td>\n",
              "      <td>0</td>\n",
              "      <td>0</td>\n",
              "      <td>1</td>\n",
              "      <td>0</td>\n",
              "      <td>0</td>\n",
              "      <td>0</td>\n",
              "      <td>0</td>\n",
              "      <td>0</td>\n",
              "      <td>0</td>\n",
              "      <td>0</td>\n",
              "      <td>0</td>\n",
              "      <td>0</td>\n",
              "    </tr>\n",
              "  </tbody>\n",
              "</table>\n",
              "<p>984 rows × 48 columns</p>\n",
              "</div>\n",
              "      <button class=\"colab-df-convert\" onclick=\"convertToInteractive('df-54f23808-defe-4c36-b0cb-97bab4eb4266')\"\n",
              "              title=\"Convert this dataframe to an interactive table.\"\n",
              "              style=\"display:none;\">\n",
              "        \n",
              "  <svg xmlns=\"http://www.w3.org/2000/svg\" height=\"24px\"viewBox=\"0 0 24 24\"\n",
              "       width=\"24px\">\n",
              "    <path d=\"M0 0h24v24H0V0z\" fill=\"none\"/>\n",
              "    <path d=\"M18.56 5.44l.94 2.06.94-2.06 2.06-.94-2.06-.94-.94-2.06-.94 2.06-2.06.94zm-11 1L8.5 8.5l.94-2.06 2.06-.94-2.06-.94L8.5 2.5l-.94 2.06-2.06.94zm10 10l.94 2.06.94-2.06 2.06-.94-2.06-.94-.94-2.06-.94 2.06-2.06.94z\"/><path d=\"M17.41 7.96l-1.37-1.37c-.4-.4-.92-.59-1.43-.59-.52 0-1.04.2-1.43.59L10.3 9.45l-7.72 7.72c-.78.78-.78 2.05 0 2.83L4 21.41c.39.39.9.59 1.41.59.51 0 1.02-.2 1.41-.59l7.78-7.78 2.81-2.81c.8-.78.8-2.07 0-2.86zM5.41 20L4 18.59l7.72-7.72 1.47 1.35L5.41 20z\"/>\n",
              "  </svg>\n",
              "      </button>\n",
              "      \n",
              "  <style>\n",
              "    .colab-df-container {\n",
              "      display:flex;\n",
              "      flex-wrap:wrap;\n",
              "      gap: 12px;\n",
              "    }\n",
              "\n",
              "    .colab-df-convert {\n",
              "      background-color: #E8F0FE;\n",
              "      border: none;\n",
              "      border-radius: 50%;\n",
              "      cursor: pointer;\n",
              "      display: none;\n",
              "      fill: #1967D2;\n",
              "      height: 32px;\n",
              "      padding: 0 0 0 0;\n",
              "      width: 32px;\n",
              "    }\n",
              "\n",
              "    .colab-df-convert:hover {\n",
              "      background-color: #E2EBFA;\n",
              "      box-shadow: 0px 1px 2px rgba(60, 64, 67, 0.3), 0px 1px 3px 1px rgba(60, 64, 67, 0.15);\n",
              "      fill: #174EA6;\n",
              "    }\n",
              "\n",
              "    [theme=dark] .colab-df-convert {\n",
              "      background-color: #3B4455;\n",
              "      fill: #D2E3FC;\n",
              "    }\n",
              "\n",
              "    [theme=dark] .colab-df-convert:hover {\n",
              "      background-color: #434B5C;\n",
              "      box-shadow: 0px 1px 3px 1px rgba(0, 0, 0, 0.15);\n",
              "      filter: drop-shadow(0px 1px 2px rgba(0, 0, 0, 0.3));\n",
              "      fill: #FFFFFF;\n",
              "    }\n",
              "  </style>\n",
              "\n",
              "      <script>\n",
              "        const buttonEl =\n",
              "          document.querySelector('#df-54f23808-defe-4c36-b0cb-97bab4eb4266 button.colab-df-convert');\n",
              "        buttonEl.style.display =\n",
              "          google.colab.kernel.accessAllowed ? 'block' : 'none';\n",
              "\n",
              "        async function convertToInteractive(key) {\n",
              "          const element = document.querySelector('#df-54f23808-defe-4c36-b0cb-97bab4eb4266');\n",
              "          const dataTable =\n",
              "            await google.colab.kernel.invokeFunction('convertToInteractive',\n",
              "                                                     [key], {});\n",
              "          if (!dataTable) return;\n",
              "\n",
              "          const docLinkHtml = 'Like what you see? Visit the ' +\n",
              "            '<a target=\"_blank\" href=https://colab.research.google.com/notebooks/data_table.ipynb>data table notebook</a>'\n",
              "            + ' to learn more about interactive tables.';\n",
              "          element.innerHTML = '';\n",
              "          dataTable['output_type'] = 'display_data';\n",
              "          await google.colab.output.renderOutput(dataTable, element);\n",
              "          const docLink = document.createElement('div');\n",
              "          docLink.innerHTML = docLinkHtml;\n",
              "          element.appendChild(docLink);\n",
              "        }\n",
              "      </script>\n",
              "    </div>\n",
              "  </div>\n",
              "  "
            ],
            "text/plain": [
              "     price  retail_price  units_sold  ...  size__XXXS  size__XXXXL  size__XXXXXL\n",
              "153   8.00             7        1000  ...           0            0             0\n",
              "952   3.65             9         100  ...           0            0             0\n",
              "186   3.00             7         100  ...           0            0             0\n",
              "295  11.00            10       50000  ...           0            0             0\n",
              "964   9.00            57        1000  ...           0            0             0\n",
              "..     ...           ...         ...  ...         ...          ...           ...\n",
              "255   5.95             6         100  ...           0            0             0\n",
              "886   8.00           140       10000  ...           0            0             0\n",
              "143   6.00             6        5000  ...           0            0             0\n",
              "474   5.74             5        5000  ...           0            0             0\n",
              "318  11.00            43       10000  ...           0            0             0\n",
              "\n",
              "[984 rows x 48 columns]"
            ]
          },
          "execution_count": 130,
          "metadata": {},
          "output_type": "execute_result"
        }
      ],
      "source": [
        "X_tr"
      ]
    },
    {
      "cell_type": "markdown",
      "metadata": {
        "id": "sxvsAUv19ghG"
      },
      "source": [
        "# Building Models"
      ]
    },
    {
      "cell_type": "code",
      "execution_count": 131,
      "metadata": {
        "id": "a89qXFTx-72e"
      },
      "outputs": [],
      "source": [
        "from sklearn.metrics import confusion_matrix, accuracy_score, f1_score\n",
        "from sklearn.tree import DecisionTreeClassifier\n",
        "from sklearn.svm import SVC\n",
        "from sklearn.model_selection import GridSearchCV"
      ]
    },
    {
      "cell_type": "markdown",
      "metadata": {
        "id": "gm9vJHHx-LgP"
      },
      "source": [
        "## Decision Tree #1"
      ]
    },
    {
      "cell_type": "markdown",
      "metadata": {
        "id": "Z-oDQ8b77e-Q"
      },
      "source": [
        "thoughts and observations for trial 0, plan for trial 1: \n",
        "<br/>\n",
        "<br/>\n",
        "I used Decision tree with its defualt hyperparameter as the first try and I drop these features ['currency_buyer', 'theme', 'crawl_month', 'id', 'merchant_profile_picture' 'merchant_title', 'merchant_name', 'merchant_info_subtitle', 'merchant_id', 'shipping_option_name', 'tags']\n",
        "<br/>\n",
        "<br/>\n",
        "Also I used the Lable Encoder for Data Encoding \n",
        "<br/>\n",
        "<br/>\n",
        "I didn't excepect a high accuracy as I use the defualt parameters\n",
        "\n"
      ]
    },
    {
      "cell_type": "code",
      "execution_count": 132,
      "metadata": {
        "colab": {
          "base_uri": "https://localhost:8080/"
        },
        "id": "FH36YQ629iYe",
        "outputId": "a22a608d-842d-4a81-f5fe-72cd837de99f"
      },
      "outputs": [
        {
          "data": {
            "text/plain": [
              "0.5137338747485747"
            ]
          },
          "execution_count": 132,
          "metadata": {},
          "output_type": "execute_result"
        }
      ],
      "source": [
        "r_state = 43\n",
        "classifier_DTC = DecisionTreeClassifier(random_state = r_state)\n",
        "classifier_DTC.fit(X_tr, y_tr)\n",
        "\n",
        "# test the classifier\n",
        "f1_score(y_ts, classifier_DTC.predict(X_ts), average='macro')"
      ]
    },
    {
      "cell_type": "code",
      "execution_count": 133,
      "metadata": {
        "id": "IqaDmzxt8OPS"
      },
      "outputs": [],
      "source": [
        "# predict on test data set that provided on the competition\n",
        "y_pred_DTC = classifier_DTC.predict(X_test)"
      ]
    },
    {
      "cell_type": "code",
      "execution_count": 134,
      "metadata": {
        "id": "RKFqkL1uGOIR"
      },
      "outputs": [],
      "source": [
        "# Save predicted result to csv file\n",
        "\n",
        "DTC_pred_df = pd.DataFrame(data={'id': np.asarray(test['id']), 'rating': y_pred_DTC})\n",
        "\n",
        "DTC_pred_df.to_csv('pred_DTC1.csv', index=False)"
      ]
    },
    {
      "cell_type": "markdown",
      "metadata": {
        "id": "7uPQfNH5-YZe"
      },
      "source": [
        "## Decision Tree #2"
      ]
    },
    {
      "cell_type": "markdown",
      "metadata": {
        "id": "PnPiV692Paxt"
      },
      "source": [
        "thoughts and observations for trial 1, plan for trial 2: \n",
        "<br/>\n",
        "<br/>\n",
        "in the seconed try, I used Decision tree with GridSearchCV function to get the best hyperparameters that give the better accuracy. I droped the same features as the previous step in addition to this feature 'urgency_text'\n",
        "<br/>\n",
        "<br/>\n",
        "Also I used the Lable Encoder for Data Encoding in this try\n",
        "<br/>\n",
        "<br/>\n",
        "I excepect a higher accuracy in compare to the previous trial\n",
        "\n"
      ]
    },
    {
      "cell_type": "code",
      "execution_count": 135,
      "metadata": {
        "colab": {
          "base_uri": "https://localhost:8080/"
        },
        "id": "UCPibQvP-bot",
        "outputId": "f32318eb-b6f1-44cf-dc61-664f4657ba67"
      },
      "outputs": [
        {
          "name": "stderr",
          "output_type": "stream",
          "text": [
            "/usr/local/lib/python3.7/dist-packages/sklearn/model_selection/_split.py:680: UserWarning: The least populated class in y has only 2 members, which is less than n_splits=10.\n",
            "  UserWarning,\n"
          ]
        },
        {
          "name": "stdout",
          "output_type": "stream",
          "text": [
            "{'criterion': 'entropy', 'max_depth': 4}\n"
          ]
        }
      ],
      "source": [
        "param_grid_DTC = [{'criterion': ['gini', 'entropy'],'max_depth': list(range(4, 15, 1))}]\n",
        "\n",
        "classifier_DTC2 = GridSearchCV(DecisionTreeClassifier(), param_grid_DTC, cv=10)\n",
        "classifier_DTC2.fit(X_tr, y_tr)\n",
        "\n",
        "print(classifier_DTC2.best_params_)"
      ]
    },
    {
      "cell_type": "code",
      "execution_count": 136,
      "metadata": {
        "colab": {
          "base_uri": "https://localhost:8080/"
        },
        "id": "J12Vtj8y57Uk",
        "outputId": "472605d9-f3f4-4e7b-f825-c71431bc2fec"
      },
      "outputs": [
        {
          "data": {
            "text/plain": [
              "0.8000000000000002"
            ]
          },
          "execution_count": 136,
          "metadata": {},
          "output_type": "execute_result"
        }
      ],
      "source": [
        "# test the classifier \n",
        "f1_score(y_ts, classifier_DTC2.predict(X_ts), average='micro')"
      ]
    },
    {
      "cell_type": "code",
      "execution_count": 137,
      "metadata": {
        "id": "lAe59WxA8wUU"
      },
      "outputs": [],
      "source": [
        "# predict on test data set that provided on the competition\n",
        "y_pred_DTC2 = classifier_DTC2.predict(X_test)"
      ]
    },
    {
      "cell_type": "code",
      "execution_count": 138,
      "metadata": {
        "id": "Tev5syN30eLT"
      },
      "outputs": [],
      "source": [
        "# Save predicted result to csv file\n",
        "\n",
        "DTC_pred2_df = pd.DataFrame(data={'id': np.asarray(test['id']), 'rating': y_pred_DTC2})\n",
        "\n",
        "DTC_pred2_df.to_csv('pred_DTC2.csv', index=False)"
      ]
    },
    {
      "cell_type": "markdown",
      "metadata": {
        "id": "lsZLkWbv-ckm"
      },
      "source": [
        "## SVM #1"
      ]
    },
    {
      "cell_type": "markdown",
      "metadata": {
        "id": "NWDYaO2PQs1Z"
      },
      "source": [
        "thoughts and observations for trial 2, plan for trial 3: \n",
        "<br/>\n",
        "<br/>\n",
        "In the third try, I used SVM classifier with its defualt hyperparameters. and I droped the same features as the previous trial\n",
        "<br/>\n",
        "<br/>\n",
        "In this trial, I used the One Hot Encoding for Data Encoding instead of Lable Encoder\n",
        "<br/>\n",
        "<br/>\n",
        "I didn't excepect a high accuracy as I use the defualt parameters\n",
        "\n"
      ]
    },
    {
      "cell_type": "code",
      "execution_count": 139,
      "metadata": {
        "colab": {
          "base_uri": "https://localhost:8080/"
        },
        "id": "83ue5V2P-g8d",
        "outputId": "0a9149df-a58f-400d-e2cf-c9fc794b5873"
      },
      "outputs": [
        {
          "data": {
            "text/plain": [
              "0.7363636363636363"
            ]
          },
          "execution_count": 139,
          "metadata": {},
          "output_type": "execute_result"
        }
      ],
      "source": [
        "\n",
        "classifier_SVC = SVC()\n",
        "classifier_SVC.fit(X_tr, y_tr)\n",
        "\n",
        "# test the classifier \n",
        "f1_score(y_ts, classifier_SVC.predict(X_ts), average='micro')"
      ]
    },
    {
      "cell_type": "code",
      "execution_count": 140,
      "metadata": {
        "id": "Gpo4spJ59M_B"
      },
      "outputs": [],
      "source": [
        "# predict on test data set that provided on the competition\n",
        "y_pred_SVC = classifier_SVC.predict(X_test)"
      ]
    },
    {
      "cell_type": "code",
      "execution_count": 141,
      "metadata": {
        "id": "EfAGrOMVHq3B"
      },
      "outputs": [],
      "source": [
        "# Save predicted result to csv file\n",
        "\n",
        "SVC_pred_df = pd.DataFrame(data={'id': np.asarray(test['id']), 'rating': y_pred_SVC})\n",
        "\n",
        "SVC_pred_df.to_csv('pred_SVC1.csv', index=False)"
      ]
    },
    {
      "cell_type": "markdown",
      "metadata": {
        "id": "Mq3AW3xs-hm2"
      },
      "source": [
        "## SVM #2"
      ]
    },
    {
      "cell_type": "markdown",
      "metadata": {
        "id": "N4w2jcRJSxXG"
      },
      "source": [
        "thoughts and observations for trial 3, plan for trial 4: \n",
        "<br/>\n",
        "<br/>\n",
        "in the fourth try, I used SVM classifier with GridSearchCV function to get the best hyperparameters that give the better accuracy. I droped the same features as the previous step \n",
        "<br/>\n",
        "<br/>\n",
        "Also I used the One Hot Encoding for Data Encoding instead of Lable Encoder\n",
        "<br>\n",
        "And before using the function of GridSearchCV I scale the data by using MinMaxScaler() and founded that it takes too much time while the model runs. So, I normalized the data instead and work on it as normalized data\n",
        "<br/>\n",
        "<br/>\n",
        "I excepect a higher accuracy in compare to the previous trial\n",
        "\n"
      ]
    },
    {
      "cell_type": "code",
      "execution_count": 142,
      "metadata": {
        "id": "CKdcQCBwnNmT"
      },
      "outputs": [],
      "source": [
        "from sklearn import preprocessing\n",
        "from sklearn.preprocessing import MinMaxScaler\n",
        "\n",
        "# normalize all data\n",
        "X_tr_normalized = preprocessing.normalize(X_tr)\n",
        "X_tr_normalized = pd.DataFrame(X_tr_normalized, columns=X_tr.columns)\n",
        "\n",
        "X_ts_normalized = preprocessing.normalize(X_ts)\n",
        "X_ts_normalized = pd.DataFrame(X_ts_normalized, columns=X_ts.columns)\n",
        "\n",
        "X_test_normalized = preprocessing.normalize(X_test)\n",
        "X_test_normalized = pd.DataFrame(X_test_normalized, columns=X_test.columns)\n",
        "\n",
        "# define min max scaler\n",
        "scaler = MinMaxScaler()\n",
        "\n",
        "X_tr_scaled = scaler.fit_transform(X_tr)\n",
        "X_tr_scaled = pd.DataFrame(X_tr_scaled, columns=X_tr.columns)\n",
        "\n",
        "X_ts_scaled = scaler.fit_transform(X_ts)\n",
        "X_ts_scaled = pd.DataFrame(X_ts_scaled, columns=X_ts.columns)\n",
        "\n",
        "X_test_scaled = scaler.fit_transform(X_test)\n",
        "X_test_scaled = pd.DataFrame(X_test_scaled, columns=X_test.columns)\n",
        "\n"
      ]
    },
    {
      "cell_type": "code",
      "execution_count": 143,
      "metadata": {
        "colab": {
          "base_uri": "https://localhost:8080/"
        },
        "id": "vAe_Mx3O-npt",
        "outputId": "9b76f9e4-ca3f-4a7e-f6fb-75e48517814d"
      },
      "outputs": [
        {
          "name": "stderr",
          "output_type": "stream",
          "text": [
            "/usr/local/lib/python3.7/dist-packages/sklearn/model_selection/_split.py:680: UserWarning: The least populated class in y has only 2 members, which is less than n_splits=5.\n",
            "  UserWarning,\n"
          ]
        },
        {
          "name": "stdout",
          "output_type": "stream",
          "text": [
            "{'C': 200, 'degree': 1, 'gamma': 1, 'kernel': 'rbf'}\n"
          ]
        }
      ],
      "source": [
        "param_grid_SVC = {\n",
        "    'C': [0.001, 0.01, 0.1, 1, 10, 100, 200],\n",
        "    'kernel': ['linear', 'rbf', 'poly'],\n",
        "    'degree': [1, 2, 3, 4, 5, 6],\n",
        "    'gamma': [0.1, 0.5, 0.7, 1]\n",
        "}\n",
        "grid_classifier_SVC = GridSearchCV(SVC(probability=True), param_grid_SVC)\n",
        "grid_classifier_SVC.fit(X_tr_normalized, y_tr)\n",
        "\n",
        "print(grid_classifier_SVC.best_params_)\n",
        "\n",
        "# best hyperparameters with scaled data\n",
        "# {'C': 0.1, 'degree': 2, 'gamma': 0.7, 'kernel': 'poly'}\n",
        "# f1_score: 0.7090909090909091 \n",
        "\n",
        "# best hyperparameters with normalized data\n",
        "# {'C': 200, 'degree': 1, 'gamma': 1, 'kernel': 'rbf'}\n",
        "# f1_score: 0.7545454545454545"
      ]
    },
    {
      "cell_type": "code",
      "execution_count": 144,
      "metadata": {
        "colab": {
          "base_uri": "https://localhost:8080/"
        },
        "id": "S4i5eu9M_TFr",
        "outputId": "f0aa98da-15da-4cb4-aa14-4cd704d41120"
      },
      "outputs": [
        {
          "data": {
            "text/plain": [
              "0.7545454545454545"
            ]
          },
          "execution_count": 144,
          "metadata": {},
          "output_type": "execute_result"
        }
      ],
      "source": [
        "# test the classifier\n",
        "f1_score(y_ts, grid_classifier_SVC.predict(X_ts_normalized), average='micro')"
      ]
    },
    {
      "cell_type": "code",
      "execution_count": 145,
      "metadata": {
        "id": "R8PfeI5V_G9j"
      },
      "outputs": [],
      "source": [
        "# predict on test data set that provided on the competition\n",
        "y_pred_SVC2 = grid_classifier_SVC.predict(X_test_normalized)"
      ]
    },
    {
      "cell_type": "code",
      "execution_count": 146,
      "metadata": {
        "id": "oAqUh2l__yRD"
      },
      "outputs": [],
      "source": [
        "# Save predicted result to csv file\n",
        "\n",
        "SVC2_pred_df = pd.DataFrame(data={'id': np.asarray(test['id']), 'rating': y_pred_SVC2})\n",
        "\n",
        "SVC2_pred_df.to_csv('pred_SVC2.csv', index=False)"
      ]
    },
    {
      "cell_type": "markdown",
      "metadata": {
        "id": "vzcoH1Xs-t4e"
      },
      "source": [
        "## Naive Bayesian"
      ]
    },
    {
      "cell_type": "markdown",
      "metadata": {
        "id": "irQ3BMW-4Usq"
      },
      "source": [
        "thoughts and observations for trial 4, plan for trial 5: \n",
        "<br/>\n",
        "<br/>\n",
        "In the fourth try, I used Naive Bayesian classifier. and I droped the same features as the previous trials\n",
        "<br/>\n",
        "<br/>\n",
        "Also, I used the One Hot Encoding for Data Encoding instead of Lable Encoder\n",
        "<br/>\n",
        "<br/>\n",
        "I didn't excepect a high accuracy while using this classifier\n",
        "\n"
      ]
    },
    {
      "cell_type": "code",
      "execution_count": 147,
      "metadata": {
        "colab": {
          "base_uri": "https://localhost:8080/"
        },
        "id": "HyVufCdYrwml",
        "outputId": "b9544abe-fa6f-4703-b388-401f08351465"
      },
      "outputs": [
        {
          "data": {
            "text/plain": [
              "0.4909090909090909"
            ]
          },
          "execution_count": 147,
          "metadata": {},
          "output_type": "execute_result"
        }
      ],
      "source": [
        "from sklearn.naive_bayes import GaussianNB\n",
        "\n",
        "classifier_GNB = GaussianNB()\n",
        "classifier_GNB.fit(X_tr, y_tr)\n",
        "\n",
        "# test the classifier\n",
        "f1_score(y_ts, classifier_GNB.predict(X_ts), average='micro')\n"
      ]
    },
    {
      "cell_type": "code",
      "execution_count": 148,
      "metadata": {
        "id": "AnZFMMVb_Txg"
      },
      "outputs": [],
      "source": [
        "# predict on test data set that provided on the competition\n",
        "y_pred_GNB = classifier_GNB.predict(X_test)"
      ]
    },
    {
      "cell_type": "code",
      "execution_count": 149,
      "metadata": {
        "id": "z-hwUlfdrw3b"
      },
      "outputs": [],
      "source": [
        "# Save predicted result to csv file\n",
        "\n",
        "GNB_pred_df = pd.DataFrame(data={'id': np.asarray(test['id']), 'rating': y_pred_GNB})\n",
        "\n",
        "GNB_pred_df.to_csv('pred_GNB.csv', index=False)"
      ]
    },
    {
      "cell_type": "markdown",
      "metadata": {
        "id": "zVAItKT2r1FL"
      },
      "source": [
        "## Gradient Boosting"
      ]
    },
    {
      "cell_type": "code",
      "execution_count": 150,
      "metadata": {
        "colab": {
          "base_uri": "https://localhost:8080/"
        },
        "id": "xV0XfrD5-vx-",
        "outputId": "f13ed4a3-8b0f-433a-b781-be77a1761b96"
      },
      "outputs": [
        {
          "data": {
            "text/plain": [
              "0.7909090909090909"
            ]
          },
          "execution_count": 150,
          "metadata": {},
          "output_type": "execute_result"
        }
      ],
      "source": [
        "from sklearn.ensemble import GradientBoostingClassifier\n",
        "\n",
        "classifier_GBC = GradientBoostingClassifier(random_state = 3)\n",
        "classifier_GBC.fit(X_tr, y_tr)\n",
        "\n",
        "# test the classifier\n",
        "f1_score(y_ts, classifier_GBC.predict(X_ts), average='micro')"
      ]
    },
    {
      "cell_type": "code",
      "execution_count": 151,
      "metadata": {
        "id": "M1sefXSV_hsT"
      },
      "outputs": [],
      "source": [
        "# predict on test data set that provided on the competition\n",
        "y_pred_GBC = classifier_GBC.predict(X_test)"
      ]
    },
    {
      "cell_type": "code",
      "execution_count": 152,
      "metadata": {
        "id": "SYzMeS1OJP3C"
      },
      "outputs": [],
      "source": [
        "# Save predicted result to csv file\n",
        "\n",
        "GBC_pred_df = pd.DataFrame(data={'id': np.asarray(test['id']), 'rating': y_pred_GBC})\n",
        "\n",
        "GBC_pred_df.to_csv('pred_GBC.csv', index=False)"
      ]
    },
    {
      "cell_type": "code",
      "execution_count": 152,
      "metadata": {
        "id": "skyxlX_9Ja4g"
      },
      "outputs": [],
      "source": []
    },
    {
      "cell_type": "markdown",
      "metadata": {
        "id": "uvZNdWpl06ZJ"
      },
      "source": [
        "## Random Forest"
      ]
    },
    {
      "cell_type": "code",
      "execution_count": 153,
      "metadata": {
        "colab": {
          "base_uri": "https://localhost:8080/"
        },
        "id": "cmF0msa21C7w",
        "outputId": "954ed188-7485-439b-cac9-3f36dc4da751"
      },
      "outputs": [
        {
          "data": {
            "text/plain": [
              "0.8090909090909091"
            ]
          },
          "execution_count": 153,
          "metadata": {},
          "output_type": "execute_result"
        }
      ],
      "source": [
        "from sklearn.ensemble import RandomForestClassifier\n",
        "\n",
        "clf = RandomForestClassifier(random_state=5)\n",
        "clf.fit(X_tr, y_tr)\n",
        "\n",
        "y_pred_RF = clf.predict(X_test)\n",
        "\n",
        "f1_score(y_ts, clf.predict(X_ts), average='micro')"
      ]
    },
    {
      "cell_type": "code",
      "execution_count": 154,
      "metadata": {
        "id": "-2EOWzhQ6Fd1"
      },
      "outputs": [],
      "source": [
        "# Save predicted result to csv file\n",
        "\n",
        "RF_pred_df = pd.DataFrame(data={'id': np.asarray(test['id']), 'rating': y_pred_RF})\n",
        "\n",
        "RF_pred_df.to_csv('pred_RF.csv', index=False)"
      ]
    },
    {
      "cell_type": "code",
      "execution_count": 155,
      "metadata": {
        "colab": {
          "base_uri": "https://localhost:8080/",
          "height": 1000
        },
        "id": "n38jEv8b1WLe",
        "outputId": "c8fd27f4-c845-4aa4-e19b-40a69f741d68"
      },
      "outputs": [
        {
          "data": {
            "text/plain": [
              "<matplotlib.axes._subplots.AxesSubplot at 0x7f09b21241d0>"
            ]
          },
          "execution_count": 155,
          "metadata": {},
          "output_type": "execute_result"
        },
        {
          "data": {
            "image/png": "[encoded data removed]",
            "text/plain": [
              "<Figure size 1800x1800 with 1 Axes>"
            ]
          },
          "metadata": {
            "needs_background": "light"
          },
          "output_type": "display_data"
        }
      ],
      "source": [
        "# Check importance feature\n",
        "features = pd.DataFrame()\n",
        "features['feature'] = X_train.columns\n",
        "features['importance'] = clf.feature_importances_\n",
        "features.sort_values(by=['importance'], ascending=True, inplace=True)\n",
        "features.set_index('feature', inplace=True)\n",
        "\n",
        "features.plot(kind='barh', figsize=(25, 25))"
      ]
    },
    {
      "cell_type": "markdown",
      "metadata": {
        "id": "V-NoPJrJbL9h"
      },
      "source": [
        "## KNN"
      ]
    },
    {
      "cell_type": "code",
      "execution_count": 156,
      "metadata": {
        "colab": {
          "base_uri": "https://localhost:8080/"
        },
        "id": "_zxaO641bMXw",
        "outputId": "f1fc7f7c-e521-4558-f691-c99933d31405"
      },
      "outputs": [
        {
          "data": {
            "text/plain": [
              "0.7090909090909091"
            ]
          },
          "execution_count": 156,
          "metadata": {},
          "output_type": "execute_result"
        }
      ],
      "source": [
        "from sklearn.neighbors import KNeighborsClassifier\n",
        "\n",
        "classifier_KNN = KNeighborsClassifier()\n",
        "classifier_KNN.fit(X_tr, y_tr)\n",
        "\n",
        "# test the classifier\n",
        "f1_score(y_ts, classifier_KNN.predict(X_ts), average='micro')"
      ]
    },
    {
      "cell_type": "code",
      "execution_count": 157,
      "metadata": {
        "colab": {
          "base_uri": "https://localhost:8080/"
        },
        "id": "H5nNDKxReQTs",
        "outputId": "366f302b-1a2d-4e6f-e341-fb0477132f71"
      },
      "outputs": [
        {
          "name": "stderr",
          "output_type": "stream",
          "text": [
            "/usr/local/lib/python3.7/dist-packages/sklearn/model_selection/_split.py:680: UserWarning: The least populated class in y has only 2 members, which is less than n_splits=10.\n",
            "  UserWarning,\n"
          ]
        },
        {
          "data": {
            "text/plain": [
              "GridSearchCV(cv=10, estimator=KNeighborsClassifier(),\n",
              "             param_grid={'n_neighbors': [1, 2, 3, 4, 5, 6, 7, 8, 9, 10, 11, 12,\n",
              "                                         13, 14, 15, 16, 17, 18, 19, 20, 21, 22,\n",
              "                                         23, 24, 25, 26, 27, 28, 29, 30],\n",
              "                         'weights': ['uniform', 'distance']},\n",
              "             scoring='f1_micro')"
            ]
          },
          "execution_count": 157,
          "metadata": {},
          "output_type": "execute_result"
        }
      ],
      "source": [
        "k_range = list(range(1,31))\n",
        "weight_options = [\"uniform\", \"distance\"]\n",
        "\n",
        "param_grid_KNN = dict(n_neighbors = k_range, weights = weight_options)\n",
        "#print (param_grid)\n",
        "knn = KNeighborsClassifier()\n",
        "\n",
        "grid_classifier_KNN = GridSearchCV(knn, param_grid_KNN, cv = 10, scoring = 'f1_micro')\n",
        "grid_classifier_KNN.fit(X_tr, y_tr)"
      ]
    },
    {
      "cell_type": "code",
      "execution_count": 158,
      "metadata": {
        "colab": {
          "base_uri": "https://localhost:8080/"
        },
        "id": "7r5Te5zhfF39",
        "outputId": "e881487f-869a-4d2d-c69b-8849f2483820"
      },
      "outputs": [
        {
          "name": "stdout",
          "output_type": "stream",
          "text": [
            "{'n_neighbors': 26, 'weights': 'distance'}\n"
          ]
        }
      ],
      "source": [
        "print(grid_classifier_KNN.best_params_)"
      ]
    },
    {
      "cell_type": "code",
      "execution_count": 159,
      "metadata": {
        "colab": {
          "base_uri": "https://localhost:8080/"
        },
        "id": "30pr8mNsfMAL",
        "outputId": "7a77fd8d-ea92-405e-e5b8-a38902f8e96d"
      },
      "outputs": [
        {
          "data": {
            "text/plain": [
              "0.7454545454545455"
            ]
          },
          "execution_count": 159,
          "metadata": {},
          "output_type": "execute_result"
        }
      ],
      "source": [
        "f1_score(y_ts, grid_classifier_KNN.predict(X_ts), average='micro')"
      ]
    },
    {
      "cell_type": "code",
      "execution_count": 160,
      "metadata": {
        "id": "_fA5cQZDbnUy"
      },
      "outputs": [],
      "source": [
        "# predict on test data set that provided on the competition\n",
        "y_pred_KNN = grid_classifier_KNN.predict(X_test)"
      ]
    },
    {
      "cell_type": "code",
      "execution_count": 161,
      "metadata": {
        "id": "YRCbCnEicPL_"
      },
      "outputs": [],
      "source": [
        "# Save predicted result to csv file\n",
        "\n",
        "KNN_pred_df = pd.DataFrame(data={'id': np.asarray(test['id']), 'rating': y_pred_KNN})\n",
        "\n",
        "KNN_pred_df.to_csv('pred_KNN.csv', index=False)"
      ]
    },
    {
      "cell_type": "markdown",
      "metadata": {
        "id": "os5YUiTX2UT5"
      },
      "source": [
        "# Questions"
      ]
    },
    {
      "cell_type": "markdown",
      "metadata": {
        "id": "D_AJ5LIz2Vz4"
      },
      "source": [
        "## Why Data Mining is a misnomer? What is another preferred name?\n",
        "\n"
      ]
    },
    {
      "cell_type": "markdown",
      "metadata": {
        "id": "_SKwq3M22WBI"
      },
      "source": [
        "*  The Data Mining is a misnomer because the goal is the extraction of patterns and knowledge from large amounts of data, not the extraction (mining) of data itself.\n",
        "\n",
        "*  The other preffered name for data mining is: Knowledge discovery (mining) in databases (KDD), \n",
        "knowledge extraction, data/pattern analysis, data \n",
        "archeology, data dredging, information harvesting, \n",
        "business intelligence, etc.\n",
        "<br/>\n",
        "\n",
        "The resource of the first part of the question is Wikipedia: https://en.wikipedia.org/wiki/Data_mining#:~:text=Data%20mining%20is%20the%20analysis,databases%22%20process%2C%20or%20KDD.&text=The%20term%20%22data%20mining%22%20is,(mining)%20of%20data%20itself. \n"
      ]
    },
    {
      "cell_type": "markdown",
      "metadata": {
        "id": "BSVJ0pbN2WNa"
      },
      "source": [
        "## What is the general knowledge discovery process? What is the difference between a data engineer and data scientist/AI engineer?"
      ]
    },
    {
      "cell_type": "markdown",
      "metadata": {
        "id": "QALa0PDz2qHU"
      },
      "source": [
        "*  the general knowledge discovery process represents in finding/discovering useful knowledge/information from data.\n",
        "\n",
        "*  **A data scientist** builds(develop) machine learning models on IDE’s while **an AI engineer** builds a deployable version of the model built by data scientists and integrates these models with the end product. AI engineers are also responsible for building secure web service APIs for deploying models if required.\n",
        "\n",
        "resourse: https://www.springboard.com/blog/data-science/data-scientist-vs-artificial-intelligence-engineer/#:~:text=A%20data%20scientist%20builds%20machine,for%20deploying%20models%20if%20required."
      ]
    },
    {
      "cell_type": "markdown",
      "metadata": {
        "id": "NYEqPag02qKZ"
      },
      "source": [
        "## In data mining, what is the difference between prediction and categorization?"
      ]
    },
    {
      "cell_type": "markdown",
      "metadata": {
        "id": "dQZEq3Xc20z4"
      },
      "source": [
        "**Categorization/Classification** is the process of identifying the category or class label of the new observation to which it belongs. **Predication** is the process of identifying the missing or unavailable numerical data for a new observation."
      ]
    },
    {
      "cell_type": "markdown",
      "metadata": {
        "id": "e98ZUbZm22OE"
      },
      "source": [
        "## Why data science/machine learning is a bad idea in the context of information security?"
      ]
    },
    {
      "cell_type": "markdown",
      "metadata": {
        "id": "fanM0fTb22Wk"
      },
      "source": [
        "Because of the Security/Ethical Issues that related to AI-based/DS-based projects and represented in:\n",
        "\n",
        "* Backdoor attack\n",
        "* Adversarial samples\n",
        "* Information leak\n",
        "* Stealing neural network\n",
        "* Membership inference\n",
        "* Ethical issue"
      ]
    },
    {
      "cell_type": "markdown",
      "metadata": {
        "id": "wIBgQfw022nh"
      },
      "source": [
        "## What is CIA principle and how can we use it to access the security/privacy aspect of the AI system/pipelines?"
      ]
    },
    {
      "cell_type": "markdown",
      "metadata": {
        "id": "S72cKFUH22xI"
      },
      "source": [
        "* CIA - Confidentiality, Integrity and Availability.\n",
        "* The CIA is a model designed to guide policies for information security within an organization.\n",
        "* Another definition: The CIA Triad is actually a security model that has been developed to help people think about various parts of IT security.\n",
        "\n",
        "<br/>\n",
        "\n",
        "We can use CIA to access the security/privacy aspect of the AI system/pipelines through break the confidentiality as it is the set of rules that limits access to information, the integrity as it is the assurance that the information is trustworthy and accurate, and the availability as it is the guarantee of reliable access to the information by authorized people.\n",
        "\n",
        "<br/>\n",
        "<br/>\n",
        "resorces: \n",
        "\n",
        "*  https://whatis.techtarget.com/definition/Confidentiality-integrity-and-availability-CIA\n",
        "\n",
        "\n",
        "*  https://www.forcepoint.com/cyber-edu/cia-triad  "
      ]
    }
  ],
  "metadata": {
    "accelerator": "GPU",
    "colab": {
      "collapsed_sections": [
        "_Qb_l1yLY5EV",
        "EG7iwHNbO_HM",
        "Lh4P8Pf2RtC7",
        "4yjhAPTaTYgP",
        "yzijuPO0fkKC",
        "_Qo-uOPBfrje",
        "tk5h3pkt4xDE",
        "bttE2FqkDcug",
        "c5dCmv4NGp6M",
        "gm9vJHHx-LgP",
        "lsZLkWbv-ckm",
        "vzcoH1Xs-t4e",
        "NYEqPag02qKZ"
      ],
      "name": "Assignment 1 - v2.ipynb",
      "provenance": []
    },
    "kernelspec": {
      "display_name": "Python 3",
      "name": "python3"
    },
    "language_info": {
      "name": "python"
    }
  },
  "nbformat": 4,
  "nbformat_minor": 0
}
